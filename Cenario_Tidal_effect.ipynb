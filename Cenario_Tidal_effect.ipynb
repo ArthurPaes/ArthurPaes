{
  "cells": [
    {
      "cell_type": "markdown",
      "metadata": {
        "id": "view-in-github",
        "colab_type": "text"
      },
      "source": [
        "<a href=\"https://colab.research.google.com/github/ArthurPaes/ArthurPaes/blob/main/Cenario_Tidal_effect.ipynb\" target=\"_parent\"><img src=\"https://colab.research.google.com/assets/colab-badge.svg\" alt=\"Open In Colab\"/></a>"
      ]
    },
    {
      "cell_type": "code",
      "execution_count": null,
      "metadata": {
        "id": "QMDcX7vcr9is"
      },
      "outputs": [],
      "source": [
        "import pandas as pd\n",
        "import numpy as np\n",
        "import random\n",
        "import random #\n",
        "import matplotlib.pyplot as plt\n",
        "from copy import copy\n",
        "\n",
        "StationBase = pd.DataFrame(columns = [\"ID\",\"X\",\"Y\",\"RP\",\"Fr\",\"B\",\"U\",\"VU\",\"D\",\"PRB\",\"PRB_F\",\"F\",\"C\",\"I\",\"CoB\",\"H\"],) #antenas small\n",
        "StationMacro = pd.DataFrame(columns = [\"ID\",\"X\",\"Y\",\"RP\",\"Fr\",\"B\",\"U\",\"VU\",\"D\",\"PRB\",\"PRB_F\",\"F\",\"C\",\"I\",\"CoB\",\"H\"]) #antena macro\n",
        "Usuarios = pd.DataFrame(columns=[\"ID\", \"X\", \"Y\", \"DR\",\"R_DR\",\"EB\",\n",
        "            \"PRB\",\"CQI\",\"SINR\",\"C\",\"M\",\n",
        "            \"ES\"]) #usuários\n",
        "\n",
        "#ID - Identidade\n",
        "#X  - Posicao no eixo X\n",
        "#Y  - Posicaoo no eixo Y\n",
        "#RP - Potência de transmissão\n",
        "#DR = 0 - Taxa de dados\n",
        "#B  - Banda Total\n",
        "#U  - Total de Usuários\n",
        "#VU - Usuarios Conectados\n",
        "#D  - Estação base conectada\n",
        "#R_DR - Taxa de dados requerida\n",
        "#EB = 0 - Esta��o base #Estação base na qual o user está conectado\n",
        "#PRB = 0  - Total de PRBs (quantidade de canais)\n",
        "#PRB_F  - Total de PRBs disponiveis\n",
        "#CQI = 0  - Indicador de Qualidade do Canal\n",
        "#SINR = 0 - Rela��o Sinal/Ruido\n",
        "#C = false  - Usuario conectado?\n",
        "#M  - Momento.\n",
        "#ES = 0;  - 1 = Micro || 2 == Macro\n",
        "#CoB  - Metros (Euclidiana) #raio de alcance\n",
        "#H  - altura antena"
      ]
    },
    {
      "cell_type": "markdown",
      "metadata": {
        "id": "xqZGTbzyJIUr"
      },
      "source": [
        "**Cria os Usuarios de acordo com o Vetor de distribuição**"
      ]
    },
    {
      "cell_type": "code",
      "execution_count": null,
      "metadata": {
        "id": "KIXHJcu4JReK"
      },
      "outputs": [],
      "source": [
        "def criarusuarios(U,X,Y,df):\n",
        "  # U: quantidade de usuário a serem criados\n",
        "  # X: Número de limite superior para uma função de criaçao de usuários de forma aleatória \"X\":random.randint(0,X)\n",
        "  # Y: Número de limite superior para uma função de criaçao de usuários de forma aleatória \"Y\":random.randint(0,Y),\n",
        "  # df: Data frame de usuários criado no primeiro bloco de código\n",
        "\n",
        "  #Vetor de distribuição que simula o efeito de maré - Quantidade de usuários varia de acordo com os momentos\n",
        "  D=[1.46, 1.12, 0.91, 0.78, 0.64, 0.48, 0.34, 0.25, 0.23, 0.29, 0.5, 0.93,\n",
        "    1.42, 1.5, 1.19, 1, 1.21, 1.45, 1.39, 1.23, 1.17, 1.32, 1.57, 1.62]\n",
        "\n",
        "  V = D/np.sqrt(np.linalg.norm(D)) #normaliza os valores para ficarem entre 0 e 1\n",
        "  T=400*1024 # Taxa Requerida do usuário--> 400 Kbps\n",
        "  TU =[] #array da quantidade de usuários ativos em um dado momento (1hora de 24hrs)\n",
        "  userID=1 #ID inicial, será incrementado em 1 na finalização de criação de cada usuário\n",
        "  for j in range(0,24):\n",
        "    UN=U*V[j] #quantidade de usuários ativos em um dado momento\n",
        "    TU.append(UN)\n",
        "    for i in range(int(UN)): #itera sobre os users naquele momento\n",
        "      df = df.append({\"ID\":userID,\n",
        "                      \"X\":random.randint(0,X),\n",
        "                      \"Y\":random.randint(0,Y),\n",
        "                      \"R_DR\":T,\"M\":j},\n",
        "                      ignore_index=True)\n",
        "      userID+=1\n",
        "    userID=1 #id de usuário é reinicializado - mesmo usuario em diferentes momentos\n",
        "  return df,TU"
      ]
    },
    {
      "cell_type": "markdown",
      "metadata": {
        "id": "7JY8SMjTEG-O"
      },
      "source": [
        "**Cria as micros ou SmallCells**"
      ]
    },
    {
      "cell_type": "code",
      "execution_count": null,
      "metadata": {
        "id": "Ug1SEu6hciPy"
      },
      "outputs": [],
      "source": [
        "#Cria as micros ou SmallCells\n",
        "\n",
        "def CriarSmall(S,X,Y,df):\n",
        "  #S número de smal cells (antenas menores) a serem criadas\n",
        "  #X Número de limite superior da posição X para uma função de criaçao de smalls\n",
        "  #Y Número de limite superior da posição Y para uma função de criaçao de smalls\n",
        "  #df Data frame de Small cells(StationBase nesse caso) criado no primeiro bloco de código\n",
        "\n",
        "  SC = []\n",
        "  Px = np.linspace(0,X,S)\n",
        "  Py = np.linspace(0,Y,S)\n",
        "\n",
        "  smallCellId =1\n",
        "  for i in range(S):\n",
        "    for j in range(S): #transforma em matriz - Duplica o número de S passado\n",
        "      df = df.append({\"ID\":smallCellId,\n",
        "                      \"X\":Px[i],\n",
        "                      \"Y\":Py[j],\n",
        "                      \"RP\":33, # dBm\n",
        "                      \"Fr\":2.4e9, # 2.4 GHz\n",
        "                      \"D\":True,\n",
        "                      \"PRB\":50,\n",
        "                      \"PRB_F\":50,\n",
        "                      \"B\":18e6, # 18 MHz #banda total\n",
        "                      \"C\":0,\n",
        "                      \"CoB\":300, # Metros (Euclidiana) #raio de alcance\n",
        "                      \"H\":16 #altura antena\n",
        "                      },\n",
        "                      ignore_index=True)\n",
        "      smallCellId+=1\n",
        "\n",
        "  return df\n",
        "\n"
      ]
    },
    {
      "cell_type": "markdown",
      "metadata": {
        "id": "6JTZfT38cUKl"
      },
      "source": [
        "**Criar Macros**"
      ]
    },
    {
      "cell_type": "code",
      "execution_count": null,
      "metadata": {
        "id": "okpSrDJSEjcT"
      },
      "outputs": [],
      "source": [
        "def CriarMacros(M,df):\n",
        "  #quando user nao conseguir conectar na Small cell(micro), usuário é jogado para a macro\n",
        "  #M: Quantidade de Macros a serem criadas\n",
        "  #df: Data frame de Macros (StationMacro) criado no primeiro bloco de código\n",
        "\n",
        "  Px = np.linspace(0,1000, num=M)\n",
        "  Py = np.linspace(0,1000, num=M)\n",
        "\n",
        "  for i in range(M):\n",
        "    for j in range(M):\n",
        "      df = df.append({\"ID\":i+1, #df = dataframe\n",
        "                      \"X\":1000,\n",
        "                      \"Y\":1000,\n",
        "                      \"RP\":43, # dBm\n",
        "                      \"Fr\":3.5e9, # 3.5 GHz\n",
        "                      \"D\":True,\n",
        "                      \"PRB\":100,\n",
        "                      \"PRB_F\":100,\n",
        "                      \"B\":18e6, # 18 MHz\n",
        "                      \"C\":0,\n",
        "                      \"CoB\":4000, # Metros (Euclidiana) #raio de alcance\n",
        "                      \"H\":20\n",
        "                      },\n",
        "                      ignore_index=True) #padrao do pandas\n",
        "\n",
        "  return df"
      ]
    },
    {
      "cell_type": "markdown",
      "metadata": {
        "id": "cFUfnd7fpHbt"
      },
      "source": [
        "**Calculo de capacidade do canal**"
      ]
    },
    {
      "cell_type": "code",
      "execution_count": null,
      "metadata": {
        "id": "0fOStRzopHuL"
      },
      "outputs": [],
      "source": [
        "import math\n",
        "from numpy.ma.core import log10\n",
        "import numpy\n",
        "\n",
        "Pw=0\n",
        "\n",
        "def CalculodeCanal(U,S,Small):\n",
        "  #Para cada usuário, a função calcula todas as antenas.\n",
        "  #U - Cada linha do dataframe de usuario, ou seja cada user\n",
        "  #S - Cada linha do dataframe de small cells, ou seja cada small(antena)\n",
        "  #small - Data frame de small cells(no caso, StationBase)\n",
        "\n",
        "  #Calcula a distancia do usuario para cada antena\n",
        "  D=(((U.loc['X']-S.loc['X'])**2) + ((U.loc['Y']-S.loc['Y'])**2))**0.5      #distancia de Euclides\n",
        "\n",
        "  #verifica se a distancia do user para a antena é menor ou igual o raio de alcance da antena (se for, a antena \"cobre\" o usuário) e se a antena está ligada\n",
        "  if(D <= S.loc[\"CoB\"] and S.loc[\"D\"]):\n",
        "\n",
        "    WN = 7.4e-13        # Ru�do Branco (CORRIGIR)\n",
        "    I = 0               # Interferencia gerada por outras c�lulas\n",
        "    D0 = 100            #\n",
        "    Sv = 9.4\n",
        "    V = 3e8\n",
        "    L = V/S.loc[\"Fr\"]\n",
        "    Hr = 1.2\n",
        "    Hb = S.loc[\"H\"]\n",
        "    E = 16\n",
        "    Fr = S.loc[\"Fr\"]\n",
        "\n",
        "    #Parametros de cenario\n",
        "    #tipo de terreno\n",
        "    a = 3.6\n",
        "    b = 0.005\n",
        "    C = 20\n",
        "\n",
        "  #faz o calculo de perda para as antenas e escolhe o melhor data-rate - antena1 para o user1 é o melhor- ah mas o user3 é melhor na macro etc.\n",
        "\n",
        "    A = 20 * log10(4 * math.pi*D0 / L)\n",
        "    Y = ( a- ( b*Hb )) + ( C/Hb )\n",
        "    # Sv2 = 6*log10( Fr/2000 ) - 10.8*log10( Hr/2 )\n",
        "    Lost = A + 10*Y*log10( D/D0 )+ Sv - E   # Calculo de Perda no Canal\n",
        "    # Lost2 = A + 10*Y*log10( D/D0 )+ Sv2   # Calculo de Perda no Canal\n",
        "    Pw = 10**((S.loc[\"RP\"] - Lost)/10)/1000;\n",
        "\n",
        "\n",
        "\n",
        "\n",
        "    for i in range(len(Small.index)):\n",
        "      #Calcula interferencia intercelular --verifica a questao do lost pw em relacao as outras antenas que não seja a passada como parametro\n",
        "      if (Small.loc[i,'D'] and Small.loc[i,'ID']!= S.loc['ID']):\n",
        "      #Verifica se a antena está conectada e se o ID da antena[small](antena sendo iterada) é diferente ao id da antena passada como parametro\n",
        "\n",
        "        Da = (((Small.loc[i,'X']-U.loc['X'])**2) + ((Small.loc[i,'Y']-U.loc['Y'])**2))**0.5\n",
        "        LostA = Small.loc[i,'RP'] - (A + 10*Y*log10( Da/D0 )+ Sv - E)\n",
        "        I = I + (10**(LostA/10))/1000\n",
        "\n",
        "    SINR = (Pw / (WN + I))                  # Calculo de Sinal Intefer�ncia + ruido\n",
        "    C = S.loc['B'] / S.loc['PRB']           #//Banda total de um PRB\n",
        "    DR = ((C * math.log2(1+SINR))/1024)     #Datarate (taxa) com apenas 1 PRB sendo usado.\n",
        "    CQI = round(1 + ((7/13)*(SINR+6)));     #Indicador de qualidade\n",
        "\n",
        "  else:\n",
        "    #Se o user nao estiver no alcance da antena ou se anztena estiver desligada, seta as variáveis como zero\n",
        "    SINR = 0;\n",
        "    DR = 0;\n",
        "    CQI = 0;\n",
        "\n",
        "  return DR,CQI,SINR\n",
        "\n",
        "\n",
        "\n",
        "\n"
      ]
    },
    {
      "cell_type": "markdown",
      "metadata": {
        "id": "32aibg33romg"
      },
      "source": [
        "**Conexão de Usuarios e SmallCells**"
      ]
    },
    {
      "cell_type": "code",
      "execution_count": null,
      "metadata": {
        "id": "NE8xxo0qoSmN"
      },
      "outputs": [],
      "source": [
        "\n",
        "def round_int(x):\n",
        "    if x in [float(\"-inf\"),float(\"inf\")]: return float(\"nan\")\n",
        "    return int(round(x))\n",
        "\n",
        "def ConexaoUs(Us, Small):\n",
        "  #Us - Data frame de Usuários(usuarios)\n",
        "  #Small -  data frame de small cells(StationBase)\n",
        "\n",
        "  DR = pd.DataFrame(np.zeros(  (len(Us.index), len(Small.index))  ))\n",
        "  CQI= pd.DataFrame(np.zeros((len(Us.index), len(Small.index))))\n",
        "  SINR= pd.DataFrame(np.zeros((len(Us.index), len(Small.index))))\n",
        "\n",
        "\n",
        " #de user em user para todas as antenas\n",
        " #cada linha é o user\n",
        " #coluna é a antena\n",
        "\n",
        "  for i in range(0,len(Us.index)): #linha\n",
        "   for j in range(0, len(Small.index)):  #coluna\n",
        "      DR1, CQI1, SINR1 = CalculodeCanal(Us.iloc[i],Small.iloc[j],Small)\n",
        "      DR.iloc[i,j]= DR1\n",
        "      CQI.iloc[i,j]= CQI1\n",
        "      SINR.iloc[i,j]=SINR1\n",
        "\n",
        "# Calcula o SINR, CQI e DR (1 PRB) de cada usu�rio para cada Small\n",
        "\n",
        "  #um user pode usar mais de um canal dependendo do data-rate do user e do data-rate requerido\n",
        "  for i in range(0,len(Us.index)): #verificar\n",
        "\n",
        "      T = max(DR.loc[i,:]) #vai pegar o maior valor do data-rate do user (quero pegar o maior // maior = melhor)\n",
        "      if (T==0): #se o dr é zero o user nao esta conectado com ninguem - distante de todas as antenas pequenas -provalvente jogado para a macro\n",
        "        Us['DR'][i+Us.index[0]] =0\n",
        "        Us['PRB'][i+Us.index[0]] =0\n",
        "        Us['EB'][i+Us.index[0]]= 0\n",
        "        Us['CQI'][i+Us.index[0]]=0\n",
        "        Us['SINR'][i+Us.index[0]]=0\n",
        "        Us['C'][i+Us.index[0]]=False\n",
        "      else:\n",
        "        IND = DR.loc[i,:].idxmax() #index da antena com o maior data rate para aquele usuario\n",
        "        PR = round_int(math.ceil(Us.loc[i+Us.index[0],'R_DR']/(T*1024))) #calculo de canal - é um calc mat do igor - divido o dr requerido e divido pelo data rate\n",
        "        if (Small.loc[IND,'PRB_F']>= PR): #verifico se o canal é maior ou igual ao canal que o user precisa e se ainda tem canais\n",
        "          Us['DR'][i+Us.index[0]] =T*PR\n",
        "          Us['PRB'][i+Us.index[0]] =PR\n",
        "          Us['EB'][i+Us.index[0]]= IND + 1\n",
        "          Us['ES'][i+Us.index[0]]= 1\n",
        "          Us['CQI'][i+Us.index[0]]=CQI.loc[i,IND]\n",
        "          Us['SINR'][i+Us.index[0]]=SINR.loc[i,IND]\n",
        "          Us['C'][i+Us.index[0]]=True #usuario foi alocado naquela antena\n",
        "          Small['PRB_F'][IND]=Small.loc[IND,'PRB_F']-PR #pega o prb da antena e diminui pela qnt de canais que o user usou\n",
        "\n",
        "        else:\n",
        "          DR[i,IND]=0 #se nao tiver canal disponível o DR do user é setado como zero - nao aloca o user\n",
        "\n",
        "#conecta Usuarios\n",
        "  for j in range(0,len(Small.index)):\n",
        "    lista=[]\n",
        "    Small['VU'] = Small['VU'].astype(object) #VU é o usuarios conectados\n",
        "\n",
        "    #passa o id dos users\n",
        "    #tabela quantidade de users naquela antena\n",
        "    #tem que entregar de forma concreta os users que estao conectados em uma antena - garantir a seguranca da simulacao\n",
        "\n",
        "    for i in range(0,len(Us.index)):\n",
        "      if(Us.loc[i+Us.index[0],'EB']==(j+1)):\n",
        "        lista.append(Us.loc[i+Us.index[0],'ID'])\n",
        "    Small.at[j,'VU']=lista #quais usuários estao conectados\n",
        "    Small.loc[j,'U']=len(lista)#total de usuarios conectados\n",
        "\n",
        "  return Us,Small\n"
      ]
    },
    {
      "cell_type": "markdown",
      "metadata": {
        "id": "d-kQ2sYjEnvs"
      },
      "source": [
        "\n",
        "**Conexão de Usuarios Com a Macro**\n",
        "---\n",
        "\n"
      ]
    },
    {
      "cell_type": "code",
      "execution_count": null,
      "metadata": {
        "id": "5vw8xszmE160"
      },
      "outputs": [],
      "source": [
        "\n",
        "\n",
        "\n",
        "def ConexaoUsMacro(Us, Macro):\n",
        "\n",
        "\n",
        "\n",
        "  DR = pd.DataFrame(np.zeros((len(Us.index), len(Macro.index))))\n",
        "  CQI= pd.DataFrame(np.zeros((len(Us.index), len(Macro.index))))\n",
        "  SINR= pd.DataFrame(np.zeros((len(Us.index), len(Macro.index))))\n",
        "\n",
        "\n",
        "\n",
        "  for i in range(0,len(Us.index)):\n",
        "   for j in range(0, len(Macro.index)):\n",
        "\n",
        "\n",
        "      DR1, CQI1, SINR1 = CalculodeCanal(Us.iloc[i],Macro.iloc[j],Macro)\n",
        "      DR.iloc[i,j]= DR1\n",
        "      CQI.iloc[i,j]= CQI1\n",
        "      SINR.iloc[i,j]=SINR1\n",
        "\n",
        "# Calcula o SINR, CQI e DR (1 PRB) de cada usu�rio para cada Macro\n",
        "\n",
        "  for i in range(0,len(Us.index)):\n",
        "    if(Us.loc[i+Us.index[0],'C']==False): # verifica se o user está falso. Se estiver, não se conectou a uma Macro\n",
        "      #ha situações que o DR do user pode estar melhor na macro\n",
        "\n",
        "        T = max(DR.loc[i,:])\n",
        "\n",
        "        if (T==0):\n",
        "          Us['DR'][i+Us.index[0]] =0\n",
        "          Us['PRB'][i+Us.index[0]] =0\n",
        "          Us['EB'][i+Us.index[0]]= 0\n",
        "          Us['CQI'][i+Us.index[0]]=0\n",
        "          Us['SINR'][i+Us.index[0]]=0\n",
        "          Us['C'][i+Us.index[0]]=False\n",
        "        else:\n",
        "          IND = DR.loc[i,:].idxmax()\n",
        "          PR = round_int(math.ceil(Us.loc[i+Us.index[0],'R_DR']/(T*1024)))\n",
        "\n",
        "\n",
        "          if (Macro.loc[IND,'PRB_F']>= PR):\n",
        "\n",
        "            Us['DR'][i+Us.index[0]] =T*PR\n",
        "            Us['PRB'][i+Us.index[0]] =PR\n",
        "            Us['EB'][i+Us.index[0]]= IND +1\n",
        "            Us['ES'][i+Us.index[0]]= 2\n",
        "            Us['CQI'][i+Us.index[0]]=CQI.loc[i,IND]\n",
        "            Us['SINR'][i+Us.index[0]]=SINR.loc[i,IND]\n",
        "            Us['C'][i+Us.index[0]]=True\n",
        "            Macro['PRB_F'][IND]=Macro.loc[IND,'PRB_F']-PR\n",
        "\n",
        "          else:\n",
        "           DR[i,IND]=0\n",
        "\n",
        "#conecta Usuarios\n",
        "  for j in range(0,len(Macro.index)):\n",
        "    lista=[]\n",
        "    Macro['VU'] = Macro['VU'].astype(object)\n",
        "    for i in range(0,len(Us.index)):\n",
        "\n",
        "      if(Us.loc[i+Us.index[0],'EB']==(j+1) and Us.loc[i+Us.index[0],'ES']==2): #Verifica quais users estão conectados na macro\n",
        "        lista.append(Us.loc[i+Us.index[0],'ID'])\n",
        "    Macro.at[j,'VU']=lista\n",
        "    Macro.loc[j,'U']=len(lista)\n",
        "\n",
        "  return Us,Macro\n",
        "\n",
        "def round_int(x):\n",
        "    if x in [float(\"-inf\"),float(\"inf\")]: return float(\"nan\")\n",
        "    return int(round(x))"
      ]
    },
    {
      "cell_type": "markdown",
      "metadata": {
        "id": "wTZPqjCoI9tg"
      },
      "source": [
        "**Calcular resultados**"
      ]
    },
    {
      "cell_type": "code",
      "execution_count": null,
      "metadata": {
        "id": "5kLaJvH0JKuv"
      },
      "outputs": [],
      "source": [
        "from pandas._libs import index\n",
        "def CalculoResults(Us, Small):\n",
        "\n",
        "  CalculoSummary = pd.DataFrame(columns = [\"coveredUsers\",\"uncoveredUsers\",\"MediaDRusersGeral\", \"DrminimoUsers\",\n",
        "                                           \"DrmaximoUsers\", \"MediaDRConectedUsers\",\"DRminimoUsersMicro\",\"DRmaximoUsersMicro\", \"MicrosLigadas\",\"UsuariosConectados\"])\n",
        "\n",
        "\n",
        "#  1 coluna = Usuarios Cobertos\n",
        "#  2 coluna = Usuarios Não Cobertos\n",
        "#  3 coluna = Media DR Usuarios (Geral)\n",
        "#  4 coluna = DR minimo Usuarios - DR minimo de todos os users (macro e micro)\n",
        "#  5 coluna = DR maximo Usuarios - DR minimo de todos os users (macro e micro)\n",
        "#  6 coluna = Média DR Usarios (Micro-Conectados)\n",
        "#  7 coluna = DR minimo Usuarios (Micro) - DR minimo apenas de users ligados nas Micros\n",
        "#  8 coluna = DR maximo Usuarios (Micro) - DR maximo apenas de users ligados nas Micros\n",
        "#  9 coluna = Micros ligadas - Quantidade de antenas ligadas\n",
        "# 10 coluna = Usuarios Conectados (Micro)\n",
        "  U = len(Us.index)\n",
        "  Saida = np.zeros(10)\n",
        "\n",
        "  TotalDataRate=0\n",
        "  MediaDataRateUsersConnectedToMicro=0\n",
        "  MinMaxRateUsersConectedToMicroAndMacro= [math.inf, -math.inf]\n",
        "  MinMaxRateUsersConectedToMicro= [math.inf, -math.inf]\n",
        "\n",
        "  for i in range(len(Us.index)):\n",
        "    if(Us.loc[i+Us.index[0],'C']==True):\n",
        "      Saida[0] = Saida[0] + 1\n",
        "    else:\n",
        "      Saida[1]= Saida[1]+ 1\n",
        "\n",
        "    TotalDataRate = TotalDataRate+Us.loc[i+Us.index[0],'DR']\n",
        "\n",
        "    if(Us.loc[i+Us.index[0],'ES']==1):\n",
        "      MediaDataRateUsersConnectedToMicro = MediaDataRateUsersConnectedToMicro+Us.loc[i+Us.index[0],'DR']\n",
        "\n",
        "    if(Us.loc[i+Us.index[0],'DR']<MinMaxRateUsersConectedToMicroAndMacro[0]):\n",
        "      MinMaxRateUsersConectedToMicroAndMacro[0]= Us.loc[i+Us.index[0],'DR']\n",
        "\n",
        "    if(Us.loc[i+Us.index[0],'DR']>MinMaxRateUsersConectedToMicroAndMacro[1]):\n",
        "      MinMaxRateUsersConectedToMicroAndMacro[1]= Us.loc[i+Us.index[0],'DR']\n",
        "\n",
        "    if(Us.loc[i+Us.index[0],'DR']<MinMaxRateUsersConectedToMicro[0] and Us.loc[i+Us.index[0],'ES']==1):\n",
        "      MinMaxRateUsersConectedToMicro[0]= Us.loc[i+Us.index[0],'DR']\n",
        "\n",
        "    if(Us.loc[i+Us.index[0],'DR']> MinMaxRateUsersConectedToMicro[1] and Us.loc[i+Us.index[0],'ES']==1):\n",
        "      MinMaxRateUsersConectedToMicro[1] = Us.loc[i+Us.index[0],'DR']\n",
        "\n",
        "  Saida[2]= TotalDataRate/U\n",
        "  Saida[3]= MinMaxRateUsersConectedToMicroAndMacro[0]\n",
        "  Saida[4]= MinMaxRateUsersConectedToMicroAndMacro[1]\n",
        "  Saida[5]= MediaDataRateUsersConnectedToMicro/U\n",
        "  Saida[6]= MinMaxRateUsersConectedToMicro[0]\n",
        "  Saida[7]= MinMaxRateUsersConectedToMicro[1]\n",
        "\n",
        "  for i in range(len(Small.index)):\n",
        "    if(Small.loc[i,'D']==True):\n",
        "      Saida[8]= Saida[8]+1\n",
        "\n",
        "  for i in range(len(Us.index)):\n",
        "    if(Us.loc[i+Us.index[0],'C']==True and Us.loc[i+Us.index[0],\"ES\"]==1):\n",
        "      Saida[9]=Saida[9]+1\n",
        "\n",
        "\n",
        "  CalculoSummary = CalculoSummary.append({\"coveredUsers\":Saida[0],\"uncoveredUsers\": Saida[1],\"MediaDRusersGeral\":Saida[2], \"DrminimoUsers\":Saida[3],\n",
        "                                          \"DrmaximoUsers\": Saida[4], \"MediaDRConectedUsers\": Saida[5],\"DRminimoUsersMicro\": Saida[6],\n",
        "                                          \"DRmaximoUsersMicro\": Saida[7],\"MicrosLigadas\": Saida[8],\"UsuariosConectados\": Saida[9]\n",
        "                                         },\n",
        "                                         ignore_index=True)\n",
        "\n",
        "  return CalculoSummary\n",
        "\n"
      ]
    },
    {
      "cell_type": "markdown",
      "metadata": {
        "id": "qNdcgf-LnjC2"
      },
      "source": [
        "**Iniciar cenario**\n"
      ]
    },
    {
      "cell_type": "code",
      "execution_count": null,
      "metadata": {
        "id": "OMAgmHDMnfo-"
      },
      "outputs": [],
      "source": [
        "\n",
        "def StartScenario(U,SC,MC):\n",
        "  Small = []\n",
        "  Macro = []\n",
        "  X =[]\n",
        "  Y = []\n",
        "\n",
        "  X=2000 #Será passado o X como 2000 e na função em que será utilizado as posições serão obtidas por meio de um número aleatório entre 0 e 2000,\n",
        "  # da seguinte maneira \"X\":random.randint(0,X),\n",
        "  #\"Y\":random.randint(0,Y),\n",
        "  Y=2000\n",
        "  #X[0,:]= [0,2000]\n",
        "  #Y[0,:]=[0,2000]\n",
        "\n",
        "\n",
        "  Us,TU = criarusuarios(U,X,Y,Usuarios)\n",
        "  Small = CriarSmall(SC,X,Y,StationBase)\n",
        "  Macro = CriarMacros(MC,StationMacro)\n",
        "\n",
        "  return Us, Small, Macro, TU"
      ]
    },
    {
      "cell_type": "markdown",
      "metadata": {
        "id": "rz29AFC0iRaL"
      },
      "source": [
        "**Selecionar Small ou Macro**"
      ]
    },
    {
      "cell_type": "code",
      "execution_count": null,
      "metadata": {
        "id": "nZxaLfTjiXtS"
      },
      "outputs": [],
      "source": [
        "\n",
        "def selectAntenna(antennasOn,User,Small,Macro): #selecionar B é selecionar Antena\n",
        "  for i in range(len(Small.index)):\n",
        "    Small.loc[i,'D']=False\n",
        "\n",
        "  for i in range(antennasOn):\n",
        "    Small.loc[i,'D']=True\n",
        "\n",
        "  Us1,S1 = ConexaoUs(User,Small)\n",
        "\n",
        "  Us1,M1= ConexaoUsMacro(Us1,Macro)\n",
        "\n",
        "  Saida = CalculoResults(Us1,S1)\n",
        "\n",
        "  return Saida, Us1, S1, M1\n"
      ]
    },
    {
      "cell_type": "markdown",
      "source": [
        "Desligar antenas e conectar novamente"
      ],
      "metadata": {
        "id": "_gLMQtQlUEXF"
      }
    },
    {
      "cell_type": "code",
      "source": [
        "def turnOffAndReconnect(SmallFrame, necessaryAntennas, UserFrame, MacroFrame):\n",
        "  copiedSmallFrame = copy(SmallFrame)\n",
        "  copiedUserFrame = copy(UserFrame)\n",
        "  copiedMacroFrame = copy(MacroFrame)\n",
        "\n",
        "  #zerando parametros(menos posição) dos usuários para nova conexão\n",
        "  for i in range(len(copiedUserFrame.index)):\n",
        "   index = i+copiedUserFrame.index[0]\n",
        "   copiedUserFrame.loc[index,'DR']= float(\"NaN\")\n",
        "   copiedUserFrame.loc[index,'EB']= float(\"NaN\")\n",
        "   copiedUserFrame.loc[index,'PRB']= float(\"NaN\")\n",
        "   copiedUserFrame.loc[index,'CQI']= float(\"NaN\")\n",
        "   copiedUserFrame.loc[index,'SINR']= float(\"NaN\")\n",
        "   copiedUserFrame.loc[index,'C']= False\n",
        "   copiedUserFrame.loc[index,'ES']= float(\"NaN\")\n",
        "\n",
        "  #Zerando parâmetros das smalls\n",
        "  for i in range(len(copiedSmallFrame.index)):\n",
        "    copiedSmallFrame.loc[i,'D']=False\n",
        "    copiedSmallFrame.loc[i,'U']=float(\"NaN\")\n",
        "    copiedSmallFrame.loc[i,'VU']=float(\"NaN\")\n",
        "    copiedSmallFrame.loc[i,'PRB_F']=50\n",
        "\n",
        "  #Zerando parâmetros da macro\n",
        "  for i in range(len(copiedMacroFrame.index)):\n",
        "    copiedMacroFrame.loc[i,'U']=float(\"NaN\")\n",
        "    copiedMacroFrame.loc[i,'VU']=float(\"NaN\")\n",
        "    copiedMacroFrame.loc[i,'PRB_F']=50\n",
        "\n",
        "  #Ligando somente antenas necessárias\n",
        "  for i in range(len(copiedSmallFrame.index)):\n",
        "    for item in necessaryAntennas:\n",
        "      if(copiedSmallFrame.loc[i, 'ID'] == item['id']):\n",
        "        copiedSmallFrame.loc[i,'D']=True\n",
        "\n",
        "  #Reconectando\n",
        "  Us1,S1 = ConexaoUs(copiedUserFrame,copiedSmallFrame)\n",
        "\n",
        "  Us1,M1= ConexaoUsMacro(Us1,copiedMacroFrame)\n",
        "\n",
        "  Saida = CalculoResults(Us1,S1)\n",
        "\n",
        "  return Saida, Us1, S1, M1"
      ],
      "metadata": {
        "id": "B3j0tm9wUHbo"
      },
      "execution_count": null,
      "outputs": []
    },
    {
      "cell_type": "markdown",
      "source": [],
      "metadata": {
        "id": "otwXITpDKnr6"
      }
    },
    {
      "cell_type": "markdown",
      "metadata": {
        "id": "OtH3qWDdwspN"
      },
      "source": [
        "**Média de DR e SINR**"
      ]
    },
    {
      "cell_type": "code",
      "execution_count": null,
      "metadata": {
        "id": "mSPnAAncw3xl"
      },
      "outputs": [],
      "source": [
        "def Media(User):\n",
        "\n",
        "  T = len(User)\n",
        "  DR = User['DR'].sum()\n",
        "  SINR = User['SINR'].sum()\n",
        "  DRMAX = User['DR'].max()\n",
        "  SINRMAX = User['DR'].min()\n",
        "\n",
        "  DR = DR/T\n",
        "  SINR = SINR/T\n",
        "  return DR,DRMAX,SINR,SINRMAX\n"
      ]
    },
    {
      "cell_type": "markdown",
      "metadata": {
        "id": "5edrZRjiIl1K"
      },
      "source": [
        "**Media Micros Similaridade**"
      ]
    },
    {
      "cell_type": "code",
      "execution_count": null,
      "metadata": {
        "id": "kT17D3YuImFJ"
      },
      "outputs": [],
      "source": []
    },
    {
      "cell_type": "markdown",
      "metadata": {
        "id": "XPRie_5cw4cc"
      },
      "source": [
        "**Agrupa informações importantes(resumo) da macro e micro em um data-frame**\n",
        "\n"
      ]
    },
    {
      "cell_type": "code",
      "execution_count": null,
      "metadata": {
        "id": "Mrn3x_SaxHDU"
      },
      "outputs": [],
      "source": [
        "def CalcSummary(User,Small, Macro, Moment):\n",
        "  MicroSummary = pd.DataFrame(columns = [\"MicroID\",\"UsersConnected\",\"TotalDataRate\",\"DataRateMean\", \"Moment\"])\n",
        "  MacroSummary = pd.DataFrame(columns = [\"MacroID\",\"NOfUsersConnected\",\"UsersConnected\",\"TotalDataRate\",\"DataRateMean\", \"Moment\"])\n",
        "\n",
        "  for i in range(len(Small)):\n",
        "    TotalDataRate=0\n",
        "    TotalUsers = Small.loc[i,'U']\n",
        "    userIdsConnectedToSmall = list(map(int, Small['VU'][i]))\n",
        "    usersConnected= User[User[\"ID\"].isin(userIdsConnectedToSmall)] #Retorna os objetos de cada usuário que estão conectados na small\n",
        "    for index, row in usersConnected.iterrows():\n",
        "        TotalDataRate = TotalDataRate + row[\"DR\"]\n",
        "\n",
        "    MicroSummary = MicroSummary.append({\"MicroID\":Small.loc[i,'ID'],\n",
        "                      \"UsersConnected\":TotalUsers,\n",
        "                      \"TotalDataRate\":TotalDataRate,\n",
        "                      \"DataRateMean\": TotalDataRate/TotalUsers,\n",
        "                      \"Moment\": Moment\n",
        "                      },\n",
        "                      ignore_index=True)\n",
        "\n",
        "  for i in range(len(Macro)):\n",
        "    TotalDataRate=0\n",
        "    TotalUsers = Macro.loc[i,'U']\n",
        "    userIdsConnectedToMacro = list(map(int, Macro['VU'][i]))\n",
        "    usersConnected= User[User[\"ID\"].isin(userIdsConnectedToMacro)] #Retorna os objetos de cada usuário que estão conectados na Macro\n",
        "    for index, row in usersConnected.iterrows():\n",
        "        TotalDataRate = TotalDataRate + row[\"DR\"]\n",
        "\n",
        "    MacroSummary = MacroSummary.append({\"MacroID\":Macro.loc[i,'ID'],\n",
        "                      \"NOfUsersConnected\":TotalUsers,\n",
        "                      \"UsersConnected\": userIdsConnectedToMacro,\n",
        "                      \"TotalDataRate\":TotalDataRate,\n",
        "                      \"DataRateMean\": TotalDataRate/TotalUsers,\n",
        "                      \"Moment\": Moment\n",
        "                      },\n",
        "                      ignore_index=True)\n",
        "\n",
        "  return MicroSummary, MacroSummary"
      ]
    },
    {
      "cell_type": "markdown",
      "metadata": {
        "id": "0DYP8z-x4vyb"
      },
      "source": [
        "**Matriz Resultante**"
      ]
    },
    {
      "cell_type": "code",
      "execution_count": null,
      "metadata": {
        "id": "PlasCmj54zz6"
      },
      "outputs": [],
      "source": [
        "\n"
      ]
    },
    {
      "cell_type": "markdown",
      "metadata": {
        "id": "8TIblaUI3rZS"
      },
      "source": [
        "**Similaridade de Antenas**"
      ]
    },
    {
      "cell_type": "code",
      "execution_count": null,
      "metadata": {
        "id": "tvKZfhD_3x0D"
      },
      "outputs": [],
      "source": [
        "\n"
      ]
    },
    {
      "cell_type": "markdown",
      "source": [
        "Ordenando pela vazão média"
      ],
      "metadata": {
        "id": "ybttYrNqlnKz"
      }
    },
    {
      "cell_type": "code",
      "source": [
        "def SortByUsers(microSummary):\n",
        "  momentSmallsSortedByUsers =[]\n",
        "  momentSmallsSortedInfo =[]\n",
        "  momentSmallsWithoutDataRate =[]\n",
        "\n",
        "  for index, row in microSummary.iterrows():\n",
        "    if(math.isnan(row.DataRateMean)):\n",
        "      #Separando as antenas sem data-rate para nao atrapalhar a ordenação\n",
        "      momentSmallsWithoutDataRate.append(row)\n",
        "    else:\n",
        "      momentSmallsSortedByUsers.append(row)\n",
        "  #Ordenando pela quantidade de usuários\n",
        "  momentSmallsSortedByUsers.sort(key=lambda x: x.UsersConnected, reverse=True)\n",
        "  #Separando apenas o id e o data-rate médio da antena\n",
        "  for item in momentSmallsSortedByUsers:\n",
        "    momentSmallsSortedInfo.append({'id': item.MicroID,'DrMean': item.DataRateMean})\n",
        "\n",
        "  return momentSmallsSortedInfo\n"
      ],
      "metadata": {
        "id": "i7yDqzOvlq-T"
      },
      "execution_count": null,
      "outputs": []
    },
    {
      "cell_type": "markdown",
      "source": [
        "Calcular fatias\n"
      ],
      "metadata": {
        "id": "zTJlMonPkAWm"
      }
    },
    {
      "cell_type": "code",
      "source": [
        "def CalcFatiasVazao(microSummary):\n",
        "  totalVazaoAgregadaSmallsMomento = 0\n",
        "  allVazaoAgregada20 = []\n",
        "  allVazaoAgregada40 = []\n",
        "  allVazaoAgregada60 = []\n",
        "  allVazaoAgregada80 = []\n",
        "  allVazaoAgregada100 = []\n",
        "\n",
        "  for index, row in microSummary.iterrows():\n",
        "    if(not math.isnan(row.DataRateMean)):\n",
        "     #Somando as vazões médias de cada antena para obter vazão agregada do momento\n",
        "     totalVazaoAgregadaSmallsMomento += row.DataRateMean\n",
        "  #Fatiando em 20%,40%,60%,80%,100%\n",
        "  allVazaoAgregada20.append(totalVazaoAgregadaSmallsMomento*0.2)\n",
        "  allVazaoAgregada40.append(totalVazaoAgregadaSmallsMomento*0.4)\n",
        "  allVazaoAgregada60.append(totalVazaoAgregadaSmallsMomento*0.6)\n",
        "  allVazaoAgregada80.append(totalVazaoAgregadaSmallsMomento*0.8)\n",
        "  allVazaoAgregada100.append(totalVazaoAgregadaSmallsMomento)\n",
        "  totalVazaoAgregadaSmallsMomento = 0\n",
        "  #Ordenando\n",
        "  #Separando apenas o id e o data-rate médio da antena\n",
        "  fatiasVazao = [allVazaoAgregada20, allVazaoAgregada40,allVazaoAgregada60, allVazaoAgregada80, allVazaoAgregada100]\n",
        "  print(\"FatiasVazao\", fatiasVazao)\n",
        "  return fatiasVazao"
      ],
      "metadata": {
        "id": "tj97I23WkCbA"
      },
      "execution_count": null,
      "outputs": []
    },
    {
      "cell_type": "markdown",
      "source": [
        "Antenas para suprir o momento\n"
      ],
      "metadata": {
        "id": "ENFI6zzKRIWU"
      }
    },
    {
      "cell_type": "code",
      "source": [
        "def CalcNecessaryAntennas(fatiaVazaoAgregada, smallsDRArray):\n",
        "  print(\"fatiaVazaoAgregada\",fatiaVazaoAgregada)\n",
        "  somaDasVazoes = 0\n",
        "  antenasNecessariasParaSuprirUmMomento = []\n",
        "  for small in smallsDRArray:\n",
        "    #Somando as vazões das antenas\n",
        "    somaDasVazoes += small['DrMean']\n",
        "    #Adicionando as antenas necessarias para suprir a vazao agregada ao array\n",
        "    antenasNecessariasParaSuprirUmMomento.append(small)\n",
        "    #Se atingir a vazao agregada -> break\n",
        "    if(somaDasVazoes >= fatiaVazaoAgregada): break\n",
        "  print(\"antenasNecessariasParaSuprirUmMomento\", antenasNecessariasParaSuprirUmMomento)\n",
        "  return antenasNecessariasParaSuprirUmMomento\n"
      ],
      "metadata": {
        "id": "Bql8Z-OARHI7"
      },
      "execution_count": null,
      "outputs": []
    },
    {
      "cell_type": "markdown",
      "source": [
        "Restribuição de PRb's"
      ],
      "metadata": {
        "id": "hRdTN-uGB9dp"
      }
    },
    {
      "cell_type": "code",
      "source": [
        "def RedistribuiPRB(Us, Small):\n",
        "\n",
        "  for i in range(0,len(Small.index)):\n",
        "      if (Small.loc[i,'U']> 0 and Small.loc[i,'PRB_F']>= 0):\n",
        "          DIV = Small.loc[i,'U']\n",
        "          lista = list(map(int, Small['VU'][i]))\n",
        "          listauser= Us[Us[\"ID\"].isin(lista)]\n",
        "          TOT_PR = round_int(math.floor(Small.loc[i,'PRB_F']/DIV))\n",
        "\n",
        "        #  for j in range(0,len(Small.at[i,'VU'])):\n",
        "          for index, row in listauser.iterrows():\n",
        "              Us['DR'][index] =Us['DR'][index]*TOT_PR\n",
        "              Us['PRB'][index] = Us['PRB'][index] + TOT_PR\n",
        "              Small['PRB_F'][i]=Small.loc[i,'PRB_F']-TOT_PR\n",
        "\n",
        "\n",
        "  return Us,Small"
      ],
      "metadata": {
        "id": "TqkHW9K7CAWp"
      },
      "execution_count": null,
      "outputs": []
    },
    {
      "cell_type": "markdown",
      "source": [
        "K-MEANS\n"
      ],
      "metadata": {
        "id": "yho-wb0IoxDM"
      }
    },
    {
      "cell_type": "code",
      "source": [
        "\n",
        "from sklearn.cluster import KMeans\n",
        "from sklearn.preprocessing import MinMaxScaler\n",
        "\n",
        "\n",
        "import pandas as pd\n",
        "import numpy as np\n",
        "\n",
        "def clusterizationAndExtraction(MicroSummarySingleMoment, vazaoASerAtendida):\n",
        "\n",
        "  MicroSummaryMoment = copy(MicroSummarySingleMoment)\n",
        "\n",
        "  ##Removendo valores desnecessários\n",
        "  MicroSummaryMoment.replace([np.inf, -np.inf], np.nan, inplace=True)\n",
        "  MicroSummaryMoment.replace(np.nan, 0, inplace=True)\n",
        "\n",
        "  MicrosBeforeNormalization =  copy(MicroSummaryMoment)\n",
        "\n",
        "  #Normalização\n",
        "  # scaler = MinMaxScaler();\n",
        "  # scaler.fit(MicroSummaryMoment[['DataRateMean']])\n",
        "  # MicroSummaryMoment['DataRateMean'] = scaler.transform(MicroSummaryMoment[['DataRateMean']])\n",
        "\n",
        "  # scaler.fit(MicroSummaryMoment[['UsersConnected']])\n",
        "  # MicroSummaryMoment['UsersConnected'] = scaler.transform(MicroSummaryMoment[['UsersConnected']])\n",
        "\n",
        "  #Recalculando\n",
        "  kmeans = KMeans(n_clusters=18)\n",
        "  y_predicted = kmeans.fit_predict(MicroSummaryMoment)\n",
        "  MicroSummaryMoment['Label'] = y_predicted\n",
        "\n",
        "  uniqueLabels = set(kmeans.labels_)\n",
        "\n",
        "  dataFrames = []\n",
        "  colors = [\"green\", \"orange\", \"red\", \"blue\", \"pink\", \"purple\", \"yellow\",'black', 'gray','white','green', 'orange', 'yellow', 'blue']\n",
        "\n",
        "  #Separando o dataframe por label\n",
        "  for label in uniqueLabels:\n",
        "    dataFrames.append(MicroSummaryMoment[MicroSummaryMoment.Label==label])\n",
        "\n",
        "  #Plotando o gráfico\n",
        "  # for index,df in enumerate(dataFrames):\n",
        "  #   print(f'df separado{index}', df)\n",
        "  #   plt.scatter(df['UsersConnected'], df['DataRateMean'], color=colors[index])\n",
        "\n",
        "  # plt.xlabel('Usuários conectados')\n",
        "  # plt.ylabel('Vazão média')\n",
        "  # plt.legend()\n",
        "  # plt.show()\n",
        "\n",
        "  vazaoAgregadaClusters = []\n",
        "  vazaoAgregadaSingleCluster = 0\n",
        "\n",
        "  #Calculando a vazao agregada de cada cluster\n",
        "  for dfIndex, df in enumerate(dataFrames):\n",
        "    for index,row in dataFrames[dfIndex].iterrows():\n",
        "      vazaoAgregadaSingleCluster += row.DataRateMean\n",
        "    vazaoAgregadaClusters.append({'vazaoAgregada': vazaoAgregadaSingleCluster, 'label': dfIndex})\n",
        "    vazaoAgregadaSingleCluster = 0\n",
        "\n",
        "  #Ordenando os clusters por vazão agregada\n",
        "  vazaoAgregadaClusters.sort(key=lambda x: x['vazaoAgregada'], reverse=True)\n",
        "  print(\"vazaoAgregadaClusters\", vazaoAgregadaClusters)\n",
        "\n",
        "  somaDasVazoesDosclusters = 0\n",
        "  clustersUsados = []\n",
        "\n",
        "\n",
        "  for cluster in vazaoAgregadaClusters:\n",
        "    #Verificando se a vazao dos cluster atende a fatia da vazao do cenário\n",
        "    if(somaDasVazoesDosclusters >= vazaoASerAtendida[0]):\n",
        "      break\n",
        "    else:\n",
        "      somaDasVazoesDosclusters += cluster['vazaoAgregada']\n",
        "      clustersUsados.append(cluster)\n",
        "\n",
        "  print(\"clustersUsados\", clustersUsados)\n",
        "\n",
        "  clustersFinais = []\n",
        "\n",
        "  #Buscando o dataframe dos clusters usados para atender a vazao agregada\n",
        "  for cluster in clustersUsados:\n",
        "    clustersFinais.append(dataFrames[cluster['label']])\n",
        "\n",
        "  print(\"clustersFinais\", clustersFinais)\n",
        "\n",
        "\n",
        "  #Separando as antenas dos clusters usados a serem ligadas\n",
        "  antenasLigadas = []\n",
        "  for cluster in clustersFinais:\n",
        "    for index, row in cluster.iterrows():\n",
        "     if(not math.isnan(row.DataRateMean)):\n",
        "       antenasLigadas.append({'id': row.MicroID, 'DrMean': row.DataRateMean})\n",
        "\n",
        "  print(\"antenasLigadas\", antenasLigadas)\n",
        "\n",
        "  # Elbow Method - Número ideal = 3\n",
        "  krng = range(1,10)\n",
        "  sse = []\n",
        "  for k in krng:\n",
        "    km = KMeans(n_clusters=k)\n",
        "    km.fit(MicroSummaryMoment)\n",
        "    sse.append(km.inertia_)\n",
        "\n",
        "  print(\"sse\", sse)\n",
        "  plt.title(\"Método do Cotovelo\")\n",
        "  plt.xlabel(\"K\")\n",
        "  plt.ylabel(\"SSE\")\n",
        "  plt.plot(krng,sse)\n",
        "  plt.legend()\n",
        "  plt.show()\n",
        "\n",
        "  return antenasLigadas\n",
        "\n",
        "\n"
      ],
      "metadata": {
        "id": "6fI6zxnOKcRC"
      },
      "execution_count": null,
      "outputs": []
    },
    {
      "cell_type": "markdown",
      "metadata": {
        "id": "s_MmxohaiIIc"
      },
      "source": [
        "**Cenario**"
      ]
    },
    {
      "cell_type": "code",
      "execution_count": null,
      "metadata": {
        "id": "kM0RBwMUtmm8",
        "colab": {
          "base_uri": "https://localhost:8080/",
          "height": 1000
        },
        "outputId": "5d46d9ee-2f6f-466f-a738-5ec55013643e"
      },
      "outputs": [
        {
          "output_type": "stream",
          "name": "stdout",
          "text": [
            "Momento Atual -------------------------------------------------------------------------------------------------- 1\n"
          ]
        },
        {
          "output_type": "display_data",
          "data": {
            "text/plain": [
              "<Figure size 432x288 with 1 Axes>"
            ],
            "image/png": "[encoded data removed]"
          },
          "metadata": {
            "needs_background": "light"
          }
        },
        {
          "output_type": "stream",
          "name": "stderr",
          "text": [
            "<ipython-input-63-7cac5e171799>:42: SettingWithCopyWarning: \n",
            "A value is trying to be set on a copy of a slice from a DataFrame\n",
            "\n",
            "See the caveats in the documentation: https://pandas.pydata.org/pandas-docs/stable/user_guide/indexing.html#returning-a-view-versus-a-copy\n",
            "  Us['DR'][i+Us.index[0]] =T*PR\n",
            "<ipython-input-63-7cac5e171799>:43: SettingWithCopyWarning: \n",
            "A value is trying to be set on a copy of a slice from a DataFrame\n",
            "\n",
            "See the caveats in the documentation: https://pandas.pydata.org/pandas-docs/stable/user_guide/indexing.html#returning-a-view-versus-a-copy\n",
            "  Us['PRB'][i+Us.index[0]] =PR\n",
            "<ipython-input-63-7cac5e171799>:44: SettingWithCopyWarning: \n",
            "A value is trying to be set on a copy of a slice from a DataFrame\n",
            "\n",
            "See the caveats in the documentation: https://pandas.pydata.org/pandas-docs/stable/user_guide/indexing.html#returning-a-view-versus-a-copy\n",
            "  Us['EB'][i+Us.index[0]]= IND + 1\n",
            "<ipython-input-63-7cac5e171799>:45: SettingWithCopyWarning: \n",
            "A value is trying to be set on a copy of a slice from a DataFrame\n",
            "\n",
            "See the caveats in the documentation: https://pandas.pydata.org/pandas-docs/stable/user_guide/indexing.html#returning-a-view-versus-a-copy\n",
            "  Us['ES'][i+Us.index[0]]= 1\n",
            "<ipython-input-63-7cac5e171799>:46: SettingWithCopyWarning: \n",
            "A value is trying to be set on a copy of a slice from a DataFrame\n",
            "\n",
            "See the caveats in the documentation: https://pandas.pydata.org/pandas-docs/stable/user_guide/indexing.html#returning-a-view-versus-a-copy\n",
            "  Us['CQI'][i+Us.index[0]]=CQI.loc[i,IND]\n",
            "<ipython-input-63-7cac5e171799>:47: SettingWithCopyWarning: \n",
            "A value is trying to be set on a copy of a slice from a DataFrame\n",
            "\n",
            "See the caveats in the documentation: https://pandas.pydata.org/pandas-docs/stable/user_guide/indexing.html#returning-a-view-versus-a-copy\n",
            "  Us['SINR'][i+Us.index[0]]=SINR.loc[i,IND]\n",
            "/usr/local/lib/python3.8/dist-packages/pandas/core/indexing.py:1732: SettingWithCopyWarning: \n",
            "A value is trying to be set on a copy of a slice from a DataFrame\n",
            "\n",
            "See the caveats in the documentation: https://pandas.pydata.org/pandas-docs/stable/user_guide/indexing.html#returning-a-view-versus-a-copy\n",
            "  self._setitem_single_block(indexer, value, name)\n",
            "<ipython-input-63-7cac5e171799>:48: SettingWithCopyWarning: \n",
            "A value is trying to be set on a copy of a slice from a DataFrame\n",
            "\n",
            "See the caveats in the documentation: https://pandas.pydata.org/pandas-docs/stable/user_guide/indexing.html#returning-a-view-versus-a-copy\n",
            "  Us['C'][i+Us.index[0]]=True #usuario foi alocado naquela antena\n",
            "<ipython-input-63-7cac5e171799>:49: SettingWithCopyWarning: \n",
            "A value is trying to be set on a copy of a slice from a DataFrame\n",
            "\n",
            "See the caveats in the documentation: https://pandas.pydata.org/pandas-docs/stable/user_guide/indexing.html#returning-a-view-versus-a-copy\n",
            "  Small['PRB_F'][IND]=Small.loc[IND,'PRB_F']-PR #pega o prb da antena e diminui pela qnt de canais que o user usou\n",
            "/usr/local/lib/python3.8/dist-packages/pandas/core/series.py:1056: SettingWithCopyWarning: \n",
            "A value is trying to be set on a copy of a slice from a DataFrame\n",
            "\n",
            "See the caveats in the documentation: https://pandas.pydata.org/pandas-docs/stable/user_guide/indexing.html#returning-a-view-versus-a-copy\n",
            "  cacher_needs_updating = self._check_is_chained_assignment_possible()\n",
            "<ipython-input-63-7cac5e171799>:32: SettingWithCopyWarning: \n",
            "A value is trying to be set on a copy of a slice from a DataFrame\n",
            "\n",
            "See the caveats in the documentation: https://pandas.pydata.org/pandas-docs/stable/user_guide/indexing.html#returning-a-view-versus-a-copy\n",
            "  Us['DR'][i+Us.index[0]] =0\n",
            "<ipython-input-63-7cac5e171799>:33: SettingWithCopyWarning: \n",
            "A value is trying to be set on a copy of a slice from a DataFrame\n",
            "\n",
            "See the caveats in the documentation: https://pandas.pydata.org/pandas-docs/stable/user_guide/indexing.html#returning-a-view-versus-a-copy\n",
            "  Us['PRB'][i+Us.index[0]] =0\n",
            "<ipython-input-63-7cac5e171799>:34: SettingWithCopyWarning: \n",
            "A value is trying to be set on a copy of a slice from a DataFrame\n",
            "\n",
            "See the caveats in the documentation: https://pandas.pydata.org/pandas-docs/stable/user_guide/indexing.html#returning-a-view-versus-a-copy\n",
            "  Us['EB'][i+Us.index[0]]= 0\n",
            "<ipython-input-63-7cac5e171799>:35: SettingWithCopyWarning: \n",
            "A value is trying to be set on a copy of a slice from a DataFrame\n",
            "\n",
            "See the caveats in the documentation: https://pandas.pydata.org/pandas-docs/stable/user_guide/indexing.html#returning-a-view-versus-a-copy\n",
            "  Us['CQI'][i+Us.index[0]]=0\n",
            "<ipython-input-63-7cac5e171799>:36: SettingWithCopyWarning: \n",
            "A value is trying to be set on a copy of a slice from a DataFrame\n",
            "\n",
            "See the caveats in the documentation: https://pandas.pydata.org/pandas-docs/stable/user_guide/indexing.html#returning-a-view-versus-a-copy\n",
            "  Us['SINR'][i+Us.index[0]]=0\n",
            "<ipython-input-70-a5e07d73fc62>:16: RuntimeWarning: invalid value encountered in double_scalars\n",
            "  \"DataRateMean\": TotalDataRate/TotalUsers,\n"
          ]
        },
        {
          "output_type": "stream",
          "name": "stdout",
          "text": [
            "FatiasVazao [[5637.6444742384765], [11275.288948476953], [16912.93342271543], [22550.577896953906], [28188.22237119238]]\n",
            "vazaoAgregadaClusters [{'vazaoAgregada': 3987.646715898051, 'label': 2}, {'vazaoAgregada': 3297.9691746305966, 'label': 4}, {'vazaoAgregada': 3138.6415327952973, 'label': 3}, {'vazaoAgregada': 2799.5337903710474, 'label': 11}, {'vazaoAgregada': 2208.849242615611, 'label': 14}, {'vazaoAgregada': 2072.775316592085, 'label': 15}, {'vazaoAgregada': 1604.20309760493, 'label': 1}, {'vazaoAgregada': 1475.4724552269188, 'label': 7}, {'vazaoAgregada': 1453.4521605835257, 'label': 12}, {'vazaoAgregada': 1344.77309715429, 'label': 10}, {'vazaoAgregada': 1286.5592288867879, 'label': 9}, {'vazaoAgregada': 962.7509759137313, 'label': 8}, {'vazaoAgregada': 925.6318132000112, 'label': 6}, {'vazaoAgregada': 746.8568333316676, 'label': 13}, {'vazaoAgregada': 470.2836712720188, 'label': 0}, {'vazaoAgregada': 412.82326511581095, 'label': 16}, {'vazaoAgregada': 0.0, 'label': 5}, {'vazaoAgregada': 0.0, 'label': 17}]\n",
            "clustersUsados [{'vazaoAgregada': 3987.646715898051, 'label': 2}, {'vazaoAgregada': 3297.9691746305966, 'label': 4}]\n",
            "clustersFinais [   MicroID  UsersConnected  TotalDataRate  DataRateMean  Moment  Label\n",
            "5      6.0             1.0    2002.621199   2002.621199     0.0      2\n",
            "6      7.0             1.0    1985.025517   1985.025517     0.0      2,     MicroID  UsersConnected  TotalDataRate  DataRateMean  Moment  Label\n",
            "21     22.0             1.0    3297.969175   3297.969175     0.0      4]\n",
            "antenasLigadas [{'id': 6.0, 'DrMean': 2002.621199305569}, {'id': 7.0, 'DrMean': 1985.0255165924818}, {'id': 22.0, 'DrMean': 3297.9691746305966}]\n"
          ]
        },
        {
          "output_type": "stream",
          "name": "stderr",
          "text": [
            "WARNING:matplotlib.legend:No handles with labels found to put in legend.\n"
          ]
        },
        {
          "output_type": "stream",
          "name": "stdout",
          "text": [
            "sse [113817890.2372684, 38046204.36277422, 15129900.120908782, 10616518.434799757, 7045907.207986967, 4777464.9689218635, 3263567.259256438, 2127490.8179456997, 1333611.7922361703]\n"
          ]
        },
        {
          "output_type": "display_data",
          "data": {
            "text/plain": [
              "<Figure size 432x288 with 1 Axes>"
            ],
            "image/png": "[encoded data removed]"
          },
          "metadata": {
            "needs_background": "light"
          }
        },
        {
          "output_type": "stream",
          "name": "stderr",
          "text": [
            "<ipython-input-63-7cac5e171799>:32: SettingWithCopyWarning: \n",
            "A value is trying to be set on a copy of a slice from a DataFrame\n",
            "\n",
            "See the caveats in the documentation: https://pandas.pydata.org/pandas-docs/stable/user_guide/indexing.html#returning-a-view-versus-a-copy\n",
            "  Us['DR'][i+Us.index[0]] =0\n",
            "<ipython-input-63-7cac5e171799>:33: SettingWithCopyWarning: \n",
            "A value is trying to be set on a copy of a slice from a DataFrame\n",
            "\n",
            "See the caveats in the documentation: https://pandas.pydata.org/pandas-docs/stable/user_guide/indexing.html#returning-a-view-versus-a-copy\n",
            "  Us['PRB'][i+Us.index[0]] =0\n",
            "<ipython-input-63-7cac5e171799>:34: SettingWithCopyWarning: \n",
            "A value is trying to be set on a copy of a slice from a DataFrame\n",
            "\n",
            "See the caveats in the documentation: https://pandas.pydata.org/pandas-docs/stable/user_guide/indexing.html#returning-a-view-versus-a-copy\n",
            "  Us['EB'][i+Us.index[0]]= 0\n",
            "<ipython-input-63-7cac5e171799>:35: SettingWithCopyWarning: \n",
            "A value is trying to be set on a copy of a slice from a DataFrame\n",
            "\n",
            "See the caveats in the documentation: https://pandas.pydata.org/pandas-docs/stable/user_guide/indexing.html#returning-a-view-versus-a-copy\n",
            "  Us['CQI'][i+Us.index[0]]=0\n",
            "<ipython-input-63-7cac5e171799>:36: SettingWithCopyWarning: \n",
            "A value is trying to be set on a copy of a slice from a DataFrame\n",
            "\n",
            "See the caveats in the documentation: https://pandas.pydata.org/pandas-docs/stable/user_guide/indexing.html#returning-a-view-versus-a-copy\n",
            "  Us['SINR'][i+Us.index[0]]=0\n",
            "<ipython-input-63-7cac5e171799>:37: SettingWithCopyWarning: \n",
            "A value is trying to be set on a copy of a slice from a DataFrame\n",
            "\n",
            "See the caveats in the documentation: https://pandas.pydata.org/pandas-docs/stable/user_guide/indexing.html#returning-a-view-versus-a-copy\n",
            "  Us['C'][i+Us.index[0]]=False\n",
            "<ipython-input-63-7cac5e171799>:42: SettingWithCopyWarning: \n",
            "A value is trying to be set on a copy of a slice from a DataFrame\n",
            "\n",
            "See the caveats in the documentation: https://pandas.pydata.org/pandas-docs/stable/user_guide/indexing.html#returning-a-view-versus-a-copy\n",
            "  Us['DR'][i+Us.index[0]] =T*PR\n",
            "<ipython-input-63-7cac5e171799>:43: SettingWithCopyWarning: \n",
            "A value is trying to be set on a copy of a slice from a DataFrame\n",
            "\n",
            "See the caveats in the documentation: https://pandas.pydata.org/pandas-docs/stable/user_guide/indexing.html#returning-a-view-versus-a-copy\n",
            "  Us['PRB'][i+Us.index[0]] =PR\n",
            "<ipython-input-63-7cac5e171799>:44: SettingWithCopyWarning: \n",
            "A value is trying to be set on a copy of a slice from a DataFrame\n",
            "\n",
            "See the caveats in the documentation: https://pandas.pydata.org/pandas-docs/stable/user_guide/indexing.html#returning-a-view-versus-a-copy\n",
            "  Us['EB'][i+Us.index[0]]= IND + 1\n",
            "<ipython-input-63-7cac5e171799>:45: SettingWithCopyWarning: \n",
            "A value is trying to be set on a copy of a slice from a DataFrame\n",
            "\n",
            "See the caveats in the documentation: https://pandas.pydata.org/pandas-docs/stable/user_guide/indexing.html#returning-a-view-versus-a-copy\n",
            "  Us['ES'][i+Us.index[0]]= 1\n",
            "<ipython-input-63-7cac5e171799>:46: SettingWithCopyWarning: \n",
            "A value is trying to be set on a copy of a slice from a DataFrame\n",
            "\n",
            "See the caveats in the documentation: https://pandas.pydata.org/pandas-docs/stable/user_guide/indexing.html#returning-a-view-versus-a-copy\n",
            "  Us['CQI'][i+Us.index[0]]=CQI.loc[i,IND]\n",
            "<ipython-input-63-7cac5e171799>:47: SettingWithCopyWarning: \n",
            "A value is trying to be set on a copy of a slice from a DataFrame\n",
            "\n",
            "See the caveats in the documentation: https://pandas.pydata.org/pandas-docs/stable/user_guide/indexing.html#returning-a-view-versus-a-copy\n",
            "  Us['SINR'][i+Us.index[0]]=SINR.loc[i,IND]\n",
            "<ipython-input-63-7cac5e171799>:48: SettingWithCopyWarning: \n",
            "A value is trying to be set on a copy of a slice from a DataFrame\n",
            "\n",
            "See the caveats in the documentation: https://pandas.pydata.org/pandas-docs/stable/user_guide/indexing.html#returning-a-view-versus-a-copy\n",
            "  Us['C'][i+Us.index[0]]=True #usuario foi alocado naquela antena\n",
            "<ipython-input-63-7cac5e171799>:49: SettingWithCopyWarning: \n",
            "A value is trying to be set on a copy of a slice from a DataFrame\n",
            "\n",
            "See the caveats in the documentation: https://pandas.pydata.org/pandas-docs/stable/user_guide/indexing.html#returning-a-view-versus-a-copy\n",
            "  Small['PRB_F'][IND]=Small.loc[IND,'PRB_F']-PR #pega o prb da antena e diminui pela qnt de canais que o user usou\n",
            "<ipython-input-74-b94865a40029>:12: SettingWithCopyWarning: \n",
            "A value is trying to be set on a copy of a slice from a DataFrame\n",
            "\n",
            "See the caveats in the documentation: https://pandas.pydata.org/pandas-docs/stable/user_guide/indexing.html#returning-a-view-versus-a-copy\n",
            "  Us['DR'][index] =Us['DR'][index]*TOT_PR\n",
            "<ipython-input-74-b94865a40029>:13: SettingWithCopyWarning: \n",
            "A value is trying to be set on a copy of a slice from a DataFrame\n",
            "\n",
            "See the caveats in the documentation: https://pandas.pydata.org/pandas-docs/stable/user_guide/indexing.html#returning-a-view-versus-a-copy\n",
            "  Us['PRB'][index] = Us['PRB'][index] + TOT_PR\n",
            "<ipython-input-74-b94865a40029>:14: SettingWithCopyWarning: \n",
            "A value is trying to be set on a copy of a slice from a DataFrame\n",
            "\n",
            "See the caveats in the documentation: https://pandas.pydata.org/pandas-docs/stable/user_guide/indexing.html#returning-a-view-versus-a-copy\n",
            "  Small['PRB_F'][i]=Small.loc[i,'PRB_F']-TOT_PR\n",
            "<ipython-input-70-a5e07d73fc62>:16: RuntimeWarning: invalid value encountered in double_scalars\n",
            "  \"DataRateMean\": TotalDataRate/TotalUsers,\n"
          ]
        },
        {
          "output_type": "stream",
          "name": "stdout",
          "text": [
            "fatiaVazaoAgregada [5637.6444742384765]\n",
            "antenasNecessariasParaSuprirUmMomento [{'id': 17.0, 'DrMean': 1475.4724552269188}, {'id': 4.0, 'DrMean': 925.6318132000112}, {'id': 11.0, 'DrMean': 1286.5592288867879}, {'id': 19.0, 'DrMean': 1604.20309760493}, {'id': 13.0, 'DrMean': 962.7509759137313}]\n",
            "Momento Atual -------------------------------------------------------------------------------------------------- 2\n"
          ]
        },
        {
          "output_type": "display_data",
          "data": {
            "text/plain": [
              "<Figure size 432x288 with 1 Axes>"
            ],
            "image/png": "[encoded data removed]"
          },
          "metadata": {
            "needs_background": "light"
          }
        },
        {
          "output_type": "stream",
          "name": "stderr",
          "text": [
            "/usr/local/lib/python3.8/dist-packages/pandas/core/indexing.py:1732: SettingWithCopyWarning: \n",
            "A value is trying to be set on a copy of a slice from a DataFrame\n",
            "\n",
            "See the caveats in the documentation: https://pandas.pydata.org/pandas-docs/stable/user_guide/indexing.html#returning-a-view-versus-a-copy\n",
            "  self._setitem_single_block(indexer, value, name)\n",
            "/usr/local/lib/python3.8/dist-packages/pandas/core/series.py:1056: SettingWithCopyWarning: \n",
            "A value is trying to be set on a copy of a slice from a DataFrame\n",
            "\n",
            "See the caveats in the documentation: https://pandas.pydata.org/pandas-docs/stable/user_guide/indexing.html#returning-a-view-versus-a-copy\n",
            "  cacher_needs_updating = self._check_is_chained_assignment_possible()\n"
          ]
        },
        {
          "output_type": "stream",
          "name": "stdout",
          "text": [
            "FatiasVazao [[3611.2329187865953], [7222.465837573191], [10833.698756359785], [14444.931675146381], [18056.164593932976]]\n",
            "vazaoAgregadaClusters [{'vazaoAgregada': 4279.264663151197, 'label': 3}, {'vazaoAgregada': 2006.1403253084184, 'label': 7}, {'vazaoAgregada': 1857.6066545376107, 'label': 1}, {'vazaoAgregada': 1653.8971885026028, 'label': 8}, {'vazaoAgregada': 1511.473964451795, 'label': 4}, {'vazaoAgregada': 1426.2376445929751, 'label': 5}, {'vazaoAgregada': 1360.068163717957, 'label': 12}, {'vazaoAgregada': 784.9705853749973, 'label': 11}, {'vazaoAgregada': 746.4378888742453, 'label': 13}, {'vazaoAgregada': 713.8758017013835, 'label': 10}, {'vazaoAgregada': 672.4497928472542, 'label': 6}, {'vazaoAgregada': 587.972533335768, 'label': 0}, {'vazaoAgregada': 455.7693875367709, 'label': 9}, {'vazaoAgregada': 0.0, 'label': 2}, {'vazaoAgregada': 0.0, 'label': 14}, {'vazaoAgregada': 0.0, 'label': 15}, {'vazaoAgregada': 0.0, 'label': 16}, {'vazaoAgregada': 0.0, 'label': 17}]\n",
            "clustersUsados [{'vazaoAgregada': 4279.264663151197, 'label': 3}]\n",
            "clustersFinais [    MicroID  UsersConnected  TotalDataRate  DataRateMean  Moment  Label\n",
            "14     15.0             1.0    4279.264663   4279.264663     1.0      3]\n",
            "antenasLigadas [{'id': 15.0, 'DrMean': 4279.264663151197}]\n"
          ]
        },
        {
          "output_type": "stream",
          "name": "stderr",
          "text": [
            "WARNING:matplotlib.legend:No handles with labels found to put in legend.\n"
          ]
        },
        {
          "output_type": "stream",
          "name": "stdout",
          "text": [
            "sse [98231397.68820879, 23595703.438011654, 11223118.588700391, 6016728.253758229, 2679633.159182726, 917588.0072174828, 376369.98527388484, 259672.47238791056, 149318.71562465696]\n"
          ]
        },
        {
          "output_type": "display_data",
          "data": {
            "text/plain": [
              "<Figure size 432x288 with 1 Axes>"
            ],
            "image/png": "[encoded data removed]"
          },
          "metadata": {
            "needs_background": "light"
          }
        },
        {
          "output_type": "stream",
          "name": "stderr",
          "text": [
            "<ipython-input-63-7cac5e171799>:32: SettingWithCopyWarning: \n",
            "A value is trying to be set on a copy of a slice from a DataFrame\n",
            "\n",
            "See the caveats in the documentation: https://pandas.pydata.org/pandas-docs/stable/user_guide/indexing.html#returning-a-view-versus-a-copy\n",
            "  Us['DR'][i+Us.index[0]] =0\n",
            "<ipython-input-63-7cac5e171799>:33: SettingWithCopyWarning: \n",
            "A value is trying to be set on a copy of a slice from a DataFrame\n",
            "\n",
            "See the caveats in the documentation: https://pandas.pydata.org/pandas-docs/stable/user_guide/indexing.html#returning-a-view-versus-a-copy\n",
            "  Us['PRB'][i+Us.index[0]] =0\n",
            "<ipython-input-63-7cac5e171799>:34: SettingWithCopyWarning: \n",
            "A value is trying to be set on a copy of a slice from a DataFrame\n",
            "\n",
            "See the caveats in the documentation: https://pandas.pydata.org/pandas-docs/stable/user_guide/indexing.html#returning-a-view-versus-a-copy\n",
            "  Us['EB'][i+Us.index[0]]= 0\n",
            "<ipython-input-63-7cac5e171799>:35: SettingWithCopyWarning: \n",
            "A value is trying to be set on a copy of a slice from a DataFrame\n",
            "\n",
            "See the caveats in the documentation: https://pandas.pydata.org/pandas-docs/stable/user_guide/indexing.html#returning-a-view-versus-a-copy\n",
            "  Us['CQI'][i+Us.index[0]]=0\n",
            "<ipython-input-63-7cac5e171799>:36: SettingWithCopyWarning: \n",
            "A value is trying to be set on a copy of a slice from a DataFrame\n",
            "\n",
            "See the caveats in the documentation: https://pandas.pydata.org/pandas-docs/stable/user_guide/indexing.html#returning-a-view-versus-a-copy\n",
            "  Us['SINR'][i+Us.index[0]]=0\n",
            "<ipython-input-63-7cac5e171799>:37: SettingWithCopyWarning: \n",
            "A value is trying to be set on a copy of a slice from a DataFrame\n",
            "\n",
            "See the caveats in the documentation: https://pandas.pydata.org/pandas-docs/stable/user_guide/indexing.html#returning-a-view-versus-a-copy\n",
            "  Us['C'][i+Us.index[0]]=False\n",
            "<ipython-input-63-7cac5e171799>:42: SettingWithCopyWarning: \n",
            "A value is trying to be set on a copy of a slice from a DataFrame\n",
            "\n",
            "See the caveats in the documentation: https://pandas.pydata.org/pandas-docs/stable/user_guide/indexing.html#returning-a-view-versus-a-copy\n",
            "  Us['DR'][i+Us.index[0]] =T*PR\n",
            "<ipython-input-63-7cac5e171799>:43: SettingWithCopyWarning: \n",
            "A value is trying to be set on a copy of a slice from a DataFrame\n",
            "\n",
            "See the caveats in the documentation: https://pandas.pydata.org/pandas-docs/stable/user_guide/indexing.html#returning-a-view-versus-a-copy\n",
            "  Us['PRB'][i+Us.index[0]] =PR\n",
            "<ipython-input-63-7cac5e171799>:44: SettingWithCopyWarning: \n",
            "A value is trying to be set on a copy of a slice from a DataFrame\n",
            "\n",
            "See the caveats in the documentation: https://pandas.pydata.org/pandas-docs/stable/user_guide/indexing.html#returning-a-view-versus-a-copy\n",
            "  Us['EB'][i+Us.index[0]]= IND + 1\n",
            "<ipython-input-63-7cac5e171799>:45: SettingWithCopyWarning: \n",
            "A value is trying to be set on a copy of a slice from a DataFrame\n",
            "\n",
            "See the caveats in the documentation: https://pandas.pydata.org/pandas-docs/stable/user_guide/indexing.html#returning-a-view-versus-a-copy\n",
            "  Us['ES'][i+Us.index[0]]= 1\n",
            "<ipython-input-63-7cac5e171799>:46: SettingWithCopyWarning: \n",
            "A value is trying to be set on a copy of a slice from a DataFrame\n",
            "\n",
            "See the caveats in the documentation: https://pandas.pydata.org/pandas-docs/stable/user_guide/indexing.html#returning-a-view-versus-a-copy\n",
            "  Us['CQI'][i+Us.index[0]]=CQI.loc[i,IND]\n",
            "<ipython-input-63-7cac5e171799>:47: SettingWithCopyWarning: \n",
            "A value is trying to be set on a copy of a slice from a DataFrame\n",
            "\n",
            "See the caveats in the documentation: https://pandas.pydata.org/pandas-docs/stable/user_guide/indexing.html#returning-a-view-versus-a-copy\n",
            "  Us['SINR'][i+Us.index[0]]=SINR.loc[i,IND]\n",
            "<ipython-input-63-7cac5e171799>:48: SettingWithCopyWarning: \n",
            "A value is trying to be set on a copy of a slice from a DataFrame\n",
            "\n",
            "See the caveats in the documentation: https://pandas.pydata.org/pandas-docs/stable/user_guide/indexing.html#returning-a-view-versus-a-copy\n",
            "  Us['C'][i+Us.index[0]]=True #usuario foi alocado naquela antena\n",
            "<ipython-input-63-7cac5e171799>:49: SettingWithCopyWarning: \n",
            "A value is trying to be set on a copy of a slice from a DataFrame\n",
            "\n",
            "See the caveats in the documentation: https://pandas.pydata.org/pandas-docs/stable/user_guide/indexing.html#returning-a-view-versus-a-copy\n",
            "  Small['PRB_F'][IND]=Small.loc[IND,'PRB_F']-PR #pega o prb da antena e diminui pela qnt de canais que o user usou\n",
            "<ipython-input-74-b94865a40029>:12: SettingWithCopyWarning: \n",
            "A value is trying to be set on a copy of a slice from a DataFrame\n",
            "\n",
            "See the caveats in the documentation: https://pandas.pydata.org/pandas-docs/stable/user_guide/indexing.html#returning-a-view-versus-a-copy\n",
            "  Us['DR'][index] =Us['DR'][index]*TOT_PR\n",
            "<ipython-input-74-b94865a40029>:13: SettingWithCopyWarning: \n",
            "A value is trying to be set on a copy of a slice from a DataFrame\n",
            "\n",
            "See the caveats in the documentation: https://pandas.pydata.org/pandas-docs/stable/user_guide/indexing.html#returning-a-view-versus-a-copy\n",
            "  Us['PRB'][index] = Us['PRB'][index] + TOT_PR\n",
            "<ipython-input-74-b94865a40029>:14: SettingWithCopyWarning: \n",
            "A value is trying to be set on a copy of a slice from a DataFrame\n",
            "\n",
            "See the caveats in the documentation: https://pandas.pydata.org/pandas-docs/stable/user_guide/indexing.html#returning-a-view-versus-a-copy\n",
            "  Small['PRB_F'][i]=Small.loc[i,'PRB_F']-TOT_PR\n",
            "<ipython-input-70-a5e07d73fc62>:16: RuntimeWarning: invalid value encountered in double_scalars\n",
            "  \"DataRateMean\": TotalDataRate/TotalUsers,\n"
          ]
        },
        {
          "output_type": "stream",
          "name": "stdout",
          "text": [
            "fatiaVazaoAgregada [3611.2329187865953]\n",
            "antenasNecessariasParaSuprirUmMomento [{'id': 12.0, 'DrMean': 2006.1403253084184}, {'id': 19.0, 'DrMean': 1857.6066545376107}]\n",
            "Momento Atual -------------------------------------------------------------------------------------------------- 3\n"
          ]
        },
        {
          "output_type": "display_data",
          "data": {
            "text/plain": [
              "<Figure size 432x288 with 1 Axes>"
            ],
            "image/png": "[encoded data removed]"
          },
          "metadata": {
            "needs_background": "light"
          }
        },
        {
          "output_type": "stream",
          "name": "stderr",
          "text": [
            "/usr/local/lib/python3.8/dist-packages/pandas/core/indexing.py:1732: SettingWithCopyWarning: \n",
            "A value is trying to be set on a copy of a slice from a DataFrame\n",
            "\n",
            "See the caveats in the documentation: https://pandas.pydata.org/pandas-docs/stable/user_guide/indexing.html#returning-a-view-versus-a-copy\n",
            "  self._setitem_single_block(indexer, value, name)\n",
            "/usr/local/lib/python3.8/dist-packages/pandas/core/series.py:1056: SettingWithCopyWarning: \n",
            "A value is trying to be set on a copy of a slice from a DataFrame\n",
            "\n",
            "See the caveats in the documentation: https://pandas.pydata.org/pandas-docs/stable/user_guide/indexing.html#returning-a-view-versus-a-copy\n",
            "  cacher_needs_updating = self._check_is_chained_assignment_possible()\n"
          ]
        },
        {
          "output_type": "stream",
          "name": "stdout",
          "text": [
            "FatiasVazao [[4956.702734556999], [9913.405469113997], [14870.108203670992], [19826.810938227994], [24783.51367278499]]\n",
            "vazaoAgregadaClusters [{'vazaoAgregada': 4581.069354057433, 'label': 4}, {'vazaoAgregada': 3122.3032577430204, 'label': 3}, {'vazaoAgregada': 3071.6809966732153, 'label': 9}, {'vazaoAgregada': 2778.353177744177, 'label': 1}, {'vazaoAgregada': 2525.258869800132, 'label': 12}, {'vazaoAgregada': 2430.199258693561, 'label': 7}, {'vazaoAgregada': 1759.9391926847575, 'label': 5}, {'vazaoAgregada': 1241.6826322259924, 'label': 6}, {'vazaoAgregada': 1055.6152659685613, 'label': 8}, {'vazaoAgregada': 837.7022205369952, 'label': 11}, {'vazaoAgregada': 739.1920643215271, 'label': 0}, {'vazaoAgregada': 640.5173823356189, 'label': 10}, {'vazaoAgregada': 0.0, 'label': 2}, {'vazaoAgregada': 0.0, 'label': 13}, {'vazaoAgregada': 0.0, 'label': 14}, {'vazaoAgregada': 0.0, 'label': 15}, {'vazaoAgregada': 0.0, 'label': 16}, {'vazaoAgregada': 0.0, 'label': 17}]\n",
            "clustersUsados [{'vazaoAgregada': 4581.069354057433, 'label': 4}, {'vazaoAgregada': 3122.3032577430204, 'label': 3}]\n",
            "clustersFinais [   MicroID  UsersConnected  TotalDataRate  DataRateMean  Moment  Label\n",
            "7      8.0             1.0    4581.069354   4581.069354     2.0      4,    MicroID  UsersConnected  TotalDataRate  DataRateMean  Moment  Label\n",
            "3      4.0             2.0    6244.606515   3122.303258     2.0      3]\n",
            "antenasLigadas [{'id': 8.0, 'DrMean': 4581.069354057433}, {'id': 4.0, 'DrMean': 3122.3032577430204}]\n"
          ]
        },
        {
          "output_type": "stream",
          "name": "stderr",
          "text": [
            "WARNING:matplotlib.legend:No handles with labels found to put in legend.\n"
          ]
        },
        {
          "output_type": "stream",
          "name": "stdout",
          "text": [
            "sse [114850243.88612434, 27610505.546404906, 13775403.696508393, 5626253.745305847, 3178567.5397006776, 1474571.71602243, 803094.5598760558, 402898.90890581545, 193795.0587737769]\n"
          ]
        },
        {
          "output_type": "display_data",
          "data": {
            "text/plain": [
              "<Figure size 432x288 with 1 Axes>"
            ],
            "image/png": "[encoded data removed]"
          },
          "metadata": {
            "needs_background": "light"
          }
        },
        {
          "output_type": "stream",
          "name": "stderr",
          "text": [
            "<ipython-input-63-7cac5e171799>:32: SettingWithCopyWarning: \n",
            "A value is trying to be set on a copy of a slice from a DataFrame\n",
            "\n",
            "See the caveats in the documentation: https://pandas.pydata.org/pandas-docs/stable/user_guide/indexing.html#returning-a-view-versus-a-copy\n",
            "  Us['DR'][i+Us.index[0]] =0\n",
            "<ipython-input-63-7cac5e171799>:33: SettingWithCopyWarning: \n",
            "A value is trying to be set on a copy of a slice from a DataFrame\n",
            "\n",
            "See the caveats in the documentation: https://pandas.pydata.org/pandas-docs/stable/user_guide/indexing.html#returning-a-view-versus-a-copy\n",
            "  Us['PRB'][i+Us.index[0]] =0\n",
            "<ipython-input-63-7cac5e171799>:34: SettingWithCopyWarning: \n",
            "A value is trying to be set on a copy of a slice from a DataFrame\n",
            "\n",
            "See the caveats in the documentation: https://pandas.pydata.org/pandas-docs/stable/user_guide/indexing.html#returning-a-view-versus-a-copy\n",
            "  Us['EB'][i+Us.index[0]]= 0\n",
            "<ipython-input-63-7cac5e171799>:35: SettingWithCopyWarning: \n",
            "A value is trying to be set on a copy of a slice from a DataFrame\n",
            "\n",
            "See the caveats in the documentation: https://pandas.pydata.org/pandas-docs/stable/user_guide/indexing.html#returning-a-view-versus-a-copy\n",
            "  Us['CQI'][i+Us.index[0]]=0\n",
            "<ipython-input-63-7cac5e171799>:36: SettingWithCopyWarning: \n",
            "A value is trying to be set on a copy of a slice from a DataFrame\n",
            "\n",
            "See the caveats in the documentation: https://pandas.pydata.org/pandas-docs/stable/user_guide/indexing.html#returning-a-view-versus-a-copy\n",
            "  Us['SINR'][i+Us.index[0]]=0\n",
            "<ipython-input-63-7cac5e171799>:37: SettingWithCopyWarning: \n",
            "A value is trying to be set on a copy of a slice from a DataFrame\n",
            "\n",
            "See the caveats in the documentation: https://pandas.pydata.org/pandas-docs/stable/user_guide/indexing.html#returning-a-view-versus-a-copy\n",
            "  Us['C'][i+Us.index[0]]=False\n",
            "<ipython-input-63-7cac5e171799>:42: SettingWithCopyWarning: \n",
            "A value is trying to be set on a copy of a slice from a DataFrame\n",
            "\n",
            "See the caveats in the documentation: https://pandas.pydata.org/pandas-docs/stable/user_guide/indexing.html#returning-a-view-versus-a-copy\n",
            "  Us['DR'][i+Us.index[0]] =T*PR\n",
            "<ipython-input-63-7cac5e171799>:43: SettingWithCopyWarning: \n",
            "A value is trying to be set on a copy of a slice from a DataFrame\n",
            "\n",
            "See the caveats in the documentation: https://pandas.pydata.org/pandas-docs/stable/user_guide/indexing.html#returning-a-view-versus-a-copy\n",
            "  Us['PRB'][i+Us.index[0]] =PR\n",
            "<ipython-input-63-7cac5e171799>:44: SettingWithCopyWarning: \n",
            "A value is trying to be set on a copy of a slice from a DataFrame\n",
            "\n",
            "See the caveats in the documentation: https://pandas.pydata.org/pandas-docs/stable/user_guide/indexing.html#returning-a-view-versus-a-copy\n",
            "  Us['EB'][i+Us.index[0]]= IND + 1\n",
            "<ipython-input-63-7cac5e171799>:45: SettingWithCopyWarning: \n",
            "A value is trying to be set on a copy of a slice from a DataFrame\n",
            "\n",
            "See the caveats in the documentation: https://pandas.pydata.org/pandas-docs/stable/user_guide/indexing.html#returning-a-view-versus-a-copy\n",
            "  Us['ES'][i+Us.index[0]]= 1\n",
            "<ipython-input-63-7cac5e171799>:46: SettingWithCopyWarning: \n",
            "A value is trying to be set on a copy of a slice from a DataFrame\n",
            "\n",
            "See the caveats in the documentation: https://pandas.pydata.org/pandas-docs/stable/user_guide/indexing.html#returning-a-view-versus-a-copy\n",
            "  Us['CQI'][i+Us.index[0]]=CQI.loc[i,IND]\n",
            "<ipython-input-63-7cac5e171799>:47: SettingWithCopyWarning: \n",
            "A value is trying to be set on a copy of a slice from a DataFrame\n",
            "\n",
            "See the caveats in the documentation: https://pandas.pydata.org/pandas-docs/stable/user_guide/indexing.html#returning-a-view-versus-a-copy\n",
            "  Us['SINR'][i+Us.index[0]]=SINR.loc[i,IND]\n",
            "<ipython-input-63-7cac5e171799>:48: SettingWithCopyWarning: \n",
            "A value is trying to be set on a copy of a slice from a DataFrame\n",
            "\n",
            "See the caveats in the documentation: https://pandas.pydata.org/pandas-docs/stable/user_guide/indexing.html#returning-a-view-versus-a-copy\n",
            "  Us['C'][i+Us.index[0]]=True #usuario foi alocado naquela antena\n",
            "<ipython-input-63-7cac5e171799>:49: SettingWithCopyWarning: \n",
            "A value is trying to be set on a copy of a slice from a DataFrame\n",
            "\n",
            "See the caveats in the documentation: https://pandas.pydata.org/pandas-docs/stable/user_guide/indexing.html#returning-a-view-versus-a-copy\n",
            "  Small['PRB_F'][IND]=Small.loc[IND,'PRB_F']-PR #pega o prb da antena e diminui pela qnt de canais que o user usou\n",
            "<ipython-input-74-b94865a40029>:12: SettingWithCopyWarning: \n",
            "A value is trying to be set on a copy of a slice from a DataFrame\n",
            "\n",
            "See the caveats in the documentation: https://pandas.pydata.org/pandas-docs/stable/user_guide/indexing.html#returning-a-view-versus-a-copy\n",
            "  Us['DR'][index] =Us['DR'][index]*TOT_PR\n",
            "<ipython-input-74-b94865a40029>:13: SettingWithCopyWarning: \n",
            "A value is trying to be set on a copy of a slice from a DataFrame\n",
            "\n",
            "See the caveats in the documentation: https://pandas.pydata.org/pandas-docs/stable/user_guide/indexing.html#returning-a-view-versus-a-copy\n",
            "  Us['PRB'][index] = Us['PRB'][index] + TOT_PR\n",
            "<ipython-input-74-b94865a40029>:14: SettingWithCopyWarning: \n",
            "A value is trying to be set on a copy of a slice from a DataFrame\n",
            "\n",
            "See the caveats in the documentation: https://pandas.pydata.org/pandas-docs/stable/user_guide/indexing.html#returning-a-view-versus-a-copy\n",
            "  Small['PRB_F'][i]=Small.loc[i,'PRB_F']-TOT_PR\n",
            "<ipython-input-70-a5e07d73fc62>:16: RuntimeWarning: invalid value encountered in double_scalars\n",
            "  \"DataRateMean\": TotalDataRate/TotalUsers,\n"
          ]
        },
        {
          "output_type": "stream",
          "name": "stdout",
          "text": [
            "fatiaVazaoAgregada [4956.702734556999]\n",
            "antenasNecessariasParaSuprirUmMomento [{'id': 4.0, 'DrMean': 3122.3032577430204}, {'id': 12.0, 'DrMean': 1759.9391926847575}, {'id': 14.0, 'DrMean': 1241.6826322259924}]\n",
            "Momento Atual -------------------------------------------------------------------------------------------------- 4\n"
          ]
        },
        {
          "output_type": "display_data",
          "data": {
            "text/plain": [
              "<Figure size 432x288 with 1 Axes>"
            ],
            "image/png": "[encoded data removed]"
          },
          "metadata": {
            "needs_background": "light"
          }
        },
        {
          "output_type": "stream",
          "name": "stderr",
          "text": [
            "/usr/local/lib/python3.8/dist-packages/pandas/core/indexing.py:1732: SettingWithCopyWarning: \n",
            "A value is trying to be set on a copy of a slice from a DataFrame\n",
            "\n",
            "See the caveats in the documentation: https://pandas.pydata.org/pandas-docs/stable/user_guide/indexing.html#returning-a-view-versus-a-copy\n",
            "  self._setitem_single_block(indexer, value, name)\n",
            "/usr/local/lib/python3.8/dist-packages/pandas/core/series.py:1056: SettingWithCopyWarning: \n",
            "A value is trying to be set on a copy of a slice from a DataFrame\n",
            "\n",
            "See the caveats in the documentation: https://pandas.pydata.org/pandas-docs/stable/user_guide/indexing.html#returning-a-view-versus-a-copy\n",
            "  cacher_needs_updating = self._check_is_chained_assignment_possible()\n",
            "<ipython-input-70-a5e07d73fc62>:33: RuntimeWarning: invalid value encountered in double_scalars\n",
            "  \"DataRateMean\": TotalDataRate/TotalUsers,\n"
          ]
        },
        {
          "output_type": "stream",
          "name": "stdout",
          "text": [
            "FatiasVazao [[5416.479528143846], [10832.959056287693], [16249.438584431538], [21665.918112575386], [27082.39764071923]]\n",
            "vazaoAgregadaClusters [{'vazaoAgregada': 7286.09938289407, 'label': 3}, {'vazaoAgregada': 4423.889233730182, 'label': 7}, {'vazaoAgregada': 3861.5220316995337, 'label': 2}, {'vazaoAgregada': 2120.7861105021857, 'label': 1}, {'vazaoAgregada': 1888.2888158189044, 'label': 6}, {'vazaoAgregada': 1606.5822828291455, 'label': 5}, {'vazaoAgregada': 1208.100224619687, 'label': 10}, {'vazaoAgregada': 1147.3234490690786, 'label': 9}, {'vazaoAgregada': 1022.9605387572541, 'label': 8}, {'vazaoAgregada': 977.3043272146199, 'label': 12}, {'vazaoAgregada': 796.9473471097558, 'label': 11}, {'vazaoAgregada': 742.5938964748083, 'label': 0}, {'vazaoAgregada': 0.0, 'label': 4}, {'vazaoAgregada': 0.0, 'label': 13}, {'vazaoAgregada': 0.0, 'label': 14}, {'vazaoAgregada': 0.0, 'label': 15}, {'vazaoAgregada': 0.0, 'label': 16}, {'vazaoAgregada': 0.0, 'label': 17}]\n",
            "clustersUsados [{'vazaoAgregada': 7286.09938289407, 'label': 3}]\n",
            "clustersFinais [   MicroID  UsersConnected  TotalDataRate  DataRateMean  Moment  Label\n",
            "4      5.0             1.0    7286.099383   7286.099383     3.0      3]\n",
            "antenasLigadas [{'id': 5.0, 'DrMean': 7286.09938289407}]\n"
          ]
        },
        {
          "output_type": "stream",
          "name": "stderr",
          "text": [
            "WARNING:matplotlib.legend:No handles with labels found to put in legend.\n"
          ]
        },
        {
          "output_type": "stream",
          "name": "stdout",
          "text": [
            "sse [166950723.16902092, 49053392.03511958, 19709407.124608606, 10498870.532824364, 3122054.3285582312, 1653423.0243599864, 727507.7874520174, 411236.4175322373, 195598.83039384248]\n"
          ]
        },
        {
          "output_type": "display_data",
          "data": {
            "text/plain": [
              "<Figure size 432x288 with 1 Axes>"
            ],
            "image/png": "[encoded data removed]"
          },
          "metadata": {
            "needs_background": "light"
          }
        },
        {
          "output_type": "stream",
          "name": "stderr",
          "text": [
            "<ipython-input-63-7cac5e171799>:32: SettingWithCopyWarning: \n",
            "A value is trying to be set on a copy of a slice from a DataFrame\n",
            "\n",
            "See the caveats in the documentation: https://pandas.pydata.org/pandas-docs/stable/user_guide/indexing.html#returning-a-view-versus-a-copy\n",
            "  Us['DR'][i+Us.index[0]] =0\n",
            "<ipython-input-63-7cac5e171799>:33: SettingWithCopyWarning: \n",
            "A value is trying to be set on a copy of a slice from a DataFrame\n",
            "\n",
            "See the caveats in the documentation: https://pandas.pydata.org/pandas-docs/stable/user_guide/indexing.html#returning-a-view-versus-a-copy\n",
            "  Us['PRB'][i+Us.index[0]] =0\n",
            "<ipython-input-63-7cac5e171799>:34: SettingWithCopyWarning: \n",
            "A value is trying to be set on a copy of a slice from a DataFrame\n",
            "\n",
            "See the caveats in the documentation: https://pandas.pydata.org/pandas-docs/stable/user_guide/indexing.html#returning-a-view-versus-a-copy\n",
            "  Us['EB'][i+Us.index[0]]= 0\n",
            "<ipython-input-63-7cac5e171799>:35: SettingWithCopyWarning: \n",
            "A value is trying to be set on a copy of a slice from a DataFrame\n",
            "\n",
            "See the caveats in the documentation: https://pandas.pydata.org/pandas-docs/stable/user_guide/indexing.html#returning-a-view-versus-a-copy\n",
            "  Us['CQI'][i+Us.index[0]]=0\n",
            "<ipython-input-63-7cac5e171799>:36: SettingWithCopyWarning: \n",
            "A value is trying to be set on a copy of a slice from a DataFrame\n",
            "\n",
            "See the caveats in the documentation: https://pandas.pydata.org/pandas-docs/stable/user_guide/indexing.html#returning-a-view-versus-a-copy\n",
            "  Us['SINR'][i+Us.index[0]]=0\n",
            "<ipython-input-63-7cac5e171799>:37: SettingWithCopyWarning: \n",
            "A value is trying to be set on a copy of a slice from a DataFrame\n",
            "\n",
            "See the caveats in the documentation: https://pandas.pydata.org/pandas-docs/stable/user_guide/indexing.html#returning-a-view-versus-a-copy\n",
            "  Us['C'][i+Us.index[0]]=False\n",
            "<ipython-input-63-7cac5e171799>:42: SettingWithCopyWarning: \n",
            "A value is trying to be set on a copy of a slice from a DataFrame\n",
            "\n",
            "See the caveats in the documentation: https://pandas.pydata.org/pandas-docs/stable/user_guide/indexing.html#returning-a-view-versus-a-copy\n",
            "  Us['DR'][i+Us.index[0]] =T*PR\n",
            "<ipython-input-63-7cac5e171799>:43: SettingWithCopyWarning: \n",
            "A value is trying to be set on a copy of a slice from a DataFrame\n",
            "\n",
            "See the caveats in the documentation: https://pandas.pydata.org/pandas-docs/stable/user_guide/indexing.html#returning-a-view-versus-a-copy\n",
            "  Us['PRB'][i+Us.index[0]] =PR\n",
            "<ipython-input-63-7cac5e171799>:44: SettingWithCopyWarning: \n",
            "A value is trying to be set on a copy of a slice from a DataFrame\n",
            "\n",
            "See the caveats in the documentation: https://pandas.pydata.org/pandas-docs/stable/user_guide/indexing.html#returning-a-view-versus-a-copy\n",
            "  Us['EB'][i+Us.index[0]]= IND + 1\n",
            "<ipython-input-63-7cac5e171799>:45: SettingWithCopyWarning: \n",
            "A value is trying to be set on a copy of a slice from a DataFrame\n",
            "\n",
            "See the caveats in the documentation: https://pandas.pydata.org/pandas-docs/stable/user_guide/indexing.html#returning-a-view-versus-a-copy\n",
            "  Us['ES'][i+Us.index[0]]= 1\n",
            "<ipython-input-63-7cac5e171799>:46: SettingWithCopyWarning: \n",
            "A value is trying to be set on a copy of a slice from a DataFrame\n",
            "\n",
            "See the caveats in the documentation: https://pandas.pydata.org/pandas-docs/stable/user_guide/indexing.html#returning-a-view-versus-a-copy\n",
            "  Us['CQI'][i+Us.index[0]]=CQI.loc[i,IND]\n",
            "<ipython-input-63-7cac5e171799>:47: SettingWithCopyWarning: \n",
            "A value is trying to be set on a copy of a slice from a DataFrame\n",
            "\n",
            "See the caveats in the documentation: https://pandas.pydata.org/pandas-docs/stable/user_guide/indexing.html#returning-a-view-versus-a-copy\n",
            "  Us['SINR'][i+Us.index[0]]=SINR.loc[i,IND]\n",
            "<ipython-input-63-7cac5e171799>:48: SettingWithCopyWarning: \n",
            "A value is trying to be set on a copy of a slice from a DataFrame\n",
            "\n",
            "See the caveats in the documentation: https://pandas.pydata.org/pandas-docs/stable/user_guide/indexing.html#returning-a-view-versus-a-copy\n",
            "  Us['C'][i+Us.index[0]]=True #usuario foi alocado naquela antena\n",
            "<ipython-input-63-7cac5e171799>:49: SettingWithCopyWarning: \n",
            "A value is trying to be set on a copy of a slice from a DataFrame\n",
            "\n",
            "See the caveats in the documentation: https://pandas.pydata.org/pandas-docs/stable/user_guide/indexing.html#returning-a-view-versus-a-copy\n",
            "  Small['PRB_F'][IND]=Small.loc[IND,'PRB_F']-PR #pega o prb da antena e diminui pela qnt de canais que o user usou\n",
            "<ipython-input-74-b94865a40029>:12: SettingWithCopyWarning: \n",
            "A value is trying to be set on a copy of a slice from a DataFrame\n",
            "\n",
            "See the caveats in the documentation: https://pandas.pydata.org/pandas-docs/stable/user_guide/indexing.html#returning-a-view-versus-a-copy\n",
            "  Us['DR'][index] =Us['DR'][index]*TOT_PR\n",
            "<ipython-input-74-b94865a40029>:13: SettingWithCopyWarning: \n",
            "A value is trying to be set on a copy of a slice from a DataFrame\n",
            "\n",
            "See the caveats in the documentation: https://pandas.pydata.org/pandas-docs/stable/user_guide/indexing.html#returning-a-view-versus-a-copy\n",
            "  Us['PRB'][index] = Us['PRB'][index] + TOT_PR\n",
            "<ipython-input-74-b94865a40029>:14: SettingWithCopyWarning: \n",
            "A value is trying to be set on a copy of a slice from a DataFrame\n",
            "\n",
            "See the caveats in the documentation: https://pandas.pydata.org/pandas-docs/stable/user_guide/indexing.html#returning-a-view-versus-a-copy\n",
            "  Small['PRB_F'][i]=Small.loc[i,'PRB_F']-TOT_PR\n",
            "<ipython-input-70-a5e07d73fc62>:16: RuntimeWarning: invalid value encountered in double_scalars\n",
            "  \"DataRateMean\": TotalDataRate/TotalUsers,\n"
          ]
        },
        {
          "output_type": "stream",
          "name": "stdout",
          "text": [
            "fatiaVazaoAgregada [5416.479528143846]\n",
            "antenasNecessariasParaSuprirUmMomento [{'id': 8.0, 'DrMean': 1147.3234490690786}, {'id': 6.0, 'DrMean': 1606.5822828291455}, {'id': 19.0, 'DrMean': 2120.7861105021857}, {'id': 1.0, 'DrMean': 1022.9605387572541}]\n",
            "Momento Atual -------------------------------------------------------------------------------------------------- 5\n"
          ]
        },
        {
          "output_type": "display_data",
          "data": {
            "text/plain": [
              "<Figure size 432x288 with 1 Axes>"
            ],
            "image/png": "[encoded data removed]"
          },
          "metadata": {
            "needs_background": "light"
          }
        },
        {
          "output_type": "stream",
          "name": "stderr",
          "text": [
            "/usr/local/lib/python3.8/dist-packages/pandas/core/indexing.py:1732: SettingWithCopyWarning: \n",
            "A value is trying to be set on a copy of a slice from a DataFrame\n",
            "\n",
            "See the caveats in the documentation: https://pandas.pydata.org/pandas-docs/stable/user_guide/indexing.html#returning-a-view-versus-a-copy\n",
            "  self._setitem_single_block(indexer, value, name)\n",
            "/usr/local/lib/python3.8/dist-packages/pandas/core/series.py:1056: SettingWithCopyWarning: \n",
            "A value is trying to be set on a copy of a slice from a DataFrame\n",
            "\n",
            "See the caveats in the documentation: https://pandas.pydata.org/pandas-docs/stable/user_guide/indexing.html#returning-a-view-versus-a-copy\n",
            "  cacher_needs_updating = self._check_is_chained_assignment_possible()\n",
            "<ipython-input-70-a5e07d73fc62>:33: RuntimeWarning: invalid value encountered in double_scalars\n",
            "  \"DataRateMean\": TotalDataRate/TotalUsers,\n"
          ]
        },
        {
          "output_type": "stream",
          "name": "stdout",
          "text": [
            "FatiasVazao [[3657.606246775651], [7315.212493551302], [10972.818740326951], [14630.424987102604], [18288.031233878253]]\n",
            "vazaoAgregadaClusters [{'vazaoAgregada': 3647.7151255930817, 'label': 1}, {'vazaoAgregada': 3123.9002900195082, 'label': 3}, {'vazaoAgregada': 2401.3853821155903, 'label': 8}, {'vazaoAgregada': 2059.1380032845245, 'label': 4}, {'vazaoAgregada': 1533.037043941272, 'label': 7}, {'vazaoAgregada': 1140.888850713355, 'label': 6}, {'vazaoAgregada': 1085.5468718028167, 'label': 11}, {'vazaoAgregada': 949.1734476023362, 'label': 5}, {'vazaoAgregada': 899.9455166791826, 'label': 9}, {'vazaoAgregada': 762.6793095025456, 'label': 0}, {'vazaoAgregada': 684.6213926240399, 'label': 10}, {'vazaoAgregada': 0.0, 'label': 2}, {'vazaoAgregada': 0.0, 'label': 12}, {'vazaoAgregada': 0.0, 'label': 13}, {'vazaoAgregada': 0.0, 'label': 14}, {'vazaoAgregada': 0.0, 'label': 15}, {'vazaoAgregada': 0.0, 'label': 16}, {'vazaoAgregada': 0.0, 'label': 17}]\n",
            "clustersUsados [{'vazaoAgregada': 3647.7151255930817, 'label': 1}, {'vazaoAgregada': 3123.9002900195082, 'label': 3}]\n",
            "clustersFinais [   MicroID  UsersConnected  TotalDataRate  DataRateMean  Moment  Label\n",
            "9     10.0             1.0    3647.715126   3647.715126     4.0      1,     MicroID  UsersConnected  TotalDataRate  DataRateMean  Moment  Label\n",
            "21     22.0             2.0     6247.80058    3123.90029     4.0      3]\n",
            "antenasLigadas [{'id': 10.0, 'DrMean': 3647.7151255930817}, {'id': 22.0, 'DrMean': 3123.9002900195082}]\n"
          ]
        },
        {
          "output_type": "stream",
          "name": "stderr",
          "text": [
            "WARNING:matplotlib.legend:No handles with labels found to put in legend.\n"
          ]
        },
        {
          "output_type": "stream",
          "name": "stdout",
          "text": [
            "sse [79927614.63881904, 24819809.395499837, 9329231.208368897, 4416537.568135741, 1737589.2555754487, 668884.8921753513, 403941.1929487741, 168941.4980837361, 51782.229767001045]\n"
          ]
        },
        {
          "output_type": "display_data",
          "data": {
            "text/plain": [
              "<Figure size 432x288 with 1 Axes>"
            ],
            "image/png": "[encoded data removed]"
          },
          "metadata": {
            "needs_background": "light"
          }
        },
        {
          "output_type": "stream",
          "name": "stderr",
          "text": [
            "<ipython-input-63-7cac5e171799>:32: SettingWithCopyWarning: \n",
            "A value is trying to be set on a copy of a slice from a DataFrame\n",
            "\n",
            "See the caveats in the documentation: https://pandas.pydata.org/pandas-docs/stable/user_guide/indexing.html#returning-a-view-versus-a-copy\n",
            "  Us['DR'][i+Us.index[0]] =0\n",
            "<ipython-input-63-7cac5e171799>:33: SettingWithCopyWarning: \n",
            "A value is trying to be set on a copy of a slice from a DataFrame\n",
            "\n",
            "See the caveats in the documentation: https://pandas.pydata.org/pandas-docs/stable/user_guide/indexing.html#returning-a-view-versus-a-copy\n",
            "  Us['PRB'][i+Us.index[0]] =0\n",
            "<ipython-input-63-7cac5e171799>:34: SettingWithCopyWarning: \n",
            "A value is trying to be set on a copy of a slice from a DataFrame\n",
            "\n",
            "See the caveats in the documentation: https://pandas.pydata.org/pandas-docs/stable/user_guide/indexing.html#returning-a-view-versus-a-copy\n",
            "  Us['EB'][i+Us.index[0]]= 0\n",
            "<ipython-input-63-7cac5e171799>:35: SettingWithCopyWarning: \n",
            "A value is trying to be set on a copy of a slice from a DataFrame\n",
            "\n",
            "See the caveats in the documentation: https://pandas.pydata.org/pandas-docs/stable/user_guide/indexing.html#returning-a-view-versus-a-copy\n",
            "  Us['CQI'][i+Us.index[0]]=0\n",
            "<ipython-input-63-7cac5e171799>:36: SettingWithCopyWarning: \n",
            "A value is trying to be set on a copy of a slice from a DataFrame\n",
            "\n",
            "See the caveats in the documentation: https://pandas.pydata.org/pandas-docs/stable/user_guide/indexing.html#returning-a-view-versus-a-copy\n",
            "  Us['SINR'][i+Us.index[0]]=0\n",
            "<ipython-input-63-7cac5e171799>:37: SettingWithCopyWarning: \n",
            "A value is trying to be set on a copy of a slice from a DataFrame\n",
            "\n",
            "See the caveats in the documentation: https://pandas.pydata.org/pandas-docs/stable/user_guide/indexing.html#returning-a-view-versus-a-copy\n",
            "  Us['C'][i+Us.index[0]]=False\n",
            "<ipython-input-63-7cac5e171799>:42: SettingWithCopyWarning: \n",
            "A value is trying to be set on a copy of a slice from a DataFrame\n",
            "\n",
            "See the caveats in the documentation: https://pandas.pydata.org/pandas-docs/stable/user_guide/indexing.html#returning-a-view-versus-a-copy\n",
            "  Us['DR'][i+Us.index[0]] =T*PR\n",
            "<ipython-input-63-7cac5e171799>:43: SettingWithCopyWarning: \n",
            "A value is trying to be set on a copy of a slice from a DataFrame\n",
            "\n",
            "See the caveats in the documentation: https://pandas.pydata.org/pandas-docs/stable/user_guide/indexing.html#returning-a-view-versus-a-copy\n",
            "  Us['PRB'][i+Us.index[0]] =PR\n",
            "<ipython-input-63-7cac5e171799>:44: SettingWithCopyWarning: \n",
            "A value is trying to be set on a copy of a slice from a DataFrame\n",
            "\n",
            "See the caveats in the documentation: https://pandas.pydata.org/pandas-docs/stable/user_guide/indexing.html#returning-a-view-versus-a-copy\n",
            "  Us['EB'][i+Us.index[0]]= IND + 1\n",
            "<ipython-input-63-7cac5e171799>:45: SettingWithCopyWarning: \n",
            "A value is trying to be set on a copy of a slice from a DataFrame\n",
            "\n",
            "See the caveats in the documentation: https://pandas.pydata.org/pandas-docs/stable/user_guide/indexing.html#returning-a-view-versus-a-copy\n",
            "  Us['ES'][i+Us.index[0]]= 1\n",
            "<ipython-input-63-7cac5e171799>:46: SettingWithCopyWarning: \n",
            "A value is trying to be set on a copy of a slice from a DataFrame\n",
            "\n",
            "See the caveats in the documentation: https://pandas.pydata.org/pandas-docs/stable/user_guide/indexing.html#returning-a-view-versus-a-copy\n",
            "  Us['CQI'][i+Us.index[0]]=CQI.loc[i,IND]\n",
            "<ipython-input-63-7cac5e171799>:47: SettingWithCopyWarning: \n",
            "A value is trying to be set on a copy of a slice from a DataFrame\n",
            "\n",
            "See the caveats in the documentation: https://pandas.pydata.org/pandas-docs/stable/user_guide/indexing.html#returning-a-view-versus-a-copy\n",
            "  Us['SINR'][i+Us.index[0]]=SINR.loc[i,IND]\n",
            "<ipython-input-63-7cac5e171799>:48: SettingWithCopyWarning: \n",
            "A value is trying to be set on a copy of a slice from a DataFrame\n",
            "\n",
            "See the caveats in the documentation: https://pandas.pydata.org/pandas-docs/stable/user_guide/indexing.html#returning-a-view-versus-a-copy\n",
            "  Us['C'][i+Us.index[0]]=True #usuario foi alocado naquela antena\n",
            "<ipython-input-63-7cac5e171799>:49: SettingWithCopyWarning: \n",
            "A value is trying to be set on a copy of a slice from a DataFrame\n",
            "\n",
            "See the caveats in the documentation: https://pandas.pydata.org/pandas-docs/stable/user_guide/indexing.html#returning-a-view-versus-a-copy\n",
            "  Small['PRB_F'][IND]=Small.loc[IND,'PRB_F']-PR #pega o prb da antena e diminui pela qnt de canais que o user usou\n",
            "<ipython-input-74-b94865a40029>:12: SettingWithCopyWarning: \n",
            "A value is trying to be set on a copy of a slice from a DataFrame\n",
            "\n",
            "See the caveats in the documentation: https://pandas.pydata.org/pandas-docs/stable/user_guide/indexing.html#returning-a-view-versus-a-copy\n",
            "  Us['DR'][index] =Us['DR'][index]*TOT_PR\n",
            "<ipython-input-74-b94865a40029>:13: SettingWithCopyWarning: \n",
            "A value is trying to be set on a copy of a slice from a DataFrame\n",
            "\n",
            "See the caveats in the documentation: https://pandas.pydata.org/pandas-docs/stable/user_guide/indexing.html#returning-a-view-versus-a-copy\n",
            "  Us['PRB'][index] = Us['PRB'][index] + TOT_PR\n",
            "<ipython-input-74-b94865a40029>:14: SettingWithCopyWarning: \n",
            "A value is trying to be set on a copy of a slice from a DataFrame\n",
            "\n",
            "See the caveats in the documentation: https://pandas.pydata.org/pandas-docs/stable/user_guide/indexing.html#returning-a-view-versus-a-copy\n",
            "  Small['PRB_F'][i]=Small.loc[i,'PRB_F']-TOT_PR\n",
            "<ipython-input-70-a5e07d73fc62>:16: RuntimeWarning: invalid value encountered in double_scalars\n",
            "  \"DataRateMean\": TotalDataRate/TotalUsers,\n"
          ]
        },
        {
          "output_type": "stream",
          "name": "stdout",
          "text": [
            "fatiaVazaoAgregada [3657.606246775651]\n",
            "antenasNecessariasParaSuprirUmMomento [{'id': 9.0, 'DrMean': 949.1734476023362}, {'id': 22.0, 'DrMean': 3123.9002900195082}]\n",
            "Momento Atual -------------------------------------------------------------------------------------------------- 6\n"
          ]
        },
        {
          "output_type": "display_data",
          "data": {
            "text/plain": [
              "<Figure size 432x288 with 1 Axes>"
            ],
            "image/png": "[encoded data removed]"
          },
          "metadata": {
            "needs_background": "light"
          }
        },
        {
          "output_type": "stream",
          "name": "stderr",
          "text": [
            "/usr/local/lib/python3.8/dist-packages/pandas/core/indexing.py:1732: SettingWithCopyWarning: \n",
            "A value is trying to be set on a copy of a slice from a DataFrame\n",
            "\n",
            "See the caveats in the documentation: https://pandas.pydata.org/pandas-docs/stable/user_guide/indexing.html#returning-a-view-versus-a-copy\n",
            "  self._setitem_single_block(indexer, value, name)\n",
            "/usr/local/lib/python3.8/dist-packages/pandas/core/series.py:1056: SettingWithCopyWarning: \n",
            "A value is trying to be set on a copy of a slice from a DataFrame\n",
            "\n",
            "See the caveats in the documentation: https://pandas.pydata.org/pandas-docs/stable/user_guide/indexing.html#returning-a-view-versus-a-copy\n",
            "  cacher_needs_updating = self._check_is_chained_assignment_possible()\n"
          ]
        },
        {
          "output_type": "stream",
          "name": "stdout",
          "text": [
            "FatiasVazao [[2087.0424263562472], [4174.0848527124945], [6261.127279068742], [8348.169705424989], [10435.212131781236]]\n",
            "vazaoAgregadaClusters [{'vazaoAgregada': 1952.7914690227176, 'label': 6}, {'vazaoAgregada': 1877.3435261751818, 'label': 2}, {'vazaoAgregada': 1833.3938966007524, 'label': 4}, {'vazaoAgregada': 1532.3336057891104, 'label': 1}, {'vazaoAgregada': 1218.9454784146412, 'label': 5}, {'vazaoAgregada': 760.935663404302, 'label': 7}, {'vazaoAgregada': 661.2237200873254, 'label': 3}, {'vazaoAgregada': 598.2447722872057, 'label': 8}, {'vazaoAgregada': 0.0, 'label': 0}, {'vazaoAgregada': 0.0, 'label': 9}, {'vazaoAgregada': 0.0, 'label': 10}, {'vazaoAgregada': 0.0, 'label': 11}, {'vazaoAgregada': 0.0, 'label': 12}, {'vazaoAgregada': 0.0, 'label': 13}, {'vazaoAgregada': 0.0, 'label': 14}, {'vazaoAgregada': 0.0, 'label': 15}, {'vazaoAgregada': 0.0, 'label': 16}, {'vazaoAgregada': 0.0, 'label': 17}]\n",
            "clustersUsados [{'vazaoAgregada': 1952.7914690227176, 'label': 6}, {'vazaoAgregada': 1877.3435261751818, 'label': 2}]\n",
            "clustersFinais [    MicroID  UsersConnected  TotalDataRate  DataRateMean  Moment  Label\n",
            "16     17.0             1.0    1952.791469   1952.791469     5.0      6,     MicroID  UsersConnected  TotalDataRate  DataRateMean  Moment  Label\n",
            "17     18.0             2.0    3754.687052   1877.343526     5.0      2]\n",
            "antenasLigadas [{'id': 17.0, 'DrMean': 1952.7914690227176}, {'id': 18.0, 'DrMean': 1877.3435261751818}]\n"
          ]
        },
        {
          "output_type": "stream",
          "name": "stderr",
          "text": [
            "WARNING:matplotlib.legend:No handles with labels found to put in legend.\n"
          ]
        },
        {
          "output_type": "stream",
          "name": "stdout",
          "text": [
            "sse [31969809.53328654, 6633644.687285664, 2989750.3579029664, 662592.627090787, 140915.66238522358, 42695.04400594707, 19611.12816626859, 5328.8478660102055, 1332.0]\n"
          ]
        },
        {
          "output_type": "display_data",
          "data": {
            "text/plain": [
              "<Figure size 432x288 with 1 Axes>"
            ],
            "image/png": "[encoded data removed]"
          },
          "metadata": {
            "needs_background": "light"
          }
        },
        {
          "output_type": "stream",
          "name": "stderr",
          "text": [
            "<ipython-input-63-7cac5e171799>:32: SettingWithCopyWarning: \n",
            "A value is trying to be set on a copy of a slice from a DataFrame\n",
            "\n",
            "See the caveats in the documentation: https://pandas.pydata.org/pandas-docs/stable/user_guide/indexing.html#returning-a-view-versus-a-copy\n",
            "  Us['DR'][i+Us.index[0]] =0\n",
            "<ipython-input-63-7cac5e171799>:33: SettingWithCopyWarning: \n",
            "A value is trying to be set on a copy of a slice from a DataFrame\n",
            "\n",
            "See the caveats in the documentation: https://pandas.pydata.org/pandas-docs/stable/user_guide/indexing.html#returning-a-view-versus-a-copy\n",
            "  Us['PRB'][i+Us.index[0]] =0\n",
            "<ipython-input-63-7cac5e171799>:34: SettingWithCopyWarning: \n",
            "A value is trying to be set on a copy of a slice from a DataFrame\n",
            "\n",
            "See the caveats in the documentation: https://pandas.pydata.org/pandas-docs/stable/user_guide/indexing.html#returning-a-view-versus-a-copy\n",
            "  Us['EB'][i+Us.index[0]]= 0\n",
            "<ipython-input-63-7cac5e171799>:35: SettingWithCopyWarning: \n",
            "A value is trying to be set on a copy of a slice from a DataFrame\n",
            "\n",
            "See the caveats in the documentation: https://pandas.pydata.org/pandas-docs/stable/user_guide/indexing.html#returning-a-view-versus-a-copy\n",
            "  Us['CQI'][i+Us.index[0]]=0\n",
            "<ipython-input-63-7cac5e171799>:36: SettingWithCopyWarning: \n",
            "A value is trying to be set on a copy of a slice from a DataFrame\n",
            "\n",
            "See the caveats in the documentation: https://pandas.pydata.org/pandas-docs/stable/user_guide/indexing.html#returning-a-view-versus-a-copy\n",
            "  Us['SINR'][i+Us.index[0]]=0\n",
            "<ipython-input-63-7cac5e171799>:37: SettingWithCopyWarning: \n",
            "A value is trying to be set on a copy of a slice from a DataFrame\n",
            "\n",
            "See the caveats in the documentation: https://pandas.pydata.org/pandas-docs/stable/user_guide/indexing.html#returning-a-view-versus-a-copy\n",
            "  Us['C'][i+Us.index[0]]=False\n",
            "<ipython-input-63-7cac5e171799>:42: SettingWithCopyWarning: \n",
            "A value is trying to be set on a copy of a slice from a DataFrame\n",
            "\n",
            "See the caveats in the documentation: https://pandas.pydata.org/pandas-docs/stable/user_guide/indexing.html#returning-a-view-versus-a-copy\n",
            "  Us['DR'][i+Us.index[0]] =T*PR\n",
            "<ipython-input-63-7cac5e171799>:43: SettingWithCopyWarning: \n",
            "A value is trying to be set on a copy of a slice from a DataFrame\n",
            "\n",
            "See the caveats in the documentation: https://pandas.pydata.org/pandas-docs/stable/user_guide/indexing.html#returning-a-view-versus-a-copy\n",
            "  Us['PRB'][i+Us.index[0]] =PR\n",
            "<ipython-input-63-7cac5e171799>:44: SettingWithCopyWarning: \n",
            "A value is trying to be set on a copy of a slice from a DataFrame\n",
            "\n",
            "See the caveats in the documentation: https://pandas.pydata.org/pandas-docs/stable/user_guide/indexing.html#returning-a-view-versus-a-copy\n",
            "  Us['EB'][i+Us.index[0]]= IND + 1\n",
            "<ipython-input-63-7cac5e171799>:45: SettingWithCopyWarning: \n",
            "A value is trying to be set on a copy of a slice from a DataFrame\n",
            "\n",
            "See the caveats in the documentation: https://pandas.pydata.org/pandas-docs/stable/user_guide/indexing.html#returning-a-view-versus-a-copy\n",
            "  Us['ES'][i+Us.index[0]]= 1\n",
            "<ipython-input-63-7cac5e171799>:46: SettingWithCopyWarning: \n",
            "A value is trying to be set on a copy of a slice from a DataFrame\n",
            "\n",
            "See the caveats in the documentation: https://pandas.pydata.org/pandas-docs/stable/user_guide/indexing.html#returning-a-view-versus-a-copy\n",
            "  Us['CQI'][i+Us.index[0]]=CQI.loc[i,IND]\n",
            "<ipython-input-63-7cac5e171799>:47: SettingWithCopyWarning: \n",
            "A value is trying to be set on a copy of a slice from a DataFrame\n",
            "\n",
            "See the caveats in the documentation: https://pandas.pydata.org/pandas-docs/stable/user_guide/indexing.html#returning-a-view-versus-a-copy\n",
            "  Us['SINR'][i+Us.index[0]]=SINR.loc[i,IND]\n",
            "<ipython-input-63-7cac5e171799>:48: SettingWithCopyWarning: \n",
            "A value is trying to be set on a copy of a slice from a DataFrame\n",
            "\n",
            "See the caveats in the documentation: https://pandas.pydata.org/pandas-docs/stable/user_guide/indexing.html#returning-a-view-versus-a-copy\n",
            "  Us['C'][i+Us.index[0]]=True #usuario foi alocado naquela antena\n",
            "<ipython-input-63-7cac5e171799>:49: SettingWithCopyWarning: \n",
            "A value is trying to be set on a copy of a slice from a DataFrame\n",
            "\n",
            "See the caveats in the documentation: https://pandas.pydata.org/pandas-docs/stable/user_guide/indexing.html#returning-a-view-versus-a-copy\n",
            "  Small['PRB_F'][IND]=Small.loc[IND,'PRB_F']-PR #pega o prb da antena e diminui pela qnt de canais que o user usou\n",
            "<ipython-input-74-b94865a40029>:12: SettingWithCopyWarning: \n",
            "A value is trying to be set on a copy of a slice from a DataFrame\n",
            "\n",
            "See the caveats in the documentation: https://pandas.pydata.org/pandas-docs/stable/user_guide/indexing.html#returning-a-view-versus-a-copy\n",
            "  Us['DR'][index] =Us['DR'][index]*TOT_PR\n",
            "<ipython-input-74-b94865a40029>:13: SettingWithCopyWarning: \n",
            "A value is trying to be set on a copy of a slice from a DataFrame\n",
            "\n",
            "See the caveats in the documentation: https://pandas.pydata.org/pandas-docs/stable/user_guide/indexing.html#returning-a-view-versus-a-copy\n",
            "  Us['PRB'][index] = Us['PRB'][index] + TOT_PR\n",
            "<ipython-input-74-b94865a40029>:14: SettingWithCopyWarning: \n",
            "A value is trying to be set on a copy of a slice from a DataFrame\n",
            "\n",
            "See the caveats in the documentation: https://pandas.pydata.org/pandas-docs/stable/user_guide/indexing.html#returning-a-view-versus-a-copy\n",
            "  Small['PRB_F'][i]=Small.loc[i,'PRB_F']-TOT_PR\n",
            "<ipython-input-70-a5e07d73fc62>:16: RuntimeWarning: invalid value encountered in double_scalars\n",
            "  \"DataRateMean\": TotalDataRate/TotalUsers,\n"
          ]
        },
        {
          "output_type": "stream",
          "name": "stdout",
          "text": [
            "fatiaVazaoAgregada [2087.0424263562472]\n",
            "antenasNecessariasParaSuprirUmMomento [{'id': 18.0, 'DrMean': 1877.3435261751818}, {'id': 2.0, 'DrMean': 661.2237200873254}]\n",
            "Momento Atual -------------------------------------------------------------------------------------------------- 7\n"
          ]
        },
        {
          "output_type": "display_data",
          "data": {
            "text/plain": [
              "<Figure size 432x288 with 1 Axes>"
            ],
            "image/png": "[encoded data removed]"
          },
          "metadata": {
            "needs_background": "light"
          }
        },
        {
          "output_type": "stream",
          "name": "stderr",
          "text": [
            "/usr/local/lib/python3.8/dist-packages/pandas/core/indexing.py:1732: SettingWithCopyWarning: \n",
            "A value is trying to be set on a copy of a slice from a DataFrame\n",
            "\n",
            "See the caveats in the documentation: https://pandas.pydata.org/pandas-docs/stable/user_guide/indexing.html#returning-a-view-versus-a-copy\n",
            "  self._setitem_single_block(indexer, value, name)\n",
            "/usr/local/lib/python3.8/dist-packages/pandas/core/series.py:1056: SettingWithCopyWarning: \n",
            "A value is trying to be set on a copy of a slice from a DataFrame\n",
            "\n",
            "See the caveats in the documentation: https://pandas.pydata.org/pandas-docs/stable/user_guide/indexing.html#returning-a-view-versus-a-copy\n",
            "  cacher_needs_updating = self._check_is_chained_assignment_possible()\n",
            "<ipython-input-70-a5e07d73fc62>:33: RuntimeWarning: invalid value encountered in double_scalars\n",
            "  \"DataRateMean\": TotalDataRate/TotalUsers,\n"
          ]
        },
        {
          "output_type": "stream",
          "name": "stdout",
          "text": [
            "FatiasVazao [[2768.7054617063586], [5537.410923412717], [8306.116385119074], [11074.821846825434], [13843.527308531791]]\n",
            "vazaoAgregadaClusters [{'vazaoAgregada': 3814.3413591546764, 'label': 6}, {'vazaoAgregada': 3508.01410774692, 'label': 0}, {'vazaoAgregada': 2536.8057112337538, 'label': 5}, {'vazaoAgregada': 2118.8416121912687, 'label': 2}, {'vazaoAgregada': 957.1286709722273, 'label': 3}, {'vazaoAgregada': 908.3958472329448, 'label': 4}, {'vazaoAgregada': 0.0, 'label': 1}, {'vazaoAgregada': 0.0, 'label': 7}, {'vazaoAgregada': 0.0, 'label': 8}, {'vazaoAgregada': 0.0, 'label': 9}, {'vazaoAgregada': 0.0, 'label': 10}, {'vazaoAgregada': 0.0, 'label': 11}, {'vazaoAgregada': 0.0, 'label': 12}, {'vazaoAgregada': 0.0, 'label': 13}, {'vazaoAgregada': 0.0, 'label': 14}, {'vazaoAgregada': 0.0, 'label': 15}, {'vazaoAgregada': 0.0, 'label': 16}, {'vazaoAgregada': 0.0, 'label': 17}]\n",
            "clustersUsados [{'vazaoAgregada': 3814.3413591546764, 'label': 6}]\n",
            "clustersFinais [    MicroID  UsersConnected  TotalDataRate  DataRateMean  Moment  Label\n",
            "10     11.0             1.0    3814.341359   3814.341359     6.0      6]\n",
            "antenasLigadas [{'id': 11.0, 'DrMean': 3814.3413591546764}]\n"
          ]
        },
        {
          "output_type": "stream",
          "name": "stderr",
          "text": [
            "WARNING:matplotlib.legend:No handles with labels found to put in legend.\n"
          ]
        },
        {
          "output_type": "stream",
          "name": "stdout",
          "text": [
            "sse [65149967.25333998, 9251925.69995299, 3446768.521045368, 640822.8109214668, 270074.1098855322, 95325.62179713593, 1466.7368421052631, 558.4772727272727, 334.060606060606]\n"
          ]
        },
        {
          "output_type": "display_data",
          "data": {
            "text/plain": [
              "<Figure size 432x288 with 1 Axes>"
            ],
            "image/png": "[encoded data removed]"
          },
          "metadata": {
            "needs_background": "light"
          }
        },
        {
          "output_type": "stream",
          "name": "stderr",
          "text": [
            "<ipython-input-63-7cac5e171799>:32: SettingWithCopyWarning: \n",
            "A value is trying to be set on a copy of a slice from a DataFrame\n",
            "\n",
            "See the caveats in the documentation: https://pandas.pydata.org/pandas-docs/stable/user_guide/indexing.html#returning-a-view-versus-a-copy\n",
            "  Us['DR'][i+Us.index[0]] =0\n",
            "<ipython-input-63-7cac5e171799>:33: SettingWithCopyWarning: \n",
            "A value is trying to be set on a copy of a slice from a DataFrame\n",
            "\n",
            "See the caveats in the documentation: https://pandas.pydata.org/pandas-docs/stable/user_guide/indexing.html#returning-a-view-versus-a-copy\n",
            "  Us['PRB'][i+Us.index[0]] =0\n",
            "<ipython-input-63-7cac5e171799>:34: SettingWithCopyWarning: \n",
            "A value is trying to be set on a copy of a slice from a DataFrame\n",
            "\n",
            "See the caveats in the documentation: https://pandas.pydata.org/pandas-docs/stable/user_guide/indexing.html#returning-a-view-versus-a-copy\n",
            "  Us['EB'][i+Us.index[0]]= 0\n",
            "<ipython-input-63-7cac5e171799>:35: SettingWithCopyWarning: \n",
            "A value is trying to be set on a copy of a slice from a DataFrame\n",
            "\n",
            "See the caveats in the documentation: https://pandas.pydata.org/pandas-docs/stable/user_guide/indexing.html#returning-a-view-versus-a-copy\n",
            "  Us['CQI'][i+Us.index[0]]=0\n",
            "<ipython-input-63-7cac5e171799>:36: SettingWithCopyWarning: \n",
            "A value is trying to be set on a copy of a slice from a DataFrame\n",
            "\n",
            "See the caveats in the documentation: https://pandas.pydata.org/pandas-docs/stable/user_guide/indexing.html#returning-a-view-versus-a-copy\n",
            "  Us['SINR'][i+Us.index[0]]=0\n",
            "<ipython-input-63-7cac5e171799>:37: SettingWithCopyWarning: \n",
            "A value is trying to be set on a copy of a slice from a DataFrame\n",
            "\n",
            "See the caveats in the documentation: https://pandas.pydata.org/pandas-docs/stable/user_guide/indexing.html#returning-a-view-versus-a-copy\n",
            "  Us['C'][i+Us.index[0]]=False\n",
            "<ipython-input-63-7cac5e171799>:42: SettingWithCopyWarning: \n",
            "A value is trying to be set on a copy of a slice from a DataFrame\n",
            "\n",
            "See the caveats in the documentation: https://pandas.pydata.org/pandas-docs/stable/user_guide/indexing.html#returning-a-view-versus-a-copy\n",
            "  Us['DR'][i+Us.index[0]] =T*PR\n",
            "<ipython-input-63-7cac5e171799>:43: SettingWithCopyWarning: \n",
            "A value is trying to be set on a copy of a slice from a DataFrame\n",
            "\n",
            "See the caveats in the documentation: https://pandas.pydata.org/pandas-docs/stable/user_guide/indexing.html#returning-a-view-versus-a-copy\n",
            "  Us['PRB'][i+Us.index[0]] =PR\n",
            "<ipython-input-63-7cac5e171799>:44: SettingWithCopyWarning: \n",
            "A value is trying to be set on a copy of a slice from a DataFrame\n",
            "\n",
            "See the caveats in the documentation: https://pandas.pydata.org/pandas-docs/stable/user_guide/indexing.html#returning-a-view-versus-a-copy\n",
            "  Us['EB'][i+Us.index[0]]= IND + 1\n",
            "<ipython-input-63-7cac5e171799>:45: SettingWithCopyWarning: \n",
            "A value is trying to be set on a copy of a slice from a DataFrame\n",
            "\n",
            "See the caveats in the documentation: https://pandas.pydata.org/pandas-docs/stable/user_guide/indexing.html#returning-a-view-versus-a-copy\n",
            "  Us['ES'][i+Us.index[0]]= 1\n",
            "<ipython-input-63-7cac5e171799>:46: SettingWithCopyWarning: \n",
            "A value is trying to be set on a copy of a slice from a DataFrame\n",
            "\n",
            "See the caveats in the documentation: https://pandas.pydata.org/pandas-docs/stable/user_guide/indexing.html#returning-a-view-versus-a-copy\n",
            "  Us['CQI'][i+Us.index[0]]=CQI.loc[i,IND]\n",
            "<ipython-input-63-7cac5e171799>:47: SettingWithCopyWarning: \n",
            "A value is trying to be set on a copy of a slice from a DataFrame\n",
            "\n",
            "See the caveats in the documentation: https://pandas.pydata.org/pandas-docs/stable/user_guide/indexing.html#returning-a-view-versus-a-copy\n",
            "  Us['SINR'][i+Us.index[0]]=SINR.loc[i,IND]\n",
            "<ipython-input-63-7cac5e171799>:48: SettingWithCopyWarning: \n",
            "A value is trying to be set on a copy of a slice from a DataFrame\n",
            "\n",
            "See the caveats in the documentation: https://pandas.pydata.org/pandas-docs/stable/user_guide/indexing.html#returning-a-view-versus-a-copy\n",
            "  Us['C'][i+Us.index[0]]=True #usuario foi alocado naquela antena\n",
            "<ipython-input-63-7cac5e171799>:49: SettingWithCopyWarning: \n",
            "A value is trying to be set on a copy of a slice from a DataFrame\n",
            "\n",
            "See the caveats in the documentation: https://pandas.pydata.org/pandas-docs/stable/user_guide/indexing.html#returning-a-view-versus-a-copy\n",
            "  Small['PRB_F'][IND]=Small.loc[IND,'PRB_F']-PR #pega o prb da antena e diminui pela qnt de canais que o user usou\n",
            "<ipython-input-74-b94865a40029>:12: SettingWithCopyWarning: \n",
            "A value is trying to be set on a copy of a slice from a DataFrame\n",
            "\n",
            "See the caveats in the documentation: https://pandas.pydata.org/pandas-docs/stable/user_guide/indexing.html#returning-a-view-versus-a-copy\n",
            "  Us['DR'][index] =Us['DR'][index]*TOT_PR\n",
            "<ipython-input-74-b94865a40029>:13: SettingWithCopyWarning: \n",
            "A value is trying to be set on a copy of a slice from a DataFrame\n",
            "\n",
            "See the caveats in the documentation: https://pandas.pydata.org/pandas-docs/stable/user_guide/indexing.html#returning-a-view-versus-a-copy\n",
            "  Us['PRB'][index] = Us['PRB'][index] + TOT_PR\n",
            "<ipython-input-74-b94865a40029>:14: SettingWithCopyWarning: \n",
            "A value is trying to be set on a copy of a slice from a DataFrame\n",
            "\n",
            "See the caveats in the documentation: https://pandas.pydata.org/pandas-docs/stable/user_guide/indexing.html#returning-a-view-versus-a-copy\n",
            "  Small['PRB_F'][i]=Small.loc[i,'PRB_F']-TOT_PR\n",
            "<ipython-input-70-a5e07d73fc62>:16: RuntimeWarning: invalid value encountered in double_scalars\n",
            "  \"DataRateMean\": TotalDataRate/TotalUsers,\n"
          ]
        },
        {
          "output_type": "stream",
          "name": "stdout",
          "text": [
            "fatiaVazaoAgregada [2768.7054617063586]\n",
            "antenasNecessariasParaSuprirUmMomento [{'id': 12.0, 'DrMean': 908.3958472329448}, {'id': 2.0, 'DrMean': 957.1286709722273}, {'id': 10.0, 'DrMean': 2536.8057112337538}]\n",
            "Momento Atual -------------------------------------------------------------------------------------------------- 8\n"
          ]
        },
        {
          "output_type": "display_data",
          "data": {
            "text/plain": [
              "<Figure size 432x288 with 1 Axes>"
            ],
            "image/png": "[encoded data removed]"
          },
          "metadata": {
            "needs_background": "light"
          }
        },
        {
          "output_type": "stream",
          "name": "stderr",
          "text": [
            "/usr/local/lib/python3.8/dist-packages/pandas/core/indexing.py:1732: SettingWithCopyWarning: \n",
            "A value is trying to be set on a copy of a slice from a DataFrame\n",
            "\n",
            "See the caveats in the documentation: https://pandas.pydata.org/pandas-docs/stable/user_guide/indexing.html#returning-a-view-versus-a-copy\n",
            "  self._setitem_single_block(indexer, value, name)\n",
            "/usr/local/lib/python3.8/dist-packages/pandas/core/series.py:1056: SettingWithCopyWarning: \n",
            "A value is trying to be set on a copy of a slice from a DataFrame\n",
            "\n",
            "See the caveats in the documentation: https://pandas.pydata.org/pandas-docs/stable/user_guide/indexing.html#returning-a-view-versus-a-copy\n",
            "  cacher_needs_updating = self._check_is_chained_assignment_possible()\n",
            "<ipython-input-70-a5e07d73fc62>:33: RuntimeWarning: invalid value encountered in double_scalars\n",
            "  \"DataRateMean\": TotalDataRate/TotalUsers,\n"
          ]
        },
        {
          "output_type": "stream",
          "name": "stdout",
          "text": [
            "FatiasVazao [[2175.124459548171], [4350.248919096342], [6525.373378644514], [8700.497838192685], [10875.622297740856]]\n",
            "vazaoAgregadaClusters [{'vazaoAgregada': 4584.130984449286, 'label': 3}, {'vazaoAgregada': 4479.974004078672, 'label': 1}, {'vazaoAgregada': 1811.5173092128978, 'label': 2}, {'vazaoAgregada': 0.0, 'label': 0}, {'vazaoAgregada': 0.0, 'label': 4}, {'vazaoAgregada': 0.0, 'label': 5}, {'vazaoAgregada': 0.0, 'label': 6}, {'vazaoAgregada': 0.0, 'label': 7}, {'vazaoAgregada': 0.0, 'label': 8}, {'vazaoAgregada': 0.0, 'label': 9}, {'vazaoAgregada': 0.0, 'label': 10}, {'vazaoAgregada': 0.0, 'label': 11}, {'vazaoAgregada': 0.0, 'label': 12}, {'vazaoAgregada': 0.0, 'label': 13}, {'vazaoAgregada': 0.0, 'label': 14}, {'vazaoAgregada': 0.0, 'label': 15}, {'vazaoAgregada': 0.0, 'label': 16}, {'vazaoAgregada': 0.0, 'label': 17}]\n",
            "clustersUsados [{'vazaoAgregada': 4584.130984449286, 'label': 3}]\n",
            "clustersFinais [    MicroID  UsersConnected  TotalDataRate  DataRateMean  Moment  Label\n",
            "24     25.0             1.0    4584.130984   4584.130984     7.0      3]\n",
            "antenasLigadas [{'id': 25.0, 'DrMean': 4584.130984449286}]\n"
          ]
        },
        {
          "output_type": "stream",
          "name": "stderr",
          "text": [
            "WARNING:matplotlib.legend:No handles with labels found to put in legend.\n"
          ]
        },
        {
          "output_type": "stream",
          "name": "stdout",
          "text": [
            "sse [101847083.9859637, 5489817.153758023, 12463.040196288217, 1467.8636363636365, 599.8181818181819, 419.95404040404037, 293.5486111111111, 188.2857142857143, 115.41666666666666]\n"
          ]
        },
        {
          "output_type": "display_data",
          "data": {
            "text/plain": [
              "<Figure size 432x288 with 1 Axes>"
            ],
            "image/png": "[encoded data removed]"
          },
          "metadata": {
            "needs_background": "light"
          }
        },
        {
          "output_type": "stream",
          "name": "stderr",
          "text": [
            "<ipython-input-63-7cac5e171799>:32: SettingWithCopyWarning: \n",
            "A value is trying to be set on a copy of a slice from a DataFrame\n",
            "\n",
            "See the caveats in the documentation: https://pandas.pydata.org/pandas-docs/stable/user_guide/indexing.html#returning-a-view-versus-a-copy\n",
            "  Us['DR'][i+Us.index[0]] =0\n",
            "<ipython-input-63-7cac5e171799>:33: SettingWithCopyWarning: \n",
            "A value is trying to be set on a copy of a slice from a DataFrame\n",
            "\n",
            "See the caveats in the documentation: https://pandas.pydata.org/pandas-docs/stable/user_guide/indexing.html#returning-a-view-versus-a-copy\n",
            "  Us['PRB'][i+Us.index[0]] =0\n",
            "<ipython-input-63-7cac5e171799>:34: SettingWithCopyWarning: \n",
            "A value is trying to be set on a copy of a slice from a DataFrame\n",
            "\n",
            "See the caveats in the documentation: https://pandas.pydata.org/pandas-docs/stable/user_guide/indexing.html#returning-a-view-versus-a-copy\n",
            "  Us['EB'][i+Us.index[0]]= 0\n",
            "<ipython-input-63-7cac5e171799>:35: SettingWithCopyWarning: \n",
            "A value is trying to be set on a copy of a slice from a DataFrame\n",
            "\n",
            "See the caveats in the documentation: https://pandas.pydata.org/pandas-docs/stable/user_guide/indexing.html#returning-a-view-versus-a-copy\n",
            "  Us['CQI'][i+Us.index[0]]=0\n",
            "<ipython-input-63-7cac5e171799>:36: SettingWithCopyWarning: \n",
            "A value is trying to be set on a copy of a slice from a DataFrame\n",
            "\n",
            "See the caveats in the documentation: https://pandas.pydata.org/pandas-docs/stable/user_guide/indexing.html#returning-a-view-versus-a-copy\n",
            "  Us['SINR'][i+Us.index[0]]=0\n",
            "<ipython-input-63-7cac5e171799>:37: SettingWithCopyWarning: \n",
            "A value is trying to be set on a copy of a slice from a DataFrame\n",
            "\n",
            "See the caveats in the documentation: https://pandas.pydata.org/pandas-docs/stable/user_guide/indexing.html#returning-a-view-versus-a-copy\n",
            "  Us['C'][i+Us.index[0]]=False\n",
            "<ipython-input-63-7cac5e171799>:42: SettingWithCopyWarning: \n",
            "A value is trying to be set on a copy of a slice from a DataFrame\n",
            "\n",
            "See the caveats in the documentation: https://pandas.pydata.org/pandas-docs/stable/user_guide/indexing.html#returning-a-view-versus-a-copy\n",
            "  Us['DR'][i+Us.index[0]] =T*PR\n",
            "<ipython-input-63-7cac5e171799>:43: SettingWithCopyWarning: \n",
            "A value is trying to be set on a copy of a slice from a DataFrame\n",
            "\n",
            "See the caveats in the documentation: https://pandas.pydata.org/pandas-docs/stable/user_guide/indexing.html#returning-a-view-versus-a-copy\n",
            "  Us['PRB'][i+Us.index[0]] =PR\n",
            "<ipython-input-63-7cac5e171799>:44: SettingWithCopyWarning: \n",
            "A value is trying to be set on a copy of a slice from a DataFrame\n",
            "\n",
            "See the caveats in the documentation: https://pandas.pydata.org/pandas-docs/stable/user_guide/indexing.html#returning-a-view-versus-a-copy\n",
            "  Us['EB'][i+Us.index[0]]= IND + 1\n",
            "<ipython-input-63-7cac5e171799>:45: SettingWithCopyWarning: \n",
            "A value is trying to be set on a copy of a slice from a DataFrame\n",
            "\n",
            "See the caveats in the documentation: https://pandas.pydata.org/pandas-docs/stable/user_guide/indexing.html#returning-a-view-versus-a-copy\n",
            "  Us['ES'][i+Us.index[0]]= 1\n",
            "<ipython-input-63-7cac5e171799>:46: SettingWithCopyWarning: \n",
            "A value is trying to be set on a copy of a slice from a DataFrame\n",
            "\n",
            "See the caveats in the documentation: https://pandas.pydata.org/pandas-docs/stable/user_guide/indexing.html#returning-a-view-versus-a-copy\n",
            "  Us['CQI'][i+Us.index[0]]=CQI.loc[i,IND]\n",
            "<ipython-input-63-7cac5e171799>:47: SettingWithCopyWarning: \n",
            "A value is trying to be set on a copy of a slice from a DataFrame\n",
            "\n",
            "See the caveats in the documentation: https://pandas.pydata.org/pandas-docs/stable/user_guide/indexing.html#returning-a-view-versus-a-copy\n",
            "  Us['SINR'][i+Us.index[0]]=SINR.loc[i,IND]\n",
            "<ipython-input-63-7cac5e171799>:48: SettingWithCopyWarning: \n",
            "A value is trying to be set on a copy of a slice from a DataFrame\n",
            "\n",
            "See the caveats in the documentation: https://pandas.pydata.org/pandas-docs/stable/user_guide/indexing.html#returning-a-view-versus-a-copy\n",
            "  Us['C'][i+Us.index[0]]=True #usuario foi alocado naquela antena\n",
            "<ipython-input-63-7cac5e171799>:49: SettingWithCopyWarning: \n",
            "A value is trying to be set on a copy of a slice from a DataFrame\n",
            "\n",
            "See the caveats in the documentation: https://pandas.pydata.org/pandas-docs/stable/user_guide/indexing.html#returning-a-view-versus-a-copy\n",
            "  Small['PRB_F'][IND]=Small.loc[IND,'PRB_F']-PR #pega o prb da antena e diminui pela qnt de canais que o user usou\n",
            "<ipython-input-74-b94865a40029>:12: SettingWithCopyWarning: \n",
            "A value is trying to be set on a copy of a slice from a DataFrame\n",
            "\n",
            "See the caveats in the documentation: https://pandas.pydata.org/pandas-docs/stable/user_guide/indexing.html#returning-a-view-versus-a-copy\n",
            "  Us['DR'][index] =Us['DR'][index]*TOT_PR\n",
            "<ipython-input-74-b94865a40029>:13: SettingWithCopyWarning: \n",
            "A value is trying to be set on a copy of a slice from a DataFrame\n",
            "\n",
            "See the caveats in the documentation: https://pandas.pydata.org/pandas-docs/stable/user_guide/indexing.html#returning-a-view-versus-a-copy\n",
            "  Us['PRB'][index] = Us['PRB'][index] + TOT_PR\n",
            "<ipython-input-74-b94865a40029>:14: SettingWithCopyWarning: \n",
            "A value is trying to be set on a copy of a slice from a DataFrame\n",
            "\n",
            "See the caveats in the documentation: https://pandas.pydata.org/pandas-docs/stable/user_guide/indexing.html#returning-a-view-versus-a-copy\n",
            "  Small['PRB_F'][i]=Small.loc[i,'PRB_F']-TOT_PR\n",
            "<ipython-input-70-a5e07d73fc62>:16: RuntimeWarning: invalid value encountered in double_scalars\n",
            "  \"DataRateMean\": TotalDataRate/TotalUsers,\n"
          ]
        },
        {
          "output_type": "stream",
          "name": "stdout",
          "text": [
            "fatiaVazaoAgregada [2175.124459548171]\n",
            "antenasNecessariasParaSuprirUmMomento [{'id': 2.0, 'DrMean': 1811.5173092128978}, {'id': 8.0, 'DrMean': 4479.974004078672}]\n",
            "Momento Atual -------------------------------------------------------------------------------------------------- 9\n"
          ]
        },
        {
          "output_type": "display_data",
          "data": {
            "text/plain": [
              "<Figure size 432x288 with 1 Axes>"
            ],
            "image/png": "[encoded data removed]"
          },
          "metadata": {
            "needs_background": "light"
          }
        },
        {
          "output_type": "stream",
          "name": "stderr",
          "text": [
            "/usr/local/lib/python3.8/dist-packages/pandas/core/indexing.py:1732: SettingWithCopyWarning: \n",
            "A value is trying to be set on a copy of a slice from a DataFrame\n",
            "\n",
            "See the caveats in the documentation: https://pandas.pydata.org/pandas-docs/stable/user_guide/indexing.html#returning-a-view-versus-a-copy\n",
            "  self._setitem_single_block(indexer, value, name)\n",
            "/usr/local/lib/python3.8/dist-packages/pandas/core/series.py:1056: SettingWithCopyWarning: \n",
            "A value is trying to be set on a copy of a slice from a DataFrame\n",
            "\n",
            "See the caveats in the documentation: https://pandas.pydata.org/pandas-docs/stable/user_guide/indexing.html#returning-a-view-versus-a-copy\n",
            "  cacher_needs_updating = self._check_is_chained_assignment_possible()\n"
          ]
        },
        {
          "output_type": "stream",
          "name": "stdout",
          "text": [
            "FatiasVazao [[1019.4669693754837], [2038.9339387509674], [3058.4009081264508], [4077.867877501935], [5097.334846877418]]\n",
            "vazaoAgregadaClusters [{'vazaoAgregada': 3733.034171256508, 'label': 1}, {'vazaoAgregada': 1364.3006756209106, 'label': 2}, {'vazaoAgregada': 0.0, 'label': 0}, {'vazaoAgregada': 0.0, 'label': 3}, {'vazaoAgregada': 0.0, 'label': 4}, {'vazaoAgregada': 0.0, 'label': 5}, {'vazaoAgregada': 0.0, 'label': 6}, {'vazaoAgregada': 0.0, 'label': 7}, {'vazaoAgregada': 0.0, 'label': 8}, {'vazaoAgregada': 0.0, 'label': 9}, {'vazaoAgregada': 0.0, 'label': 10}, {'vazaoAgregada': 0.0, 'label': 11}, {'vazaoAgregada': 0.0, 'label': 12}, {'vazaoAgregada': 0.0, 'label': 13}, {'vazaoAgregada': 0.0, 'label': 14}, {'vazaoAgregada': 0.0, 'label': 15}, {'vazaoAgregada': 0.0, 'label': 16}, {'vazaoAgregada': 0.0, 'label': 17}]\n",
            "clustersUsados [{'vazaoAgregada': 3733.034171256508, 'label': 1}]\n",
            "clustersFinais [    MicroID  UsersConnected  TotalDataRate  DataRateMean  Moment  Label\n",
            "22     23.0             1.0    3733.034171   3733.034171     8.0      1]\n",
            "antenasLigadas [{'id': 23.0, 'DrMean': 3733.034171256508}]\n"
          ]
        },
        {
          "output_type": "stream",
          "name": "stderr",
          "text": [
            "WARNING:matplotlib.legend:No handles with labels found to put in legend.\n"
          ]
        },
        {
          "output_type": "stream",
          "name": "stdout",
          "text": [
            "sse [29516973.91124161, 3569246.264207707, 1638.6086956521738, 770.0151515151515, 488.0051948051948, 344.6333333333333, 234.41666666666663, 144.24999999999997, 110.33333333333334]\n"
          ]
        },
        {
          "output_type": "display_data",
          "data": {
            "text/plain": [
              "<Figure size 432x288 with 1 Axes>"
            ],
            "image/png": "[encoded data removed]"
          },
          "metadata": {
            "needs_background": "light"
          }
        },
        {
          "output_type": "stream",
          "name": "stderr",
          "text": [
            "<ipython-input-63-7cac5e171799>:32: SettingWithCopyWarning: \n",
            "A value is trying to be set on a copy of a slice from a DataFrame\n",
            "\n",
            "See the caveats in the documentation: https://pandas.pydata.org/pandas-docs/stable/user_guide/indexing.html#returning-a-view-versus-a-copy\n",
            "  Us['DR'][i+Us.index[0]] =0\n",
            "<ipython-input-63-7cac5e171799>:33: SettingWithCopyWarning: \n",
            "A value is trying to be set on a copy of a slice from a DataFrame\n",
            "\n",
            "See the caveats in the documentation: https://pandas.pydata.org/pandas-docs/stable/user_guide/indexing.html#returning-a-view-versus-a-copy\n",
            "  Us['PRB'][i+Us.index[0]] =0\n",
            "<ipython-input-63-7cac5e171799>:34: SettingWithCopyWarning: \n",
            "A value is trying to be set on a copy of a slice from a DataFrame\n",
            "\n",
            "See the caveats in the documentation: https://pandas.pydata.org/pandas-docs/stable/user_guide/indexing.html#returning-a-view-versus-a-copy\n",
            "  Us['EB'][i+Us.index[0]]= 0\n",
            "<ipython-input-63-7cac5e171799>:35: SettingWithCopyWarning: \n",
            "A value is trying to be set on a copy of a slice from a DataFrame\n",
            "\n",
            "See the caveats in the documentation: https://pandas.pydata.org/pandas-docs/stable/user_guide/indexing.html#returning-a-view-versus-a-copy\n",
            "  Us['CQI'][i+Us.index[0]]=0\n",
            "<ipython-input-63-7cac5e171799>:36: SettingWithCopyWarning: \n",
            "A value is trying to be set on a copy of a slice from a DataFrame\n",
            "\n",
            "See the caveats in the documentation: https://pandas.pydata.org/pandas-docs/stable/user_guide/indexing.html#returning-a-view-versus-a-copy\n",
            "  Us['SINR'][i+Us.index[0]]=0\n",
            "<ipython-input-63-7cac5e171799>:37: SettingWithCopyWarning: \n",
            "A value is trying to be set on a copy of a slice from a DataFrame\n",
            "\n",
            "See the caveats in the documentation: https://pandas.pydata.org/pandas-docs/stable/user_guide/indexing.html#returning-a-view-versus-a-copy\n",
            "  Us['C'][i+Us.index[0]]=False\n",
            "<ipython-input-63-7cac5e171799>:42: SettingWithCopyWarning: \n",
            "A value is trying to be set on a copy of a slice from a DataFrame\n",
            "\n",
            "See the caveats in the documentation: https://pandas.pydata.org/pandas-docs/stable/user_guide/indexing.html#returning-a-view-versus-a-copy\n",
            "  Us['DR'][i+Us.index[0]] =T*PR\n",
            "<ipython-input-63-7cac5e171799>:43: SettingWithCopyWarning: \n",
            "A value is trying to be set on a copy of a slice from a DataFrame\n",
            "\n",
            "See the caveats in the documentation: https://pandas.pydata.org/pandas-docs/stable/user_guide/indexing.html#returning-a-view-versus-a-copy\n",
            "  Us['PRB'][i+Us.index[0]] =PR\n",
            "<ipython-input-63-7cac5e171799>:44: SettingWithCopyWarning: \n",
            "A value is trying to be set on a copy of a slice from a DataFrame\n",
            "\n",
            "See the caveats in the documentation: https://pandas.pydata.org/pandas-docs/stable/user_guide/indexing.html#returning-a-view-versus-a-copy\n",
            "  Us['EB'][i+Us.index[0]]= IND + 1\n",
            "<ipython-input-63-7cac5e171799>:45: SettingWithCopyWarning: \n",
            "A value is trying to be set on a copy of a slice from a DataFrame\n",
            "\n",
            "See the caveats in the documentation: https://pandas.pydata.org/pandas-docs/stable/user_guide/indexing.html#returning-a-view-versus-a-copy\n",
            "  Us['ES'][i+Us.index[0]]= 1\n",
            "<ipython-input-63-7cac5e171799>:46: SettingWithCopyWarning: \n",
            "A value is trying to be set on a copy of a slice from a DataFrame\n",
            "\n",
            "See the caveats in the documentation: https://pandas.pydata.org/pandas-docs/stable/user_guide/indexing.html#returning-a-view-versus-a-copy\n",
            "  Us['CQI'][i+Us.index[0]]=CQI.loc[i,IND]\n",
            "<ipython-input-63-7cac5e171799>:47: SettingWithCopyWarning: \n",
            "A value is trying to be set on a copy of a slice from a DataFrame\n",
            "\n",
            "See the caveats in the documentation: https://pandas.pydata.org/pandas-docs/stable/user_guide/indexing.html#returning-a-view-versus-a-copy\n",
            "  Us['SINR'][i+Us.index[0]]=SINR.loc[i,IND]\n",
            "<ipython-input-63-7cac5e171799>:48: SettingWithCopyWarning: \n",
            "A value is trying to be set on a copy of a slice from a DataFrame\n",
            "\n",
            "See the caveats in the documentation: https://pandas.pydata.org/pandas-docs/stable/user_guide/indexing.html#returning-a-view-versus-a-copy\n",
            "  Us['C'][i+Us.index[0]]=True #usuario foi alocado naquela antena\n",
            "<ipython-input-63-7cac5e171799>:49: SettingWithCopyWarning: \n",
            "A value is trying to be set on a copy of a slice from a DataFrame\n",
            "\n",
            "See the caveats in the documentation: https://pandas.pydata.org/pandas-docs/stable/user_guide/indexing.html#returning-a-view-versus-a-copy\n",
            "  Small['PRB_F'][IND]=Small.loc[IND,'PRB_F']-PR #pega o prb da antena e diminui pela qnt de canais que o user usou\n",
            "<ipython-input-74-b94865a40029>:12: SettingWithCopyWarning: \n",
            "A value is trying to be set on a copy of a slice from a DataFrame\n",
            "\n",
            "See the caveats in the documentation: https://pandas.pydata.org/pandas-docs/stable/user_guide/indexing.html#returning-a-view-versus-a-copy\n",
            "  Us['DR'][index] =Us['DR'][index]*TOT_PR\n",
            "<ipython-input-74-b94865a40029>:13: SettingWithCopyWarning: \n",
            "A value is trying to be set on a copy of a slice from a DataFrame\n",
            "\n",
            "See the caveats in the documentation: https://pandas.pydata.org/pandas-docs/stable/user_guide/indexing.html#returning-a-view-versus-a-copy\n",
            "  Us['PRB'][index] = Us['PRB'][index] + TOT_PR\n",
            "<ipython-input-74-b94865a40029>:14: SettingWithCopyWarning: \n",
            "A value is trying to be set on a copy of a slice from a DataFrame\n",
            "\n",
            "See the caveats in the documentation: https://pandas.pydata.org/pandas-docs/stable/user_guide/indexing.html#returning-a-view-versus-a-copy\n",
            "  Small['PRB_F'][i]=Small.loc[i,'PRB_F']-TOT_PR\n",
            "<ipython-input-70-a5e07d73fc62>:16: RuntimeWarning: invalid value encountered in double_scalars\n",
            "  \"DataRateMean\": TotalDataRate/TotalUsers,\n"
          ]
        },
        {
          "output_type": "stream",
          "name": "stdout",
          "text": [
            "fatiaVazaoAgregada [1019.4669693754837]\n",
            "antenasNecessariasParaSuprirUmMomento [{'id': 19.0, 'DrMean': 1364.3006756209106}]\n",
            "Momento Atual -------------------------------------------------------------------------------------------------- 10\n"
          ]
        },
        {
          "output_type": "display_data",
          "data": {
            "text/plain": [
              "<Figure size 432x288 with 1 Axes>"
            ],
            "image/png": "[encoded data removed]"
          },
          "metadata": {
            "needs_background": "light"
          }
        },
        {
          "output_type": "stream",
          "name": "stderr",
          "text": [
            "/usr/local/lib/python3.8/dist-packages/pandas/core/indexing.py:1732: SettingWithCopyWarning: \n",
            "A value is trying to be set on a copy of a slice from a DataFrame\n",
            "\n",
            "See the caveats in the documentation: https://pandas.pydata.org/pandas-docs/stable/user_guide/indexing.html#returning-a-view-versus-a-copy\n",
            "  self._setitem_single_block(indexer, value, name)\n",
            "/usr/local/lib/python3.8/dist-packages/pandas/core/series.py:1056: SettingWithCopyWarning: \n",
            "A value is trying to be set on a copy of a slice from a DataFrame\n",
            "\n",
            "See the caveats in the documentation: https://pandas.pydata.org/pandas-docs/stable/user_guide/indexing.html#returning-a-view-versus-a-copy\n",
            "  cacher_needs_updating = self._check_is_chained_assignment_possible()\n",
            "<ipython-input-70-a5e07d73fc62>:33: RuntimeWarning: invalid value encountered in double_scalars\n",
            "  \"DataRateMean\": TotalDataRate/TotalUsers,\n"
          ]
        },
        {
          "output_type": "stream",
          "name": "stdout",
          "text": [
            "FatiasVazao [[1376.036480561553], [2752.072961123106], [4128.109441684658], [5504.145922246212], [6880.182402807764]]\n",
            "vazaoAgregadaClusters [{'vazaoAgregada': 2262.3461136013625, 'label': 4}, {'vazaoAgregada': 1808.4236730942876, 'label': 0}, {'vazaoAgregada': 1113.9079517982377, 'label': 5}, {'vazaoAgregada': 766.5940683723371, 'label': 2}, {'vazaoAgregada': 473.3929254178728, 'label': 7}, {'vazaoAgregada': 455.51767052366597, 'label': 3}, {'vazaoAgregada': 0.0, 'label': 1}, {'vazaoAgregada': 0.0, 'label': 6}, {'vazaoAgregada': 0.0, 'label': 8}, {'vazaoAgregada': 0.0, 'label': 9}, {'vazaoAgregada': 0.0, 'label': 10}, {'vazaoAgregada': 0.0, 'label': 11}, {'vazaoAgregada': 0.0, 'label': 12}, {'vazaoAgregada': 0.0, 'label': 13}, {'vazaoAgregada': 0.0, 'label': 14}, {'vazaoAgregada': 0.0, 'label': 15}, {'vazaoAgregada': 0.0, 'label': 16}, {'vazaoAgregada': 0.0, 'label': 17}]\n",
            "clustersUsados [{'vazaoAgregada': 2262.3461136013625, 'label': 4}]\n",
            "clustersFinais [   MicroID  UsersConnected  TotalDataRate  DataRateMean  Moment  Label\n",
            "3      4.0             1.0    2262.346114   2262.346114     9.0      4]\n",
            "antenasLigadas [{'id': 4.0, 'DrMean': 2262.3461136013625}]\n"
          ]
        },
        {
          "output_type": "stream",
          "name": "stderr",
          "text": [
            "WARNING:matplotlib.legend:No handles with labels found to put in legend.\n"
          ]
        },
        {
          "output_type": "stream",
          "name": "stdout",
          "text": [
            "sse [17512273.368073586, 3117166.0838405704, 781300.3833711452, 329530.3625240042, 122454.43204212346, 1750.9984217433912, 951.2866422947696, 615.7619047619048, 401.48611111111114]\n"
          ]
        },
        {
          "output_type": "display_data",
          "data": {
            "text/plain": [
              "<Figure size 432x288 with 1 Axes>"
            ],
            "image/png": "[encoded data removed]"
          },
          "metadata": {
            "needs_background": "light"
          }
        },
        {
          "output_type": "stream",
          "name": "stderr",
          "text": [
            "<ipython-input-63-7cac5e171799>:32: SettingWithCopyWarning: \n",
            "A value is trying to be set on a copy of a slice from a DataFrame\n",
            "\n",
            "See the caveats in the documentation: https://pandas.pydata.org/pandas-docs/stable/user_guide/indexing.html#returning-a-view-versus-a-copy\n",
            "  Us['DR'][i+Us.index[0]] =0\n",
            "<ipython-input-63-7cac5e171799>:33: SettingWithCopyWarning: \n",
            "A value is trying to be set on a copy of a slice from a DataFrame\n",
            "\n",
            "See the caveats in the documentation: https://pandas.pydata.org/pandas-docs/stable/user_guide/indexing.html#returning-a-view-versus-a-copy\n",
            "  Us['PRB'][i+Us.index[0]] =0\n",
            "<ipython-input-63-7cac5e171799>:34: SettingWithCopyWarning: \n",
            "A value is trying to be set on a copy of a slice from a DataFrame\n",
            "\n",
            "See the caveats in the documentation: https://pandas.pydata.org/pandas-docs/stable/user_guide/indexing.html#returning-a-view-versus-a-copy\n",
            "  Us['EB'][i+Us.index[0]]= 0\n",
            "<ipython-input-63-7cac5e171799>:35: SettingWithCopyWarning: \n",
            "A value is trying to be set on a copy of a slice from a DataFrame\n",
            "\n",
            "See the caveats in the documentation: https://pandas.pydata.org/pandas-docs/stable/user_guide/indexing.html#returning-a-view-versus-a-copy\n",
            "  Us['CQI'][i+Us.index[0]]=0\n",
            "<ipython-input-63-7cac5e171799>:36: SettingWithCopyWarning: \n",
            "A value is trying to be set on a copy of a slice from a DataFrame\n",
            "\n",
            "See the caveats in the documentation: https://pandas.pydata.org/pandas-docs/stable/user_guide/indexing.html#returning-a-view-versus-a-copy\n",
            "  Us['SINR'][i+Us.index[0]]=0\n",
            "<ipython-input-63-7cac5e171799>:37: SettingWithCopyWarning: \n",
            "A value is trying to be set on a copy of a slice from a DataFrame\n",
            "\n",
            "See the caveats in the documentation: https://pandas.pydata.org/pandas-docs/stable/user_guide/indexing.html#returning-a-view-versus-a-copy\n",
            "  Us['C'][i+Us.index[0]]=False\n",
            "<ipython-input-63-7cac5e171799>:42: SettingWithCopyWarning: \n",
            "A value is trying to be set on a copy of a slice from a DataFrame\n",
            "\n",
            "See the caveats in the documentation: https://pandas.pydata.org/pandas-docs/stable/user_guide/indexing.html#returning-a-view-versus-a-copy\n",
            "  Us['DR'][i+Us.index[0]] =T*PR\n",
            "<ipython-input-63-7cac5e171799>:43: SettingWithCopyWarning: \n",
            "A value is trying to be set on a copy of a slice from a DataFrame\n",
            "\n",
            "See the caveats in the documentation: https://pandas.pydata.org/pandas-docs/stable/user_guide/indexing.html#returning-a-view-versus-a-copy\n",
            "  Us['PRB'][i+Us.index[0]] =PR\n",
            "<ipython-input-63-7cac5e171799>:44: SettingWithCopyWarning: \n",
            "A value is trying to be set on a copy of a slice from a DataFrame\n",
            "\n",
            "See the caveats in the documentation: https://pandas.pydata.org/pandas-docs/stable/user_guide/indexing.html#returning-a-view-versus-a-copy\n",
            "  Us['EB'][i+Us.index[0]]= IND + 1\n",
            "<ipython-input-63-7cac5e171799>:45: SettingWithCopyWarning: \n",
            "A value is trying to be set on a copy of a slice from a DataFrame\n",
            "\n",
            "See the caveats in the documentation: https://pandas.pydata.org/pandas-docs/stable/user_guide/indexing.html#returning-a-view-versus-a-copy\n",
            "  Us['ES'][i+Us.index[0]]= 1\n",
            "<ipython-input-63-7cac5e171799>:46: SettingWithCopyWarning: \n",
            "A value is trying to be set on a copy of a slice from a DataFrame\n",
            "\n",
            "See the caveats in the documentation: https://pandas.pydata.org/pandas-docs/stable/user_guide/indexing.html#returning-a-view-versus-a-copy\n",
            "  Us['CQI'][i+Us.index[0]]=CQI.loc[i,IND]\n",
            "<ipython-input-63-7cac5e171799>:47: SettingWithCopyWarning: \n",
            "A value is trying to be set on a copy of a slice from a DataFrame\n",
            "\n",
            "See the caveats in the documentation: https://pandas.pydata.org/pandas-docs/stable/user_guide/indexing.html#returning-a-view-versus-a-copy\n",
            "  Us['SINR'][i+Us.index[0]]=SINR.loc[i,IND]\n",
            "<ipython-input-63-7cac5e171799>:48: SettingWithCopyWarning: \n",
            "A value is trying to be set on a copy of a slice from a DataFrame\n",
            "\n",
            "See the caveats in the documentation: https://pandas.pydata.org/pandas-docs/stable/user_guide/indexing.html#returning-a-view-versus-a-copy\n",
            "  Us['C'][i+Us.index[0]]=True #usuario foi alocado naquela antena\n",
            "<ipython-input-63-7cac5e171799>:49: SettingWithCopyWarning: \n",
            "A value is trying to be set on a copy of a slice from a DataFrame\n",
            "\n",
            "See the caveats in the documentation: https://pandas.pydata.org/pandas-docs/stable/user_guide/indexing.html#returning-a-view-versus-a-copy\n",
            "  Small['PRB_F'][IND]=Small.loc[IND,'PRB_F']-PR #pega o prb da antena e diminui pela qnt de canais que o user usou\n",
            "<ipython-input-74-b94865a40029>:12: SettingWithCopyWarning: \n",
            "A value is trying to be set on a copy of a slice from a DataFrame\n",
            "\n",
            "See the caveats in the documentation: https://pandas.pydata.org/pandas-docs/stable/user_guide/indexing.html#returning-a-view-versus-a-copy\n",
            "  Us['DR'][index] =Us['DR'][index]*TOT_PR\n",
            "<ipython-input-74-b94865a40029>:13: SettingWithCopyWarning: \n",
            "A value is trying to be set on a copy of a slice from a DataFrame\n",
            "\n",
            "See the caveats in the documentation: https://pandas.pydata.org/pandas-docs/stable/user_guide/indexing.html#returning-a-view-versus-a-copy\n",
            "  Us['PRB'][index] = Us['PRB'][index] + TOT_PR\n",
            "<ipython-input-74-b94865a40029>:14: SettingWithCopyWarning: \n",
            "A value is trying to be set on a copy of a slice from a DataFrame\n",
            "\n",
            "See the caveats in the documentation: https://pandas.pydata.org/pandas-docs/stable/user_guide/indexing.html#returning-a-view-versus-a-copy\n",
            "  Small['PRB_F'][i]=Small.loc[i,'PRB_F']-TOT_PR\n",
            "<ipython-input-70-a5e07d73fc62>:16: RuntimeWarning: invalid value encountered in double_scalars\n",
            "  \"DataRateMean\": TotalDataRate/TotalUsers,\n"
          ]
        },
        {
          "output_type": "stream",
          "name": "stdout",
          "text": [
            "fatiaVazaoAgregada [1376.036480561553]\n",
            "antenasNecessariasParaSuprirUmMomento [{'id': 4.0, 'DrMean': 2262.3461136013625}]\n",
            "Momento Atual -------------------------------------------------------------------------------------------------- 11\n"
          ]
        },
        {
          "output_type": "display_data",
          "data": {
            "text/plain": [
              "<Figure size 432x288 with 1 Axes>"
            ],
            "image/png": "[encoded data removed]"
          },
          "metadata": {
            "needs_background": "light"
          }
        },
        {
          "output_type": "stream",
          "name": "stderr",
          "text": [
            "/usr/local/lib/python3.8/dist-packages/pandas/core/indexing.py:1732: SettingWithCopyWarning: \n",
            "A value is trying to be set on a copy of a slice from a DataFrame\n",
            "\n",
            "See the caveats in the documentation: https://pandas.pydata.org/pandas-docs/stable/user_guide/indexing.html#returning-a-view-versus-a-copy\n",
            "  self._setitem_single_block(indexer, value, name)\n",
            "/usr/local/lib/python3.8/dist-packages/pandas/core/series.py:1056: SettingWithCopyWarning: \n",
            "A value is trying to be set on a copy of a slice from a DataFrame\n",
            "\n",
            "See the caveats in the documentation: https://pandas.pydata.org/pandas-docs/stable/user_guide/indexing.html#returning-a-view-versus-a-copy\n",
            "  cacher_needs_updating = self._check_is_chained_assignment_possible()\n",
            "<ipython-input-70-a5e07d73fc62>:33: RuntimeWarning: invalid value encountered in double_scalars\n",
            "  \"DataRateMean\": TotalDataRate/TotalUsers,\n"
          ]
        },
        {
          "output_type": "stream",
          "name": "stdout",
          "text": [
            "FatiasVazao [[3934.910789532163], [7869.821579064326], [11804.732368596488], [15739.643158128652], [19674.553947660814]]\n",
            "vazaoAgregadaClusters [{'vazaoAgregada': 5532.217872968886, 'label': 4}, {'vazaoAgregada': 4969.515455965448, 'label': 1}, {'vazaoAgregada': 2010.409903207397, 'label': 6}, {'vazaoAgregada': 1672.2058945053925, 'label': 2}, {'vazaoAgregada': 1627.9833646179463, 'label': 9}, {'vazaoAgregada': 1506.0143020421262, 'label': 8}, {'vazaoAgregada': 1113.4691947283395, 'label': 5}, {'vazaoAgregada': 732.8509235199782, 'label': 3}, {'vazaoAgregada': 509.88703610529626, 'label': 7}, {'vazaoAgregada': 0.0, 'label': 0}, {'vazaoAgregada': 0.0, 'label': 10}, {'vazaoAgregada': 0.0, 'label': 11}, {'vazaoAgregada': 0.0, 'label': 12}, {'vazaoAgregada': 0.0, 'label': 13}, {'vazaoAgregada': 0.0, 'label': 14}, {'vazaoAgregada': 0.0, 'label': 15}, {'vazaoAgregada': 0.0, 'label': 16}, {'vazaoAgregada': 0.0, 'label': 17}]\n",
            "clustersUsados [{'vazaoAgregada': 5532.217872968886, 'label': 4}]\n",
            "clustersFinais [   MicroID  UsersConnected  TotalDataRate  DataRateMean  Moment  Label\n",
            "6      7.0             1.0    5532.217873   5532.217873    10.0      4]\n",
            "antenasLigadas [{'id': 7.0, 'DrMean': 5532.217872968886}]\n"
          ]
        },
        {
          "output_type": "stream",
          "name": "stderr",
          "text": [
            "WARNING:matplotlib.legend:No handles with labels found to put in legend.\n"
          ]
        },
        {
          "output_type": "stream",
          "name": "stdout",
          "text": [
            "sse [109141901.41518667, 23365990.074509114, 2518515.2336933715, 1145622.300043513, 647749.4232801953, 331038.9131786849, 80809.90244489815, 30976.507353831177, 3285.3196496460696]\n"
          ]
        },
        {
          "output_type": "display_data",
          "data": {
            "text/plain": [
              "<Figure size 432x288 with 1 Axes>"
            ],
            "image/png": "[encoded data removed]"
          },
          "metadata": {
            "needs_background": "light"
          }
        },
        {
          "output_type": "stream",
          "name": "stderr",
          "text": [
            "<ipython-input-63-7cac5e171799>:32: SettingWithCopyWarning: \n",
            "A value is trying to be set on a copy of a slice from a DataFrame\n",
            "\n",
            "See the caveats in the documentation: https://pandas.pydata.org/pandas-docs/stable/user_guide/indexing.html#returning-a-view-versus-a-copy\n",
            "  Us['DR'][i+Us.index[0]] =0\n",
            "<ipython-input-63-7cac5e171799>:33: SettingWithCopyWarning: \n",
            "A value is trying to be set on a copy of a slice from a DataFrame\n",
            "\n",
            "See the caveats in the documentation: https://pandas.pydata.org/pandas-docs/stable/user_guide/indexing.html#returning-a-view-versus-a-copy\n",
            "  Us['PRB'][i+Us.index[0]] =0\n",
            "<ipython-input-63-7cac5e171799>:34: SettingWithCopyWarning: \n",
            "A value is trying to be set on a copy of a slice from a DataFrame\n",
            "\n",
            "See the caveats in the documentation: https://pandas.pydata.org/pandas-docs/stable/user_guide/indexing.html#returning-a-view-versus-a-copy\n",
            "  Us['EB'][i+Us.index[0]]= 0\n",
            "<ipython-input-63-7cac5e171799>:35: SettingWithCopyWarning: \n",
            "A value is trying to be set on a copy of a slice from a DataFrame\n",
            "\n",
            "See the caveats in the documentation: https://pandas.pydata.org/pandas-docs/stable/user_guide/indexing.html#returning-a-view-versus-a-copy\n",
            "  Us['CQI'][i+Us.index[0]]=0\n",
            "<ipython-input-63-7cac5e171799>:36: SettingWithCopyWarning: \n",
            "A value is trying to be set on a copy of a slice from a DataFrame\n",
            "\n",
            "See the caveats in the documentation: https://pandas.pydata.org/pandas-docs/stable/user_guide/indexing.html#returning-a-view-versus-a-copy\n",
            "  Us['SINR'][i+Us.index[0]]=0\n",
            "<ipython-input-63-7cac5e171799>:37: SettingWithCopyWarning: \n",
            "A value is trying to be set on a copy of a slice from a DataFrame\n",
            "\n",
            "See the caveats in the documentation: https://pandas.pydata.org/pandas-docs/stable/user_guide/indexing.html#returning-a-view-versus-a-copy\n",
            "  Us['C'][i+Us.index[0]]=False\n",
            "<ipython-input-63-7cac5e171799>:42: SettingWithCopyWarning: \n",
            "A value is trying to be set on a copy of a slice from a DataFrame\n",
            "\n",
            "See the caveats in the documentation: https://pandas.pydata.org/pandas-docs/stable/user_guide/indexing.html#returning-a-view-versus-a-copy\n",
            "  Us['DR'][i+Us.index[0]] =T*PR\n",
            "<ipython-input-63-7cac5e171799>:43: SettingWithCopyWarning: \n",
            "A value is trying to be set on a copy of a slice from a DataFrame\n",
            "\n",
            "See the caveats in the documentation: https://pandas.pydata.org/pandas-docs/stable/user_guide/indexing.html#returning-a-view-versus-a-copy\n",
            "  Us['PRB'][i+Us.index[0]] =PR\n",
            "<ipython-input-63-7cac5e171799>:44: SettingWithCopyWarning: \n",
            "A value is trying to be set on a copy of a slice from a DataFrame\n",
            "\n",
            "See the caveats in the documentation: https://pandas.pydata.org/pandas-docs/stable/user_guide/indexing.html#returning-a-view-versus-a-copy\n",
            "  Us['EB'][i+Us.index[0]]= IND + 1\n",
            "<ipython-input-63-7cac5e171799>:45: SettingWithCopyWarning: \n",
            "A value is trying to be set on a copy of a slice from a DataFrame\n",
            "\n",
            "See the caveats in the documentation: https://pandas.pydata.org/pandas-docs/stable/user_guide/indexing.html#returning-a-view-versus-a-copy\n",
            "  Us['ES'][i+Us.index[0]]= 1\n",
            "<ipython-input-63-7cac5e171799>:46: SettingWithCopyWarning: \n",
            "A value is trying to be set on a copy of a slice from a DataFrame\n",
            "\n",
            "See the caveats in the documentation: https://pandas.pydata.org/pandas-docs/stable/user_guide/indexing.html#returning-a-view-versus-a-copy\n",
            "  Us['CQI'][i+Us.index[0]]=CQI.loc[i,IND]\n",
            "<ipython-input-63-7cac5e171799>:47: SettingWithCopyWarning: \n",
            "A value is trying to be set on a copy of a slice from a DataFrame\n",
            "\n",
            "See the caveats in the documentation: https://pandas.pydata.org/pandas-docs/stable/user_guide/indexing.html#returning-a-view-versus-a-copy\n",
            "  Us['SINR'][i+Us.index[0]]=SINR.loc[i,IND]\n",
            "<ipython-input-63-7cac5e171799>:48: SettingWithCopyWarning: \n",
            "A value is trying to be set on a copy of a slice from a DataFrame\n",
            "\n",
            "See the caveats in the documentation: https://pandas.pydata.org/pandas-docs/stable/user_guide/indexing.html#returning-a-view-versus-a-copy\n",
            "  Us['C'][i+Us.index[0]]=True #usuario foi alocado naquela antena\n",
            "<ipython-input-63-7cac5e171799>:49: SettingWithCopyWarning: \n",
            "A value is trying to be set on a copy of a slice from a DataFrame\n",
            "\n",
            "See the caveats in the documentation: https://pandas.pydata.org/pandas-docs/stable/user_guide/indexing.html#returning-a-view-versus-a-copy\n",
            "  Small['PRB_F'][IND]=Small.loc[IND,'PRB_F']-PR #pega o prb da antena e diminui pela qnt de canais que o user usou\n",
            "<ipython-input-74-b94865a40029>:12: SettingWithCopyWarning: \n",
            "A value is trying to be set on a copy of a slice from a DataFrame\n",
            "\n",
            "See the caveats in the documentation: https://pandas.pydata.org/pandas-docs/stable/user_guide/indexing.html#returning-a-view-versus-a-copy\n",
            "  Us['DR'][index] =Us['DR'][index]*TOT_PR\n",
            "<ipython-input-74-b94865a40029>:13: SettingWithCopyWarning: \n",
            "A value is trying to be set on a copy of a slice from a DataFrame\n",
            "\n",
            "See the caveats in the documentation: https://pandas.pydata.org/pandas-docs/stable/user_guide/indexing.html#returning-a-view-versus-a-copy\n",
            "  Us['PRB'][index] = Us['PRB'][index] + TOT_PR\n",
            "<ipython-input-74-b94865a40029>:14: SettingWithCopyWarning: \n",
            "A value is trying to be set on a copy of a slice from a DataFrame\n",
            "\n",
            "See the caveats in the documentation: https://pandas.pydata.org/pandas-docs/stable/user_guide/indexing.html#returning-a-view-versus-a-copy\n",
            "  Small['PRB_F'][i]=Small.loc[i,'PRB_F']-TOT_PR\n",
            "<ipython-input-70-a5e07d73fc62>:16: RuntimeWarning: invalid value encountered in double_scalars\n",
            "  \"DataRateMean\": TotalDataRate/TotalUsers,\n"
          ]
        },
        {
          "output_type": "stream",
          "name": "stdout",
          "text": [
            "fatiaVazaoAgregada [3934.910789532163]\n",
            "antenasNecessariasParaSuprirUmMomento [{'id': 6.0, 'DrMean': 1113.4691947283395}, {'id': 7.0, 'DrMean': 5532.217872968886}]\n",
            "Momento Atual -------------------------------------------------------------------------------------------------- 12\n"
          ]
        },
        {
          "output_type": "display_data",
          "data": {
            "text/plain": [
              "<Figure size 432x288 with 1 Axes>"
            ],
            "image/png": "[encoded data removed]"
          },
          "metadata": {
            "needs_background": "light"
          }
        },
        {
          "output_type": "stream",
          "name": "stderr",
          "text": [
            "/usr/local/lib/python3.8/dist-packages/pandas/core/indexing.py:1732: SettingWithCopyWarning: \n",
            "A value is trying to be set on a copy of a slice from a DataFrame\n",
            "\n",
            "See the caveats in the documentation: https://pandas.pydata.org/pandas-docs/stable/user_guide/indexing.html#returning-a-view-versus-a-copy\n",
            "  self._setitem_single_block(indexer, value, name)\n",
            "/usr/local/lib/python3.8/dist-packages/pandas/core/series.py:1056: SettingWithCopyWarning: \n",
            "A value is trying to be set on a copy of a slice from a DataFrame\n",
            "\n",
            "See the caveats in the documentation: https://pandas.pydata.org/pandas-docs/stable/user_guide/indexing.html#returning-a-view-versus-a-copy\n",
            "  cacher_needs_updating = self._check_is_chained_assignment_possible()\n"
          ]
        },
        {
          "output_type": "stream",
          "name": "stdout",
          "text": [
            "FatiasVazao [[3407.0750093846], [6814.1500187692], [10221.2250281538], [13628.3000375384], [17035.375046923]]\n",
            "vazaoAgregadaClusters [{'vazaoAgregada': 2820.750459965326, 'label': 9}, {'vazaoAgregada': 2680.863513598301, 'label': 2}, {'vazaoAgregada': 2138.9149102955976, 'label': 5}, {'vazaoAgregada': 2102.893436490362, 'label': 6}, {'vazaoAgregada': 1958.0683376141242, 'label': 10}, {'vazaoAgregada': 1906.851435375214, 'label': 1}, {'vazaoAgregada': 1300.1188093682968, 'label': 7}, {'vazaoAgregada': 1019.3552785397426, 'label': 4}, {'vazaoAgregada': 656.8133395216701, 'label': 3}, {'vazaoAgregada': 450.74552615436784, 'label': 8}, {'vazaoAgregada': 0.0, 'label': 0}, {'vazaoAgregada': 0.0, 'label': 11}, {'vazaoAgregada': 0.0, 'label': 12}, {'vazaoAgregada': 0.0, 'label': 13}, {'vazaoAgregada': 0.0, 'label': 14}, {'vazaoAgregada': 0.0, 'label': 15}, {'vazaoAgregada': 0.0, 'label': 16}, {'vazaoAgregada': 0.0, 'label': 17}]\n",
            "clustersUsados [{'vazaoAgregada': 2820.750459965326, 'label': 9}, {'vazaoAgregada': 2680.863513598301, 'label': 2}]\n",
            "clustersFinais [   MicroID  UsersConnected  TotalDataRate  DataRateMean  Moment  Label\n",
            "4      5.0             1.0     2820.75046    2820.75046    11.0      9,     MicroID  UsersConnected  TotalDataRate  DataRateMean  Moment  Label\n",
            "13     14.0             1.0    2680.863514   2680.863514    11.0      2]\n",
            "antenasLigadas [{'id': 5.0, 'DrMean': 2820.750459965326}, {'id': 14.0, 'DrMean': 2680.863513598301}]\n"
          ]
        },
        {
          "output_type": "stream",
          "name": "stderr",
          "text": [
            "WARNING:matplotlib.legend:No handles with labels found to put in legend.\n"
          ]
        },
        {
          "output_type": "stream",
          "name": "stdout",
          "text": [
            "sse [90269857.9142565, 7978364.943526242, 2629651.2208703957, 1547054.3318078145, 721170.795038553, 221953.2440164021, 125073.76080262076, 69938.22915724755, 27443.785451266245]\n"
          ]
        },
        {
          "output_type": "display_data",
          "data": {
            "text/plain": [
              "<Figure size 432x288 with 1 Axes>"
            ],
            "image/png": "[encoded data removed]"
          },
          "metadata": {
            "needs_background": "light"
          }
        },
        {
          "output_type": "stream",
          "name": "stderr",
          "text": [
            "<ipython-input-63-7cac5e171799>:32: SettingWithCopyWarning: \n",
            "A value is trying to be set on a copy of a slice from a DataFrame\n",
            "\n",
            "See the caveats in the documentation: https://pandas.pydata.org/pandas-docs/stable/user_guide/indexing.html#returning-a-view-versus-a-copy\n",
            "  Us['DR'][i+Us.index[0]] =0\n",
            "<ipython-input-63-7cac5e171799>:33: SettingWithCopyWarning: \n",
            "A value is trying to be set on a copy of a slice from a DataFrame\n",
            "\n",
            "See the caveats in the documentation: https://pandas.pydata.org/pandas-docs/stable/user_guide/indexing.html#returning-a-view-versus-a-copy\n",
            "  Us['PRB'][i+Us.index[0]] =0\n",
            "<ipython-input-63-7cac5e171799>:34: SettingWithCopyWarning: \n",
            "A value is trying to be set on a copy of a slice from a DataFrame\n",
            "\n",
            "See the caveats in the documentation: https://pandas.pydata.org/pandas-docs/stable/user_guide/indexing.html#returning-a-view-versus-a-copy\n",
            "  Us['EB'][i+Us.index[0]]= 0\n",
            "<ipython-input-63-7cac5e171799>:35: SettingWithCopyWarning: \n",
            "A value is trying to be set on a copy of a slice from a DataFrame\n",
            "\n",
            "See the caveats in the documentation: https://pandas.pydata.org/pandas-docs/stable/user_guide/indexing.html#returning-a-view-versus-a-copy\n",
            "  Us['CQI'][i+Us.index[0]]=0\n",
            "<ipython-input-63-7cac5e171799>:36: SettingWithCopyWarning: \n",
            "A value is trying to be set on a copy of a slice from a DataFrame\n",
            "\n",
            "See the caveats in the documentation: https://pandas.pydata.org/pandas-docs/stable/user_guide/indexing.html#returning-a-view-versus-a-copy\n",
            "  Us['SINR'][i+Us.index[0]]=0\n",
            "<ipython-input-63-7cac5e171799>:37: SettingWithCopyWarning: \n",
            "A value is trying to be set on a copy of a slice from a DataFrame\n",
            "\n",
            "See the caveats in the documentation: https://pandas.pydata.org/pandas-docs/stable/user_guide/indexing.html#returning-a-view-versus-a-copy\n",
            "  Us['C'][i+Us.index[0]]=False\n",
            "<ipython-input-63-7cac5e171799>:42: SettingWithCopyWarning: \n",
            "A value is trying to be set on a copy of a slice from a DataFrame\n",
            "\n",
            "See the caveats in the documentation: https://pandas.pydata.org/pandas-docs/stable/user_guide/indexing.html#returning-a-view-versus-a-copy\n",
            "  Us['DR'][i+Us.index[0]] =T*PR\n",
            "<ipython-input-63-7cac5e171799>:43: SettingWithCopyWarning: \n",
            "A value is trying to be set on a copy of a slice from a DataFrame\n",
            "\n",
            "See the caveats in the documentation: https://pandas.pydata.org/pandas-docs/stable/user_guide/indexing.html#returning-a-view-versus-a-copy\n",
            "  Us['PRB'][i+Us.index[0]] =PR\n",
            "<ipython-input-63-7cac5e171799>:44: SettingWithCopyWarning: \n",
            "A value is trying to be set on a copy of a slice from a DataFrame\n",
            "\n",
            "See the caveats in the documentation: https://pandas.pydata.org/pandas-docs/stable/user_guide/indexing.html#returning-a-view-versus-a-copy\n",
            "  Us['EB'][i+Us.index[0]]= IND + 1\n",
            "<ipython-input-63-7cac5e171799>:45: SettingWithCopyWarning: \n",
            "A value is trying to be set on a copy of a slice from a DataFrame\n",
            "\n",
            "See the caveats in the documentation: https://pandas.pydata.org/pandas-docs/stable/user_guide/indexing.html#returning-a-view-versus-a-copy\n",
            "  Us['ES'][i+Us.index[0]]= 1\n",
            "<ipython-input-63-7cac5e171799>:46: SettingWithCopyWarning: \n",
            "A value is trying to be set on a copy of a slice from a DataFrame\n",
            "\n",
            "See the caveats in the documentation: https://pandas.pydata.org/pandas-docs/stable/user_guide/indexing.html#returning-a-view-versus-a-copy\n",
            "  Us['CQI'][i+Us.index[0]]=CQI.loc[i,IND]\n",
            "<ipython-input-63-7cac5e171799>:47: SettingWithCopyWarning: \n",
            "A value is trying to be set on a copy of a slice from a DataFrame\n",
            "\n",
            "See the caveats in the documentation: https://pandas.pydata.org/pandas-docs/stable/user_guide/indexing.html#returning-a-view-versus-a-copy\n",
            "  Us['SINR'][i+Us.index[0]]=SINR.loc[i,IND]\n",
            "<ipython-input-63-7cac5e171799>:48: SettingWithCopyWarning: \n",
            "A value is trying to be set on a copy of a slice from a DataFrame\n",
            "\n",
            "See the caveats in the documentation: https://pandas.pydata.org/pandas-docs/stable/user_guide/indexing.html#returning-a-view-versus-a-copy\n",
            "  Us['C'][i+Us.index[0]]=True #usuario foi alocado naquela antena\n",
            "<ipython-input-63-7cac5e171799>:49: SettingWithCopyWarning: \n",
            "A value is trying to be set on a copy of a slice from a DataFrame\n",
            "\n",
            "See the caveats in the documentation: https://pandas.pydata.org/pandas-docs/stable/user_guide/indexing.html#returning-a-view-versus-a-copy\n",
            "  Small['PRB_F'][IND]=Small.loc[IND,'PRB_F']-PR #pega o prb da antena e diminui pela qnt de canais que o user usou\n",
            "<ipython-input-74-b94865a40029>:12: SettingWithCopyWarning: \n",
            "A value is trying to be set on a copy of a slice from a DataFrame\n",
            "\n",
            "See the caveats in the documentation: https://pandas.pydata.org/pandas-docs/stable/user_guide/indexing.html#returning-a-view-versus-a-copy\n",
            "  Us['DR'][index] =Us['DR'][index]*TOT_PR\n",
            "<ipython-input-74-b94865a40029>:13: SettingWithCopyWarning: \n",
            "A value is trying to be set on a copy of a slice from a DataFrame\n",
            "\n",
            "See the caveats in the documentation: https://pandas.pydata.org/pandas-docs/stable/user_guide/indexing.html#returning-a-view-versus-a-copy\n",
            "  Us['PRB'][index] = Us['PRB'][index] + TOT_PR\n",
            "<ipython-input-74-b94865a40029>:14: SettingWithCopyWarning: \n",
            "A value is trying to be set on a copy of a slice from a DataFrame\n",
            "\n",
            "See the caveats in the documentation: https://pandas.pydata.org/pandas-docs/stable/user_guide/indexing.html#returning-a-view-versus-a-copy\n",
            "  Small['PRB_F'][i]=Small.loc[i,'PRB_F']-TOT_PR\n",
            "<ipython-input-70-a5e07d73fc62>:16: RuntimeWarning: invalid value encountered in double_scalars\n",
            "  \"DataRateMean\": TotalDataRate/TotalUsers,\n"
          ]
        },
        {
          "output_type": "stream",
          "name": "stdout",
          "text": [
            "fatiaVazaoAgregada [3407.0750093846]\n",
            "antenasNecessariasParaSuprirUmMomento [{'id': 17.0, 'DrMean': 1019.3552785397426}, {'id': 8.0, 'DrMean': 1300.1188093682968}, {'id': 7.0, 'DrMean': 2102.893436490362}]\n",
            "Momento Atual -------------------------------------------------------------------------------------------------- 13\n"
          ]
        },
        {
          "output_type": "display_data",
          "data": {
            "text/plain": [
              "<Figure size 432x288 with 1 Axes>"
            ],
            "image/png": "[encoded data removed]"
          },
          "metadata": {
            "needs_background": "light"
          }
        },
        {
          "output_type": "stream",
          "name": "stderr",
          "text": [
            "/usr/local/lib/python3.8/dist-packages/pandas/core/indexing.py:1732: SettingWithCopyWarning: \n",
            "A value is trying to be set on a copy of a slice from a DataFrame\n",
            "\n",
            "See the caveats in the documentation: https://pandas.pydata.org/pandas-docs/stable/user_guide/indexing.html#returning-a-view-versus-a-copy\n",
            "  self._setitem_single_block(indexer, value, name)\n",
            "/usr/local/lib/python3.8/dist-packages/pandas/core/series.py:1056: SettingWithCopyWarning: \n",
            "A value is trying to be set on a copy of a slice from a DataFrame\n",
            "\n",
            "See the caveats in the documentation: https://pandas.pydata.org/pandas-docs/stable/user_guide/indexing.html#returning-a-view-versus-a-copy\n",
            "  cacher_needs_updating = self._check_is_chained_assignment_possible()\n"
          ]
        },
        {
          "output_type": "stream",
          "name": "stdout",
          "text": [
            "FatiasVazao [[6055.113665656172], [12110.227331312344], [18165.340996968516], [24220.45466262469], [30275.56832828086]]\n",
            "vazaoAgregadaClusters [{'vazaoAgregada': 6683.210932927916, 'label': 2}, {'vazaoAgregada': 4145.7144785550145, 'label': 7}, {'vazaoAgregada': 3160.6653662773383, 'label': 4}, {'vazaoAgregada': 2670.4618243388577, 'label': 10}, {'vazaoAgregada': 2576.6229103536207, 'label': 0}, {'vazaoAgregada': 1748.6208779052072, 'label': 16}, {'vazaoAgregada': 1695.6659061227856, 'label': 5}, {'vazaoAgregada': 1153.8147971541662, 'label': 8}, {'vazaoAgregada': 1135.516393458648, 'label': 3}, {'vazaoAgregada': 1016.9517109461062, 'label': 12}, {'vazaoAgregada': 790.6235808572487, 'label': 9}, {'vazaoAgregada': 787.9941421902992, 'label': 13}, {'vazaoAgregada': 724.4026931851291, 'label': 14}, {'vazaoAgregada': 632.4006992810754, 'label': 11}, {'vazaoAgregada': 516.5388480006374, 'label': 15}, {'vazaoAgregada': 434.7391319528792, 'label': 17}, {'vazaoAgregada': 401.62403477393, 'label': 1}, {'vazaoAgregada': 0.0, 'label': 6}]\n",
            "clustersUsados [{'vazaoAgregada': 6683.210932927916, 'label': 2}]\n",
            "clustersFinais [    MicroID  UsersConnected  TotalDataRate  DataRateMean  Moment  Label\n",
            "12     13.0             1.0    6683.210933   6683.210933    12.0      2]\n",
            "antenasLigadas [{'id': 13.0, 'DrMean': 6683.210932927916}]\n"
          ]
        },
        {
          "output_type": "stream",
          "name": "stderr",
          "text": [
            "WARNING:matplotlib.legend:No handles with labels found to put in legend.\n"
          ]
        },
        {
          "output_type": "stream",
          "name": "stdout",
          "text": [
            "sse [159908329.1672614, 48071446.09078879, 25950146.117709838, 16404390.955455419, 9390054.704939052, 5801290.013434749, 3907973.9770249613, 2204118.485104293, 1002218.3571684036]\n"
          ]
        },
        {
          "output_type": "display_data",
          "data": {
            "text/plain": [
              "<Figure size 432x288 with 1 Axes>"
            ],
            "image/png": "[encoded data removed]"
          },
          "metadata": {
            "needs_background": "light"
          }
        },
        {
          "output_type": "stream",
          "name": "stderr",
          "text": [
            "<ipython-input-63-7cac5e171799>:32: SettingWithCopyWarning: \n",
            "A value is trying to be set on a copy of a slice from a DataFrame\n",
            "\n",
            "See the caveats in the documentation: https://pandas.pydata.org/pandas-docs/stable/user_guide/indexing.html#returning-a-view-versus-a-copy\n",
            "  Us['DR'][i+Us.index[0]] =0\n",
            "<ipython-input-63-7cac5e171799>:33: SettingWithCopyWarning: \n",
            "A value is trying to be set on a copy of a slice from a DataFrame\n",
            "\n",
            "See the caveats in the documentation: https://pandas.pydata.org/pandas-docs/stable/user_guide/indexing.html#returning-a-view-versus-a-copy\n",
            "  Us['PRB'][i+Us.index[0]] =0\n",
            "<ipython-input-63-7cac5e171799>:34: SettingWithCopyWarning: \n",
            "A value is trying to be set on a copy of a slice from a DataFrame\n",
            "\n",
            "See the caveats in the documentation: https://pandas.pydata.org/pandas-docs/stable/user_guide/indexing.html#returning-a-view-versus-a-copy\n",
            "  Us['EB'][i+Us.index[0]]= 0\n",
            "<ipython-input-63-7cac5e171799>:35: SettingWithCopyWarning: \n",
            "A value is trying to be set on a copy of a slice from a DataFrame\n",
            "\n",
            "See the caveats in the documentation: https://pandas.pydata.org/pandas-docs/stable/user_guide/indexing.html#returning-a-view-versus-a-copy\n",
            "  Us['CQI'][i+Us.index[0]]=0\n",
            "<ipython-input-63-7cac5e171799>:36: SettingWithCopyWarning: \n",
            "A value is trying to be set on a copy of a slice from a DataFrame\n",
            "\n",
            "See the caveats in the documentation: https://pandas.pydata.org/pandas-docs/stable/user_guide/indexing.html#returning-a-view-versus-a-copy\n",
            "  Us['SINR'][i+Us.index[0]]=0\n",
            "<ipython-input-63-7cac5e171799>:37: SettingWithCopyWarning: \n",
            "A value is trying to be set on a copy of a slice from a DataFrame\n",
            "\n",
            "See the caveats in the documentation: https://pandas.pydata.org/pandas-docs/stable/user_guide/indexing.html#returning-a-view-versus-a-copy\n",
            "  Us['C'][i+Us.index[0]]=False\n",
            "<ipython-input-63-7cac5e171799>:42: SettingWithCopyWarning: \n",
            "A value is trying to be set on a copy of a slice from a DataFrame\n",
            "\n",
            "See the caveats in the documentation: https://pandas.pydata.org/pandas-docs/stable/user_guide/indexing.html#returning-a-view-versus-a-copy\n",
            "  Us['DR'][i+Us.index[0]] =T*PR\n",
            "<ipython-input-63-7cac5e171799>:43: SettingWithCopyWarning: \n",
            "A value is trying to be set on a copy of a slice from a DataFrame\n",
            "\n",
            "See the caveats in the documentation: https://pandas.pydata.org/pandas-docs/stable/user_guide/indexing.html#returning-a-view-versus-a-copy\n",
            "  Us['PRB'][i+Us.index[0]] =PR\n",
            "<ipython-input-63-7cac5e171799>:44: SettingWithCopyWarning: \n",
            "A value is trying to be set on a copy of a slice from a DataFrame\n",
            "\n",
            "See the caveats in the documentation: https://pandas.pydata.org/pandas-docs/stable/user_guide/indexing.html#returning-a-view-versus-a-copy\n",
            "  Us['EB'][i+Us.index[0]]= IND + 1\n",
            "<ipython-input-63-7cac5e171799>:45: SettingWithCopyWarning: \n",
            "A value is trying to be set on a copy of a slice from a DataFrame\n",
            "\n",
            "See the caveats in the documentation: https://pandas.pydata.org/pandas-docs/stable/user_guide/indexing.html#returning-a-view-versus-a-copy\n",
            "  Us['ES'][i+Us.index[0]]= 1\n",
            "<ipython-input-63-7cac5e171799>:46: SettingWithCopyWarning: \n",
            "A value is trying to be set on a copy of a slice from a DataFrame\n",
            "\n",
            "See the caveats in the documentation: https://pandas.pydata.org/pandas-docs/stable/user_guide/indexing.html#returning-a-view-versus-a-copy\n",
            "  Us['CQI'][i+Us.index[0]]=CQI.loc[i,IND]\n",
            "<ipython-input-63-7cac5e171799>:47: SettingWithCopyWarning: \n",
            "A value is trying to be set on a copy of a slice from a DataFrame\n",
            "\n",
            "See the caveats in the documentation: https://pandas.pydata.org/pandas-docs/stable/user_guide/indexing.html#returning-a-view-versus-a-copy\n",
            "  Us['SINR'][i+Us.index[0]]=SINR.loc[i,IND]\n",
            "<ipython-input-63-7cac5e171799>:48: SettingWithCopyWarning: \n",
            "A value is trying to be set on a copy of a slice from a DataFrame\n",
            "\n",
            "See the caveats in the documentation: https://pandas.pydata.org/pandas-docs/stable/user_guide/indexing.html#returning-a-view-versus-a-copy\n",
            "  Us['C'][i+Us.index[0]]=True #usuario foi alocado naquela antena\n",
            "<ipython-input-63-7cac5e171799>:49: SettingWithCopyWarning: \n",
            "A value is trying to be set on a copy of a slice from a DataFrame\n",
            "\n",
            "See the caveats in the documentation: https://pandas.pydata.org/pandas-docs/stable/user_guide/indexing.html#returning-a-view-versus-a-copy\n",
            "  Small['PRB_F'][IND]=Small.loc[IND,'PRB_F']-PR #pega o prb da antena e diminui pela qnt de canais que o user usou\n",
            "<ipython-input-74-b94865a40029>:12: SettingWithCopyWarning: \n",
            "A value is trying to be set on a copy of a slice from a DataFrame\n",
            "\n",
            "See the caveats in the documentation: https://pandas.pydata.org/pandas-docs/stable/user_guide/indexing.html#returning-a-view-versus-a-copy\n",
            "  Us['DR'][index] =Us['DR'][index]*TOT_PR\n",
            "<ipython-input-74-b94865a40029>:13: SettingWithCopyWarning: \n",
            "A value is trying to be set on a copy of a slice from a DataFrame\n",
            "\n",
            "See the caveats in the documentation: https://pandas.pydata.org/pandas-docs/stable/user_guide/indexing.html#returning-a-view-versus-a-copy\n",
            "  Us['PRB'][index] = Us['PRB'][index] + TOT_PR\n",
            "<ipython-input-74-b94865a40029>:14: SettingWithCopyWarning: \n",
            "A value is trying to be set on a copy of a slice from a DataFrame\n",
            "\n",
            "See the caveats in the documentation: https://pandas.pydata.org/pandas-docs/stable/user_guide/indexing.html#returning-a-view-versus-a-copy\n",
            "  Small['PRB_F'][i]=Small.loc[i,'PRB_F']-TOT_PR\n",
            "<ipython-input-70-a5e07d73fc62>:16: RuntimeWarning: invalid value encountered in double_scalars\n",
            "  \"DataRateMean\": TotalDataRate/TotalUsers,\n"
          ]
        },
        {
          "output_type": "stream",
          "name": "stdout",
          "text": [
            "fatiaVazaoAgregada [6055.113665656172]\n",
            "antenasNecessariasParaSuprirUmMomento [{'id': 9.0, 'DrMean': 1153.8147971541662}, {'id': 6.0, 'DrMean': 1695.6659061227856}, {'id': 7.0, 'DrMean': 790.6235808572487}, {'id': 8.0, 'DrMean': 1016.9517109461062}, {'id': 15.0, 'DrMean': 724.4026931851291}, {'id': 17.0, 'DrMean': 1135.516393458648}]\n",
            "Momento Atual -------------------------------------------------------------------------------------------------- 14\n"
          ]
        },
        {
          "output_type": "display_data",
          "data": {
            "text/plain": [
              "<Figure size 432x288 with 1 Axes>"
            ],
            "image/png": "[encoded data removed]"
          },
          "metadata": {
            "needs_background": "light"
          }
        },
        {
          "output_type": "stream",
          "name": "stderr",
          "text": [
            "/usr/local/lib/python3.8/dist-packages/pandas/core/indexing.py:1732: SettingWithCopyWarning: \n",
            "A value is trying to be set on a copy of a slice from a DataFrame\n",
            "\n",
            "See the caveats in the documentation: https://pandas.pydata.org/pandas-docs/stable/user_guide/indexing.html#returning-a-view-versus-a-copy\n",
            "  self._setitem_single_block(indexer, value, name)\n",
            "/usr/local/lib/python3.8/dist-packages/pandas/core/series.py:1056: SettingWithCopyWarning: \n",
            "A value is trying to be set on a copy of a slice from a DataFrame\n",
            "\n",
            "See the caveats in the documentation: https://pandas.pydata.org/pandas-docs/stable/user_guide/indexing.html#returning-a-view-versus-a-copy\n",
            "  cacher_needs_updating = self._check_is_chained_assignment_possible()\n"
          ]
        },
        {
          "output_type": "stream",
          "name": "stdout",
          "text": [
            "FatiasVazao [[4699.825009666611], [9399.650019333221], [14099.47502899983], [18799.300038666443], [23499.12504833305]]\n",
            "vazaoAgregadaClusters [{'vazaoAgregada': 3165.023939464746, 'label': 5}, {'vazaoAgregada': 2656.7630323712106, 'label': 6}, {'vazaoAgregada': 2513.0522021757897, 'label': 12}, {'vazaoAgregada': 2268.9161936155756, 'label': 0}, {'vazaoAgregada': 1936.081274859783, 'label': 10}, {'vazaoAgregada': 1584.6939604722932, 'label': 9}, {'vazaoAgregada': 1452.38340920656, 'label': 8}, {'vazaoAgregada': 1367.2708287540659, 'label': 7}, {'vazaoAgregada': 1173.4794263447711, 'label': 3}, {'vazaoAgregada': 1091.4348217188754, 'label': 2}, {'vazaoAgregada': 782.9126263143711, 'label': 13}, {'vazaoAgregada': 781.6232934416287, 'label': 11}, {'vazaoAgregada': 630.354949808653, 'label': 17}, {'vazaoAgregada': 597.3925682883136, 'label': 1}, {'vazaoAgregada': 548.2582437790468, 'label': 16}, {'vazaoAgregada': 505.3784926730593, 'label': 14}, {'vazaoAgregada': 444.1057850443058, 'label': 15}, {'vazaoAgregada': 0.0, 'label': 4}]\n",
            "clustersUsados [{'vazaoAgregada': 3165.023939464746, 'label': 5}, {'vazaoAgregada': 2656.7630323712106, 'label': 6}]\n",
            "clustersFinais [    MicroID  UsersConnected  TotalDataRate  DataRateMean  Moment  Label\n",
            "23     24.0             2.0    6330.047879   3165.023939    13.0      5,     MicroID  UsersConnected  TotalDataRate  DataRateMean  Moment  Label\n",
            "14     15.0             1.0    2656.763032   2656.763032    13.0      6]\n",
            "antenasLigadas [{'id': 24.0, 'DrMean': 3165.023939464746}, {'id': 15.0, 'DrMean': 2656.7630323712106}]\n"
          ]
        },
        {
          "output_type": "stream",
          "name": "stderr",
          "text": [
            "WARNING:matplotlib.legend:No handles with labels found to put in legend.\n"
          ]
        },
        {
          "output_type": "stream",
          "name": "stdout",
          "text": [
            "sse [120598188.56256667, 30878871.544831343, 12455219.46138586, 9545789.760076255, 6750247.835796673, 4921505.937031081, 3215685.3662035954, 2332661.8480365505, 1624976.5703454912]\n"
          ]
        },
        {
          "output_type": "display_data",
          "data": {
            "text/plain": [
              "<Figure size 432x288 with 1 Axes>"
            ],
            "image/png": "[encoded data removed]"
          },
          "metadata": {
            "needs_background": "light"
          }
        },
        {
          "output_type": "stream",
          "name": "stderr",
          "text": [
            "<ipython-input-63-7cac5e171799>:32: SettingWithCopyWarning: \n",
            "A value is trying to be set on a copy of a slice from a DataFrame\n",
            "\n",
            "See the caveats in the documentation: https://pandas.pydata.org/pandas-docs/stable/user_guide/indexing.html#returning-a-view-versus-a-copy\n",
            "  Us['DR'][i+Us.index[0]] =0\n",
            "<ipython-input-63-7cac5e171799>:33: SettingWithCopyWarning: \n",
            "A value is trying to be set on a copy of a slice from a DataFrame\n",
            "\n",
            "See the caveats in the documentation: https://pandas.pydata.org/pandas-docs/stable/user_guide/indexing.html#returning-a-view-versus-a-copy\n",
            "  Us['PRB'][i+Us.index[0]] =0\n",
            "<ipython-input-63-7cac5e171799>:34: SettingWithCopyWarning: \n",
            "A value is trying to be set on a copy of a slice from a DataFrame\n",
            "\n",
            "See the caveats in the documentation: https://pandas.pydata.org/pandas-docs/stable/user_guide/indexing.html#returning-a-view-versus-a-copy\n",
            "  Us['EB'][i+Us.index[0]]= 0\n",
            "<ipython-input-63-7cac5e171799>:35: SettingWithCopyWarning: \n",
            "A value is trying to be set on a copy of a slice from a DataFrame\n",
            "\n",
            "See the caveats in the documentation: https://pandas.pydata.org/pandas-docs/stable/user_guide/indexing.html#returning-a-view-versus-a-copy\n",
            "  Us['CQI'][i+Us.index[0]]=0\n",
            "<ipython-input-63-7cac5e171799>:36: SettingWithCopyWarning: \n",
            "A value is trying to be set on a copy of a slice from a DataFrame\n",
            "\n",
            "See the caveats in the documentation: https://pandas.pydata.org/pandas-docs/stable/user_guide/indexing.html#returning-a-view-versus-a-copy\n",
            "  Us['SINR'][i+Us.index[0]]=0\n",
            "<ipython-input-63-7cac5e171799>:37: SettingWithCopyWarning: \n",
            "A value is trying to be set on a copy of a slice from a DataFrame\n",
            "\n",
            "See the caveats in the documentation: https://pandas.pydata.org/pandas-docs/stable/user_guide/indexing.html#returning-a-view-versus-a-copy\n",
            "  Us['C'][i+Us.index[0]]=False\n",
            "<ipython-input-63-7cac5e171799>:42: SettingWithCopyWarning: \n",
            "A value is trying to be set on a copy of a slice from a DataFrame\n",
            "\n",
            "See the caveats in the documentation: https://pandas.pydata.org/pandas-docs/stable/user_guide/indexing.html#returning-a-view-versus-a-copy\n",
            "  Us['DR'][i+Us.index[0]] =T*PR\n",
            "<ipython-input-63-7cac5e171799>:43: SettingWithCopyWarning: \n",
            "A value is trying to be set on a copy of a slice from a DataFrame\n",
            "\n",
            "See the caveats in the documentation: https://pandas.pydata.org/pandas-docs/stable/user_guide/indexing.html#returning-a-view-versus-a-copy\n",
            "  Us['PRB'][i+Us.index[0]] =PR\n",
            "<ipython-input-63-7cac5e171799>:44: SettingWithCopyWarning: \n",
            "A value is trying to be set on a copy of a slice from a DataFrame\n",
            "\n",
            "See the caveats in the documentation: https://pandas.pydata.org/pandas-docs/stable/user_guide/indexing.html#returning-a-view-versus-a-copy\n",
            "  Us['EB'][i+Us.index[0]]= IND + 1\n",
            "<ipython-input-63-7cac5e171799>:45: SettingWithCopyWarning: \n",
            "A value is trying to be set on a copy of a slice from a DataFrame\n",
            "\n",
            "See the caveats in the documentation: https://pandas.pydata.org/pandas-docs/stable/user_guide/indexing.html#returning-a-view-versus-a-copy\n",
            "  Us['ES'][i+Us.index[0]]= 1\n",
            "<ipython-input-63-7cac5e171799>:46: SettingWithCopyWarning: \n",
            "A value is trying to be set on a copy of a slice from a DataFrame\n",
            "\n",
            "See the caveats in the documentation: https://pandas.pydata.org/pandas-docs/stable/user_guide/indexing.html#returning-a-view-versus-a-copy\n",
            "  Us['CQI'][i+Us.index[0]]=CQI.loc[i,IND]\n",
            "<ipython-input-63-7cac5e171799>:47: SettingWithCopyWarning: \n",
            "A value is trying to be set on a copy of a slice from a DataFrame\n",
            "\n",
            "See the caveats in the documentation: https://pandas.pydata.org/pandas-docs/stable/user_guide/indexing.html#returning-a-view-versus-a-copy\n",
            "  Us['SINR'][i+Us.index[0]]=SINR.loc[i,IND]\n",
            "<ipython-input-63-7cac5e171799>:48: SettingWithCopyWarning: \n",
            "A value is trying to be set on a copy of a slice from a DataFrame\n",
            "\n",
            "See the caveats in the documentation: https://pandas.pydata.org/pandas-docs/stable/user_guide/indexing.html#returning-a-view-versus-a-copy\n",
            "  Us['C'][i+Us.index[0]]=True #usuario foi alocado naquela antena\n",
            "<ipython-input-63-7cac5e171799>:49: SettingWithCopyWarning: \n",
            "A value is trying to be set on a copy of a slice from a DataFrame\n",
            "\n",
            "See the caveats in the documentation: https://pandas.pydata.org/pandas-docs/stable/user_guide/indexing.html#returning-a-view-versus-a-copy\n",
            "  Small['PRB_F'][IND]=Small.loc[IND,'PRB_F']-PR #pega o prb da antena e diminui pela qnt de canais que o user usou\n",
            "<ipython-input-74-b94865a40029>:12: SettingWithCopyWarning: \n",
            "A value is trying to be set on a copy of a slice from a DataFrame\n",
            "\n",
            "See the caveats in the documentation: https://pandas.pydata.org/pandas-docs/stable/user_guide/indexing.html#returning-a-view-versus-a-copy\n",
            "  Us['DR'][index] =Us['DR'][index]*TOT_PR\n",
            "<ipython-input-74-b94865a40029>:13: SettingWithCopyWarning: \n",
            "A value is trying to be set on a copy of a slice from a DataFrame\n",
            "\n",
            "See the caveats in the documentation: https://pandas.pydata.org/pandas-docs/stable/user_guide/indexing.html#returning-a-view-versus-a-copy\n",
            "  Us['PRB'][index] = Us['PRB'][index] + TOT_PR\n",
            "<ipython-input-74-b94865a40029>:14: SettingWithCopyWarning: \n",
            "A value is trying to be set on a copy of a slice from a DataFrame\n",
            "\n",
            "See the caveats in the documentation: https://pandas.pydata.org/pandas-docs/stable/user_guide/indexing.html#returning-a-view-versus-a-copy\n",
            "  Small['PRB_F'][i]=Small.loc[i,'PRB_F']-TOT_PR\n",
            "<ipython-input-70-a5e07d73fc62>:16: RuntimeWarning: invalid value encountered in double_scalars\n",
            "  \"DataRateMean\": TotalDataRate/TotalUsers,\n"
          ]
        },
        {
          "output_type": "stream",
          "name": "stdout",
          "text": [
            "fatiaVazaoAgregada [4699.825009666611]\n",
            "antenasNecessariasParaSuprirUmMomento [{'id': 4.0, 'DrMean': 1173.4794263447711}, {'id': 9.0, 'DrMean': 782.9126263143711}, {'id': 20.0, 'DrMean': 1452.38340920656}, {'id': 6.0, 'DrMean': 1091.4348217188754}, {'id': 10.0, 'DrMean': 2268.9161936155756}]\n",
            "Momento Atual -------------------------------------------------------------------------------------------------- 15\n"
          ]
        },
        {
          "output_type": "display_data",
          "data": {
            "text/plain": [
              "<Figure size 432x288 with 1 Axes>"
            ],
            "image/png": "[encoded data removed]"
          },
          "metadata": {
            "needs_background": "light"
          }
        },
        {
          "output_type": "stream",
          "name": "stderr",
          "text": [
            "/usr/local/lib/python3.8/dist-packages/pandas/core/indexing.py:1732: SettingWithCopyWarning: \n",
            "A value is trying to be set on a copy of a slice from a DataFrame\n",
            "\n",
            "See the caveats in the documentation: https://pandas.pydata.org/pandas-docs/stable/user_guide/indexing.html#returning-a-view-versus-a-copy\n",
            "  self._setitem_single_block(indexer, value, name)\n",
            "/usr/local/lib/python3.8/dist-packages/pandas/core/series.py:1056: SettingWithCopyWarning: \n",
            "A value is trying to be set on a copy of a slice from a DataFrame\n",
            "\n",
            "See the caveats in the documentation: https://pandas.pydata.org/pandas-docs/stable/user_guide/indexing.html#returning-a-view-versus-a-copy\n",
            "  cacher_needs_updating = self._check_is_chained_assignment_possible()\n"
          ]
        },
        {
          "output_type": "stream",
          "name": "stdout",
          "text": [
            "FatiasVazao [[5849.809853091317], [11699.619706182633], [17549.429559273947], [23399.239412365267], [29249.049265456582]]\n",
            "vazaoAgregadaClusters [{'vazaoAgregada': 6004.306772595031, 'label': 4}, {'vazaoAgregada': 3660.0424184131853, 'label': 3}, {'vazaoAgregada': 3453.4355005075117, 'label': 13}, {'vazaoAgregada': 3175.436479990917, 'label': 8}, {'vazaoAgregada': 2470.2057050912604, 'label': 0}, {'vazaoAgregada': 2116.0456120882614, 'label': 6}, {'vazaoAgregada': 1981.6915577889165, 'label': 12}, {'vazaoAgregada': 1525.964335227624, 'label': 2}, {'vazaoAgregada': 1255.8720815310376, 'label': 11}, {'vazaoAgregada': 1237.7056905582801, 'label': 7}, {'vazaoAgregada': 978.4775447419892, 'label': 5}, {'vazaoAgregada': 881.9458107792847, 'label': 9}, {'vazaoAgregada': 507.91975614328396, 'label': 10}, {'vazaoAgregada': 0.0, 'label': 1}, {'vazaoAgregada': 0.0, 'label': 14}, {'vazaoAgregada': 0.0, 'label': 15}, {'vazaoAgregada': 0.0, 'label': 16}, {'vazaoAgregada': 0.0, 'label': 17}]\n",
            "clustersUsados [{'vazaoAgregada': 6004.306772595031, 'label': 4}]\n",
            "clustersFinais [   MicroID  UsersConnected  TotalDataRate  DataRateMean  Moment  Label\n",
            "2      3.0             1.0    6004.306773   6004.306773    14.0      4]\n",
            "antenasLigadas [{'id': 3.0, 'DrMean': 6004.306772595031}]\n"
          ]
        },
        {
          "output_type": "stream",
          "name": "stderr",
          "text": [
            "WARNING:matplotlib.legend:No handles with labels found to put in legend.\n"
          ]
        },
        {
          "output_type": "stream",
          "name": "stdout",
          "text": [
            "sse [198354948.66007835, 42520444.72782665, 24586660.36942167, 14390061.84569215, 7599261.555759896, 3569911.2656348487, 2350431.627592497, 1476349.9187465038, 947915.8187314961]\n"
          ]
        },
        {
          "output_type": "display_data",
          "data": {
            "text/plain": [
              "<Figure size 432x288 with 1 Axes>"
            ],
            "image/png": "[encoded data removed]"
          },
          "metadata": {
            "needs_background": "light"
          }
        },
        {
          "output_type": "stream",
          "name": "stderr",
          "text": [
            "<ipython-input-63-7cac5e171799>:32: SettingWithCopyWarning: \n",
            "A value is trying to be set on a copy of a slice from a DataFrame\n",
            "\n",
            "See the caveats in the documentation: https://pandas.pydata.org/pandas-docs/stable/user_guide/indexing.html#returning-a-view-versus-a-copy\n",
            "  Us['DR'][i+Us.index[0]] =0\n",
            "<ipython-input-63-7cac5e171799>:33: SettingWithCopyWarning: \n",
            "A value is trying to be set on a copy of a slice from a DataFrame\n",
            "\n",
            "See the caveats in the documentation: https://pandas.pydata.org/pandas-docs/stable/user_guide/indexing.html#returning-a-view-versus-a-copy\n",
            "  Us['PRB'][i+Us.index[0]] =0\n",
            "<ipython-input-63-7cac5e171799>:34: SettingWithCopyWarning: \n",
            "A value is trying to be set on a copy of a slice from a DataFrame\n",
            "\n",
            "See the caveats in the documentation: https://pandas.pydata.org/pandas-docs/stable/user_guide/indexing.html#returning-a-view-versus-a-copy\n",
            "  Us['EB'][i+Us.index[0]]= 0\n",
            "<ipython-input-63-7cac5e171799>:35: SettingWithCopyWarning: \n",
            "A value is trying to be set on a copy of a slice from a DataFrame\n",
            "\n",
            "See the caveats in the documentation: https://pandas.pydata.org/pandas-docs/stable/user_guide/indexing.html#returning-a-view-versus-a-copy\n",
            "  Us['CQI'][i+Us.index[0]]=0\n",
            "<ipython-input-63-7cac5e171799>:36: SettingWithCopyWarning: \n",
            "A value is trying to be set on a copy of a slice from a DataFrame\n",
            "\n",
            "See the caveats in the documentation: https://pandas.pydata.org/pandas-docs/stable/user_guide/indexing.html#returning-a-view-versus-a-copy\n",
            "  Us['SINR'][i+Us.index[0]]=0\n",
            "<ipython-input-63-7cac5e171799>:37: SettingWithCopyWarning: \n",
            "A value is trying to be set on a copy of a slice from a DataFrame\n",
            "\n",
            "See the caveats in the documentation: https://pandas.pydata.org/pandas-docs/stable/user_guide/indexing.html#returning-a-view-versus-a-copy\n",
            "  Us['C'][i+Us.index[0]]=False\n",
            "<ipython-input-63-7cac5e171799>:42: SettingWithCopyWarning: \n",
            "A value is trying to be set on a copy of a slice from a DataFrame\n",
            "\n",
            "See the caveats in the documentation: https://pandas.pydata.org/pandas-docs/stable/user_guide/indexing.html#returning-a-view-versus-a-copy\n",
            "  Us['DR'][i+Us.index[0]] =T*PR\n",
            "<ipython-input-63-7cac5e171799>:43: SettingWithCopyWarning: \n",
            "A value is trying to be set on a copy of a slice from a DataFrame\n",
            "\n",
            "See the caveats in the documentation: https://pandas.pydata.org/pandas-docs/stable/user_guide/indexing.html#returning-a-view-versus-a-copy\n",
            "  Us['PRB'][i+Us.index[0]] =PR\n",
            "<ipython-input-63-7cac5e171799>:44: SettingWithCopyWarning: \n",
            "A value is trying to be set on a copy of a slice from a DataFrame\n",
            "\n",
            "See the caveats in the documentation: https://pandas.pydata.org/pandas-docs/stable/user_guide/indexing.html#returning-a-view-versus-a-copy\n",
            "  Us['EB'][i+Us.index[0]]= IND + 1\n",
            "<ipython-input-63-7cac5e171799>:45: SettingWithCopyWarning: \n",
            "A value is trying to be set on a copy of a slice from a DataFrame\n",
            "\n",
            "See the caveats in the documentation: https://pandas.pydata.org/pandas-docs/stable/user_guide/indexing.html#returning-a-view-versus-a-copy\n",
            "  Us['ES'][i+Us.index[0]]= 1\n",
            "<ipython-input-63-7cac5e171799>:46: SettingWithCopyWarning: \n",
            "A value is trying to be set on a copy of a slice from a DataFrame\n",
            "\n",
            "See the caveats in the documentation: https://pandas.pydata.org/pandas-docs/stable/user_guide/indexing.html#returning-a-view-versus-a-copy\n",
            "  Us['CQI'][i+Us.index[0]]=CQI.loc[i,IND]\n",
            "<ipython-input-63-7cac5e171799>:47: SettingWithCopyWarning: \n",
            "A value is trying to be set on a copy of a slice from a DataFrame\n",
            "\n",
            "See the caveats in the documentation: https://pandas.pydata.org/pandas-docs/stable/user_guide/indexing.html#returning-a-view-versus-a-copy\n",
            "  Us['SINR'][i+Us.index[0]]=SINR.loc[i,IND]\n",
            "<ipython-input-63-7cac5e171799>:48: SettingWithCopyWarning: \n",
            "A value is trying to be set on a copy of a slice from a DataFrame\n",
            "\n",
            "See the caveats in the documentation: https://pandas.pydata.org/pandas-docs/stable/user_guide/indexing.html#returning-a-view-versus-a-copy\n",
            "  Us['C'][i+Us.index[0]]=True #usuario foi alocado naquela antena\n",
            "<ipython-input-63-7cac5e171799>:49: SettingWithCopyWarning: \n",
            "A value is trying to be set on a copy of a slice from a DataFrame\n",
            "\n",
            "See the caveats in the documentation: https://pandas.pydata.org/pandas-docs/stable/user_guide/indexing.html#returning-a-view-versus-a-copy\n",
            "  Small['PRB_F'][IND]=Small.loc[IND,'PRB_F']-PR #pega o prb da antena e diminui pela qnt de canais que o user usou\n",
            "<ipython-input-74-b94865a40029>:12: SettingWithCopyWarning: \n",
            "A value is trying to be set on a copy of a slice from a DataFrame\n",
            "\n",
            "See the caveats in the documentation: https://pandas.pydata.org/pandas-docs/stable/user_guide/indexing.html#returning-a-view-versus-a-copy\n",
            "  Us['DR'][index] =Us['DR'][index]*TOT_PR\n",
            "<ipython-input-74-b94865a40029>:13: SettingWithCopyWarning: \n",
            "A value is trying to be set on a copy of a slice from a DataFrame\n",
            "\n",
            "See the caveats in the documentation: https://pandas.pydata.org/pandas-docs/stable/user_guide/indexing.html#returning-a-view-versus-a-copy\n",
            "  Us['PRB'][index] = Us['PRB'][index] + TOT_PR\n",
            "<ipython-input-74-b94865a40029>:14: SettingWithCopyWarning: \n",
            "A value is trying to be set on a copy of a slice from a DataFrame\n",
            "\n",
            "See the caveats in the documentation: https://pandas.pydata.org/pandas-docs/stable/user_guide/indexing.html#returning-a-view-versus-a-copy\n",
            "  Small['PRB_F'][i]=Small.loc[i,'PRB_F']-TOT_PR\n",
            "<ipython-input-70-a5e07d73fc62>:16: RuntimeWarning: invalid value encountered in double_scalars\n",
            "  \"DataRateMean\": TotalDataRate/TotalUsers,\n"
          ]
        },
        {
          "output_type": "stream",
          "name": "stdout",
          "text": [
            "fatiaVazaoAgregada [5849.809853091317]\n",
            "antenasNecessariasParaSuprirUmMomento [{'id': 4.0, 'DrMean': 2116.0456120882614}, {'id': 13.0, 'DrMean': 1981.6915577889165}, {'id': 17.0, 'DrMean': 1237.7056905582801}, {'id': 19.0, 'DrMean': 881.9458107792847}]\n",
            "Momento Atual -------------------------------------------------------------------------------------------------- 16\n"
          ]
        },
        {
          "output_type": "display_data",
          "data": {
            "text/plain": [
              "<Figure size 432x288 with 1 Axes>"
            ],
            "image/png": "[encoded data removed]"
          },
          "metadata": {
            "needs_background": "light"
          }
        },
        {
          "output_type": "stream",
          "name": "stderr",
          "text": [
            "/usr/local/lib/python3.8/dist-packages/pandas/core/indexing.py:1732: SettingWithCopyWarning: \n",
            "A value is trying to be set on a copy of a slice from a DataFrame\n",
            "\n",
            "See the caveats in the documentation: https://pandas.pydata.org/pandas-docs/stable/user_guide/indexing.html#returning-a-view-versus-a-copy\n",
            "  self._setitem_single_block(indexer, value, name)\n",
            "/usr/local/lib/python3.8/dist-packages/pandas/core/series.py:1056: SettingWithCopyWarning: \n",
            "A value is trying to be set on a copy of a slice from a DataFrame\n",
            "\n",
            "See the caveats in the documentation: https://pandas.pydata.org/pandas-docs/stable/user_guide/indexing.html#returning-a-view-versus-a-copy\n",
            "  cacher_needs_updating = self._check_is_chained_assignment_possible()\n",
            "<ipython-input-70-a5e07d73fc62>:33: RuntimeWarning: invalid value encountered in double_scalars\n",
            "  \"DataRateMean\": TotalDataRate/TotalUsers,\n"
          ]
        },
        {
          "output_type": "stream",
          "name": "stdout",
          "text": [
            "FatiasVazao [[4355.948794604728], [8711.897589209457], [13067.846383814183], [17423.795178418914], [21779.74397302364]]\n",
            "vazaoAgregadaClusters [{'vazaoAgregada': 4431.818037481201, 'label': 9}, {'vazaoAgregada': 4294.8699733766125, 'label': 3}, {'vazaoAgregada': 3759.1615613086615, 'label': 2}, {'vazaoAgregada': 2799.1152077129686, 'label': 5}, {'vazaoAgregada': 1980.3880183743565, 'label': 1}, {'vazaoAgregada': 1721.7547789376283, 'label': 4}, {'vazaoAgregada': 781.4643269866689, 'label': 6}, {'vazaoAgregada': 748.1408108363421, 'label': 11}, {'vazaoAgregada': 663.4654033268368, 'label': 7}, {'vazaoAgregada': 599.5658546823647, 'label': 8}, {'vazaoAgregada': 0.0, 'label': 0}, {'vazaoAgregada': 0.0, 'label': 10}, {'vazaoAgregada': 0.0, 'label': 12}, {'vazaoAgregada': 0.0, 'label': 13}, {'vazaoAgregada': 0.0, 'label': 14}, {'vazaoAgregada': 0.0, 'label': 15}, {'vazaoAgregada': 0.0, 'label': 16}, {'vazaoAgregada': 0.0, 'label': 17}]\n",
            "clustersUsados [{'vazaoAgregada': 4431.818037481201, 'label': 9}]\n",
            "clustersFinais [    MicroID  UsersConnected  TotalDataRate  DataRateMean  Moment  Label\n",
            "19     20.0             1.0    4431.818037   4431.818037    15.0      9]\n",
            "antenasLigadas [{'id': 20.0, 'DrMean': 4431.818037481201}]\n"
          ]
        },
        {
          "output_type": "stream",
          "name": "stderr",
          "text": [
            "WARNING:matplotlib.legend:No handles with labels found to put in legend.\n"
          ]
        },
        {
          "output_type": "stream",
          "name": "stdout",
          "text": [
            "sse [267986184.05234408, 61085524.96152846, 23887334.26111314, 14964722.11162037, 7716316.652933469, 4364725.100121953, 1036990.3510868362, 165223.21164133496, 21248.395657282214]\n"
          ]
        },
        {
          "output_type": "display_data",
          "data": {
            "text/plain": [
              "<Figure size 432x288 with 1 Axes>"
            ],
            "image/png": "[encoded data removed]"
          },
          "metadata": {
            "needs_background": "light"
          }
        },
        {
          "output_type": "stream",
          "name": "stderr",
          "text": [
            "<ipython-input-63-7cac5e171799>:32: SettingWithCopyWarning: \n",
            "A value is trying to be set on a copy of a slice from a DataFrame\n",
            "\n",
            "See the caveats in the documentation: https://pandas.pydata.org/pandas-docs/stable/user_guide/indexing.html#returning-a-view-versus-a-copy\n",
            "  Us['DR'][i+Us.index[0]] =0\n",
            "<ipython-input-63-7cac5e171799>:33: SettingWithCopyWarning: \n",
            "A value is trying to be set on a copy of a slice from a DataFrame\n",
            "\n",
            "See the caveats in the documentation: https://pandas.pydata.org/pandas-docs/stable/user_guide/indexing.html#returning-a-view-versus-a-copy\n",
            "  Us['PRB'][i+Us.index[0]] =0\n",
            "<ipython-input-63-7cac5e171799>:34: SettingWithCopyWarning: \n",
            "A value is trying to be set on a copy of a slice from a DataFrame\n",
            "\n",
            "See the caveats in the documentation: https://pandas.pydata.org/pandas-docs/stable/user_guide/indexing.html#returning-a-view-versus-a-copy\n",
            "  Us['EB'][i+Us.index[0]]= 0\n",
            "<ipython-input-63-7cac5e171799>:35: SettingWithCopyWarning: \n",
            "A value is trying to be set on a copy of a slice from a DataFrame\n",
            "\n",
            "See the caveats in the documentation: https://pandas.pydata.org/pandas-docs/stable/user_guide/indexing.html#returning-a-view-versus-a-copy\n",
            "  Us['CQI'][i+Us.index[0]]=0\n",
            "<ipython-input-63-7cac5e171799>:36: SettingWithCopyWarning: \n",
            "A value is trying to be set on a copy of a slice from a DataFrame\n",
            "\n",
            "See the caveats in the documentation: https://pandas.pydata.org/pandas-docs/stable/user_guide/indexing.html#returning-a-view-versus-a-copy\n",
            "  Us['SINR'][i+Us.index[0]]=0\n",
            "<ipython-input-63-7cac5e171799>:37: SettingWithCopyWarning: \n",
            "A value is trying to be set on a copy of a slice from a DataFrame\n",
            "\n",
            "See the caveats in the documentation: https://pandas.pydata.org/pandas-docs/stable/user_guide/indexing.html#returning-a-view-versus-a-copy\n",
            "  Us['C'][i+Us.index[0]]=False\n",
            "<ipython-input-63-7cac5e171799>:42: SettingWithCopyWarning: \n",
            "A value is trying to be set on a copy of a slice from a DataFrame\n",
            "\n",
            "See the caveats in the documentation: https://pandas.pydata.org/pandas-docs/stable/user_guide/indexing.html#returning-a-view-versus-a-copy\n",
            "  Us['DR'][i+Us.index[0]] =T*PR\n",
            "<ipython-input-63-7cac5e171799>:43: SettingWithCopyWarning: \n",
            "A value is trying to be set on a copy of a slice from a DataFrame\n",
            "\n",
            "See the caveats in the documentation: https://pandas.pydata.org/pandas-docs/stable/user_guide/indexing.html#returning-a-view-versus-a-copy\n",
            "  Us['PRB'][i+Us.index[0]] =PR\n",
            "<ipython-input-63-7cac5e171799>:44: SettingWithCopyWarning: \n",
            "A value is trying to be set on a copy of a slice from a DataFrame\n",
            "\n",
            "See the caveats in the documentation: https://pandas.pydata.org/pandas-docs/stable/user_guide/indexing.html#returning-a-view-versus-a-copy\n",
            "  Us['EB'][i+Us.index[0]]= IND + 1\n",
            "<ipython-input-63-7cac5e171799>:45: SettingWithCopyWarning: \n",
            "A value is trying to be set on a copy of a slice from a DataFrame\n",
            "\n",
            "See the caveats in the documentation: https://pandas.pydata.org/pandas-docs/stable/user_guide/indexing.html#returning-a-view-versus-a-copy\n",
            "  Us['ES'][i+Us.index[0]]= 1\n",
            "<ipython-input-63-7cac5e171799>:46: SettingWithCopyWarning: \n",
            "A value is trying to be set on a copy of a slice from a DataFrame\n",
            "\n",
            "See the caveats in the documentation: https://pandas.pydata.org/pandas-docs/stable/user_guide/indexing.html#returning-a-view-versus-a-copy\n",
            "  Us['CQI'][i+Us.index[0]]=CQI.loc[i,IND]\n",
            "<ipython-input-63-7cac5e171799>:47: SettingWithCopyWarning: \n",
            "A value is trying to be set on a copy of a slice from a DataFrame\n",
            "\n",
            "See the caveats in the documentation: https://pandas.pydata.org/pandas-docs/stable/user_guide/indexing.html#returning-a-view-versus-a-copy\n",
            "  Us['SINR'][i+Us.index[0]]=SINR.loc[i,IND]\n",
            "<ipython-input-63-7cac5e171799>:48: SettingWithCopyWarning: \n",
            "A value is trying to be set on a copy of a slice from a DataFrame\n",
            "\n",
            "See the caveats in the documentation: https://pandas.pydata.org/pandas-docs/stable/user_guide/indexing.html#returning-a-view-versus-a-copy\n",
            "  Us['C'][i+Us.index[0]]=True #usuario foi alocado naquela antena\n",
            "<ipython-input-63-7cac5e171799>:49: SettingWithCopyWarning: \n",
            "A value is trying to be set on a copy of a slice from a DataFrame\n",
            "\n",
            "See the caveats in the documentation: https://pandas.pydata.org/pandas-docs/stable/user_guide/indexing.html#returning-a-view-versus-a-copy\n",
            "  Small['PRB_F'][IND]=Small.loc[IND,'PRB_F']-PR #pega o prb da antena e diminui pela qnt de canais que o user usou\n",
            "<ipython-input-74-b94865a40029>:12: SettingWithCopyWarning: \n",
            "A value is trying to be set on a copy of a slice from a DataFrame\n",
            "\n",
            "See the caveats in the documentation: https://pandas.pydata.org/pandas-docs/stable/user_guide/indexing.html#returning-a-view-versus-a-copy\n",
            "  Us['DR'][index] =Us['DR'][index]*TOT_PR\n",
            "<ipython-input-74-b94865a40029>:13: SettingWithCopyWarning: \n",
            "A value is trying to be set on a copy of a slice from a DataFrame\n",
            "\n",
            "See the caveats in the documentation: https://pandas.pydata.org/pandas-docs/stable/user_guide/indexing.html#returning-a-view-versus-a-copy\n",
            "  Us['PRB'][index] = Us['PRB'][index] + TOT_PR\n",
            "<ipython-input-74-b94865a40029>:14: SettingWithCopyWarning: \n",
            "A value is trying to be set on a copy of a slice from a DataFrame\n",
            "\n",
            "See the caveats in the documentation: https://pandas.pydata.org/pandas-docs/stable/user_guide/indexing.html#returning-a-view-versus-a-copy\n",
            "  Small['PRB_F'][i]=Small.loc[i,'PRB_F']-TOT_PR\n",
            "<ipython-input-70-a5e07d73fc62>:16: RuntimeWarning: invalid value encountered in double_scalars\n",
            "  \"DataRateMean\": TotalDataRate/TotalUsers,\n"
          ]
        },
        {
          "output_type": "stream",
          "name": "stdout",
          "text": [
            "fatiaVazaoAgregada [4355.948794604728]\n",
            "antenasNecessariasParaSuprirUmMomento [{'id': 18.0, 'DrMean': 663.4654033268368}, {'id': 2.0, 'DrMean': 1980.3880183743565}, {'id': 7.0, 'DrMean': 2799.1152077129686}]\n",
            "Momento Atual -------------------------------------------------------------------------------------------------- 17\n"
          ]
        },
        {
          "output_type": "display_data",
          "data": {
            "text/plain": [
              "<Figure size 432x288 with 1 Axes>"
            ],
            "image/png": "[encoded data removed]"
          },
          "metadata": {
            "needs_background": "light"
          }
        },
        {
          "output_type": "stream",
          "name": "stderr",
          "text": [
            "/usr/local/lib/python3.8/dist-packages/pandas/core/indexing.py:1732: SettingWithCopyWarning: \n",
            "A value is trying to be set on a copy of a slice from a DataFrame\n",
            "\n",
            "See the caveats in the documentation: https://pandas.pydata.org/pandas-docs/stable/user_guide/indexing.html#returning-a-view-versus-a-copy\n",
            "  self._setitem_single_block(indexer, value, name)\n",
            "/usr/local/lib/python3.8/dist-packages/pandas/core/series.py:1056: SettingWithCopyWarning: \n",
            "A value is trying to be set on a copy of a slice from a DataFrame\n",
            "\n",
            "See the caveats in the documentation: https://pandas.pydata.org/pandas-docs/stable/user_guide/indexing.html#returning-a-view-versus-a-copy\n",
            "  cacher_needs_updating = self._check_is_chained_assignment_possible()\n"
          ]
        },
        {
          "output_type": "stream",
          "name": "stdout",
          "text": [
            "FatiasVazao [[5418.273330519889], [10836.546661039778], [16254.819991559663], [21673.093322079556], [27091.36665259944]]\n",
            "vazaoAgregadaClusters [{'vazaoAgregada': 3587.248810103177, 'label': 6}, {'vazaoAgregada': 2759.4432148342016, 'label': 7}, {'vazaoAgregada': 2670.717652373427, 'label': 10}, {'vazaoAgregada': 2418.317102148964, 'label': 2}, {'vazaoAgregada': 2406.346874170535, 'label': 3}, {'vazaoAgregada': 2212.809721549154, 'label': 0}, {'vazaoAgregada': 1963.075915542169, 'label': 12}, {'vazaoAgregada': 1429.8883061533782, 'label': 8}, {'vazaoAgregada': 1324.042254119426, 'label': 14}, {'vazaoAgregada': 1303.275686719349, 'label': 5}, {'vazaoAgregada': 1261.5036921696303, 'label': 15}, {'vazaoAgregada': 1231.2970797585363, 'label': 13}, {'vazaoAgregada': 1195.5823552020584, 'label': 9}, {'vazaoAgregada': 889.7385852245781, 'label': 4}, {'vazaoAgregada': 438.0794025308492, 'label': 11}, {'vazaoAgregada': 0.0, 'label': 1}, {'vazaoAgregada': 0.0, 'label': 16}, {'vazaoAgregada': 0.0, 'label': 17}]\n",
            "clustersUsados [{'vazaoAgregada': 3587.248810103177, 'label': 6}, {'vazaoAgregada': 2759.4432148342016, 'label': 7}]\n",
            "clustersFinais [    MicroID  UsersConnected  TotalDataRate  DataRateMean  Moment  Label\n",
            "20     21.0             1.0     3587.24881    3587.24881    16.0      6,    MicroID  UsersConnected  TotalDataRate  DataRateMean  Moment  Label\n",
            "7      8.0             2.0     5518.88643   2759.443215    16.0      7]\n",
            "antenasLigadas [{'id': 21.0, 'DrMean': 3587.248810103177}, {'id': 8.0, 'DrMean': 2759.4432148342016}]\n"
          ]
        },
        {
          "output_type": "stream",
          "name": "stderr",
          "text": [
            "WARNING:matplotlib.legend:No handles with labels found to put in legend.\n"
          ]
        },
        {
          "output_type": "stream",
          "name": "stdout",
          "text": [
            "sse [178995158.40986934, 63239978.98270854, 22779868.623292334, 13914271.287935797, 9260804.486622646, 5668703.72237705, 3407167.6257707374, 1899517.9731545425, 1198126.1625062935]\n"
          ]
        },
        {
          "output_type": "display_data",
          "data": {
            "text/plain": [
              "<Figure size 432x288 with 1 Axes>"
            ],
            "image/png": "[encoded data removed]"
          },
          "metadata": {
            "needs_background": "light"
          }
        },
        {
          "output_type": "stream",
          "name": "stderr",
          "text": [
            "<ipython-input-63-7cac5e171799>:32: SettingWithCopyWarning: \n",
            "A value is trying to be set on a copy of a slice from a DataFrame\n",
            "\n",
            "See the caveats in the documentation: https://pandas.pydata.org/pandas-docs/stable/user_guide/indexing.html#returning-a-view-versus-a-copy\n",
            "  Us['DR'][i+Us.index[0]] =0\n",
            "<ipython-input-63-7cac5e171799>:33: SettingWithCopyWarning: \n",
            "A value is trying to be set on a copy of a slice from a DataFrame\n",
            "\n",
            "See the caveats in the documentation: https://pandas.pydata.org/pandas-docs/stable/user_guide/indexing.html#returning-a-view-versus-a-copy\n",
            "  Us['PRB'][i+Us.index[0]] =0\n",
            "<ipython-input-63-7cac5e171799>:34: SettingWithCopyWarning: \n",
            "A value is trying to be set on a copy of a slice from a DataFrame\n",
            "\n",
            "See the caveats in the documentation: https://pandas.pydata.org/pandas-docs/stable/user_guide/indexing.html#returning-a-view-versus-a-copy\n",
            "  Us['EB'][i+Us.index[0]]= 0\n",
            "<ipython-input-63-7cac5e171799>:35: SettingWithCopyWarning: \n",
            "A value is trying to be set on a copy of a slice from a DataFrame\n",
            "\n",
            "See the caveats in the documentation: https://pandas.pydata.org/pandas-docs/stable/user_guide/indexing.html#returning-a-view-versus-a-copy\n",
            "  Us['CQI'][i+Us.index[0]]=0\n",
            "<ipython-input-63-7cac5e171799>:36: SettingWithCopyWarning: \n",
            "A value is trying to be set on a copy of a slice from a DataFrame\n",
            "\n",
            "See the caveats in the documentation: https://pandas.pydata.org/pandas-docs/stable/user_guide/indexing.html#returning-a-view-versus-a-copy\n",
            "  Us['SINR'][i+Us.index[0]]=0\n",
            "<ipython-input-63-7cac5e171799>:37: SettingWithCopyWarning: \n",
            "A value is trying to be set on a copy of a slice from a DataFrame\n",
            "\n",
            "See the caveats in the documentation: https://pandas.pydata.org/pandas-docs/stable/user_guide/indexing.html#returning-a-view-versus-a-copy\n",
            "  Us['C'][i+Us.index[0]]=False\n",
            "<ipython-input-63-7cac5e171799>:42: SettingWithCopyWarning: \n",
            "A value is trying to be set on a copy of a slice from a DataFrame\n",
            "\n",
            "See the caveats in the documentation: https://pandas.pydata.org/pandas-docs/stable/user_guide/indexing.html#returning-a-view-versus-a-copy\n",
            "  Us['DR'][i+Us.index[0]] =T*PR\n",
            "<ipython-input-63-7cac5e171799>:43: SettingWithCopyWarning: \n",
            "A value is trying to be set on a copy of a slice from a DataFrame\n",
            "\n",
            "See the caveats in the documentation: https://pandas.pydata.org/pandas-docs/stable/user_guide/indexing.html#returning-a-view-versus-a-copy\n",
            "  Us['PRB'][i+Us.index[0]] =PR\n",
            "<ipython-input-63-7cac5e171799>:44: SettingWithCopyWarning: \n",
            "A value is trying to be set on a copy of a slice from a DataFrame\n",
            "\n",
            "See the caveats in the documentation: https://pandas.pydata.org/pandas-docs/stable/user_guide/indexing.html#returning-a-view-versus-a-copy\n",
            "  Us['EB'][i+Us.index[0]]= IND + 1\n",
            "<ipython-input-63-7cac5e171799>:45: SettingWithCopyWarning: \n",
            "A value is trying to be set on a copy of a slice from a DataFrame\n",
            "\n",
            "See the caveats in the documentation: https://pandas.pydata.org/pandas-docs/stable/user_guide/indexing.html#returning-a-view-versus-a-copy\n",
            "  Us['ES'][i+Us.index[0]]= 1\n",
            "<ipython-input-63-7cac5e171799>:46: SettingWithCopyWarning: \n",
            "A value is trying to be set on a copy of a slice from a DataFrame\n",
            "\n",
            "See the caveats in the documentation: https://pandas.pydata.org/pandas-docs/stable/user_guide/indexing.html#returning-a-view-versus-a-copy\n",
            "  Us['CQI'][i+Us.index[0]]=CQI.loc[i,IND]\n",
            "<ipython-input-63-7cac5e171799>:47: SettingWithCopyWarning: \n",
            "A value is trying to be set on a copy of a slice from a DataFrame\n",
            "\n",
            "See the caveats in the documentation: https://pandas.pydata.org/pandas-docs/stable/user_guide/indexing.html#returning-a-view-versus-a-copy\n",
            "  Us['SINR'][i+Us.index[0]]=SINR.loc[i,IND]\n",
            "<ipython-input-63-7cac5e171799>:48: SettingWithCopyWarning: \n",
            "A value is trying to be set on a copy of a slice from a DataFrame\n",
            "\n",
            "See the caveats in the documentation: https://pandas.pydata.org/pandas-docs/stable/user_guide/indexing.html#returning-a-view-versus-a-copy\n",
            "  Us['C'][i+Us.index[0]]=True #usuario foi alocado naquela antena\n",
            "<ipython-input-63-7cac5e171799>:49: SettingWithCopyWarning: \n",
            "A value is trying to be set on a copy of a slice from a DataFrame\n",
            "\n",
            "See the caveats in the documentation: https://pandas.pydata.org/pandas-docs/stable/user_guide/indexing.html#returning-a-view-versus-a-copy\n",
            "  Small['PRB_F'][IND]=Small.loc[IND,'PRB_F']-PR #pega o prb da antena e diminui pela qnt de canais que o user usou\n",
            "<ipython-input-74-b94865a40029>:12: SettingWithCopyWarning: \n",
            "A value is trying to be set on a copy of a slice from a DataFrame\n",
            "\n",
            "See the caveats in the documentation: https://pandas.pydata.org/pandas-docs/stable/user_guide/indexing.html#returning-a-view-versus-a-copy\n",
            "  Us['DR'][index] =Us['DR'][index]*TOT_PR\n",
            "<ipython-input-74-b94865a40029>:13: SettingWithCopyWarning: \n",
            "A value is trying to be set on a copy of a slice from a DataFrame\n",
            "\n",
            "See the caveats in the documentation: https://pandas.pydata.org/pandas-docs/stable/user_guide/indexing.html#returning-a-view-versus-a-copy\n",
            "  Us['PRB'][index] = Us['PRB'][index] + TOT_PR\n",
            "<ipython-input-74-b94865a40029>:14: SettingWithCopyWarning: \n",
            "A value is trying to be set on a copy of a slice from a DataFrame\n",
            "\n",
            "See the caveats in the documentation: https://pandas.pydata.org/pandas-docs/stable/user_guide/indexing.html#returning-a-view-versus-a-copy\n",
            "  Small['PRB_F'][i]=Small.loc[i,'PRB_F']-TOT_PR\n",
            "<ipython-input-70-a5e07d73fc62>:16: RuntimeWarning: invalid value encountered in double_scalars\n",
            "  \"DataRateMean\": TotalDataRate/TotalUsers,\n"
          ]
        },
        {
          "output_type": "stream",
          "name": "stdout",
          "text": [
            "fatiaVazaoAgregada [5418.273330519889]\n",
            "antenasNecessariasParaSuprirUmMomento [{'id': 7.0, 'DrMean': 2418.317102148964}, {'id': 17.0, 'DrMean': 2406.346874170535}, {'id': 18.0, 'DrMean': 1195.5823552020584}]\n",
            "Momento Atual -------------------------------------------------------------------------------------------------- 18\n"
          ]
        },
        {
          "output_type": "display_data",
          "data": {
            "text/plain": [
              "<Figure size 432x288 with 1 Axes>"
            ],
            "image/png": "[encoded data removed]"
          },
          "metadata": {
            "needs_background": "light"
          }
        },
        {
          "output_type": "stream",
          "name": "stderr",
          "text": [
            "/usr/local/lib/python3.8/dist-packages/pandas/core/indexing.py:1732: SettingWithCopyWarning: \n",
            "A value is trying to be set on a copy of a slice from a DataFrame\n",
            "\n",
            "See the caveats in the documentation: https://pandas.pydata.org/pandas-docs/stable/user_guide/indexing.html#returning-a-view-versus-a-copy\n",
            "  self._setitem_single_block(indexer, value, name)\n",
            "/usr/local/lib/python3.8/dist-packages/pandas/core/series.py:1056: SettingWithCopyWarning: \n",
            "A value is trying to be set on a copy of a slice from a DataFrame\n",
            "\n",
            "See the caveats in the documentation: https://pandas.pydata.org/pandas-docs/stable/user_guide/indexing.html#returning-a-view-versus-a-copy\n",
            "  cacher_needs_updating = self._check_is_chained_assignment_possible()\n",
            "<ipython-input-70-a5e07d73fc62>:33: RuntimeWarning: invalid value encountered in double_scalars\n",
            "  \"DataRateMean\": TotalDataRate/TotalUsers,\n"
          ]
        },
        {
          "output_type": "stream",
          "name": "stdout",
          "text": [
            "FatiasVazao [[5834.042197379222], [11668.084394758444], [17502.12659213766], [23336.168789516887], [29170.210986896105]]\n",
            "vazaoAgregadaClusters [{'vazaoAgregada': 4426.21123751099, 'label': 6}, {'vazaoAgregada': 3039.529371549437, 'label': 1}, {'vazaoAgregada': 2393.12576719031, 'label': 8}, {'vazaoAgregada': 2319.3394023149585, 'label': 10}, {'vazaoAgregada': 2119.6114069890455, 'label': 3}, {'vazaoAgregada': 2075.9044836922376, 'label': 9}, {'vazaoAgregada': 1693.5499570706597, 'label': 13}, {'vazaoAgregada': 1531.0038874090378, 'label': 14}, {'vazaoAgregada': 1515.5351348750498, 'label': 17}, {'vazaoAgregada': 1471.2829488984755, 'label': 2}, {'vazaoAgregada': 1391.8537628800552, 'label': 16}, {'vazaoAgregada': 1310.2836178786106, 'label': 4}, {'vazaoAgregada': 1045.8179330849086, 'label': 7}, {'vazaoAgregada': 892.5594379165103, 'label': 15}, {'vazaoAgregada': 726.6530678993895, 'label': 12}, {'vazaoAgregada': 672.7606829605409, 'label': 11}, {'vazaoAgregada': 545.1888867758911, 'label': 5}, {'vazaoAgregada': 0.0, 'label': 0}]\n",
            "clustersUsados [{'vazaoAgregada': 4426.21123751099, 'label': 6}, {'vazaoAgregada': 3039.529371549437, 'label': 1}]\n",
            "clustersFinais [   MicroID  UsersConnected  TotalDataRate  DataRateMean  Moment  Label\n",
            "3      4.0             1.0    4426.211238   4426.211238    17.0      6,    MicroID  UsersConnected  TotalDataRate  DataRateMean  Moment  Label\n",
            "2      3.0             2.0    6079.058743   3039.529372    17.0      1]\n",
            "antenasLigadas [{'id': 4.0, 'DrMean': 4426.21123751099}, {'id': 3.0, 'DrMean': 3039.529371549437}]\n"
          ]
        },
        {
          "output_type": "stream",
          "name": "stderr",
          "text": [
            "WARNING:matplotlib.legend:No handles with labels found to put in legend.\n"
          ]
        },
        {
          "output_type": "stream",
          "name": "stdout",
          "text": [
            "sse [216028042.57155818, 52939540.49648628, 27262798.121242255, 13613437.905530978, 8156531.545025537, 4700046.0469074575, 2858304.9892113614, 2043950.214288115, 1390665.5459036771]\n"
          ]
        },
        {
          "output_type": "display_data",
          "data": {
            "text/plain": [
              "<Figure size 432x288 with 1 Axes>"
            ],
            "image/png": "[encoded data removed]"
          },
          "metadata": {
            "needs_background": "light"
          }
        },
        {
          "output_type": "stream",
          "name": "stderr",
          "text": [
            "<ipython-input-63-7cac5e171799>:32: SettingWithCopyWarning: \n",
            "A value is trying to be set on a copy of a slice from a DataFrame\n",
            "\n",
            "See the caveats in the documentation: https://pandas.pydata.org/pandas-docs/stable/user_guide/indexing.html#returning-a-view-versus-a-copy\n",
            "  Us['DR'][i+Us.index[0]] =0\n",
            "<ipython-input-63-7cac5e171799>:33: SettingWithCopyWarning: \n",
            "A value is trying to be set on a copy of a slice from a DataFrame\n",
            "\n",
            "See the caveats in the documentation: https://pandas.pydata.org/pandas-docs/stable/user_guide/indexing.html#returning-a-view-versus-a-copy\n",
            "  Us['PRB'][i+Us.index[0]] =0\n",
            "<ipython-input-63-7cac5e171799>:34: SettingWithCopyWarning: \n",
            "A value is trying to be set on a copy of a slice from a DataFrame\n",
            "\n",
            "See the caveats in the documentation: https://pandas.pydata.org/pandas-docs/stable/user_guide/indexing.html#returning-a-view-versus-a-copy\n",
            "  Us['EB'][i+Us.index[0]]= 0\n",
            "<ipython-input-63-7cac5e171799>:35: SettingWithCopyWarning: \n",
            "A value is trying to be set on a copy of a slice from a DataFrame\n",
            "\n",
            "See the caveats in the documentation: https://pandas.pydata.org/pandas-docs/stable/user_guide/indexing.html#returning-a-view-versus-a-copy\n",
            "  Us['CQI'][i+Us.index[0]]=0\n",
            "<ipython-input-63-7cac5e171799>:36: SettingWithCopyWarning: \n",
            "A value is trying to be set on a copy of a slice from a DataFrame\n",
            "\n",
            "See the caveats in the documentation: https://pandas.pydata.org/pandas-docs/stable/user_guide/indexing.html#returning-a-view-versus-a-copy\n",
            "  Us['SINR'][i+Us.index[0]]=0\n",
            "<ipython-input-63-7cac5e171799>:37: SettingWithCopyWarning: \n",
            "A value is trying to be set on a copy of a slice from a DataFrame\n",
            "\n",
            "See the caveats in the documentation: https://pandas.pydata.org/pandas-docs/stable/user_guide/indexing.html#returning-a-view-versus-a-copy\n",
            "  Us['C'][i+Us.index[0]]=False\n",
            "<ipython-input-63-7cac5e171799>:42: SettingWithCopyWarning: \n",
            "A value is trying to be set on a copy of a slice from a DataFrame\n",
            "\n",
            "See the caveats in the documentation: https://pandas.pydata.org/pandas-docs/stable/user_guide/indexing.html#returning-a-view-versus-a-copy\n",
            "  Us['DR'][i+Us.index[0]] =T*PR\n",
            "<ipython-input-63-7cac5e171799>:43: SettingWithCopyWarning: \n",
            "A value is trying to be set on a copy of a slice from a DataFrame\n",
            "\n",
            "See the caveats in the documentation: https://pandas.pydata.org/pandas-docs/stable/user_guide/indexing.html#returning-a-view-versus-a-copy\n",
            "  Us['PRB'][i+Us.index[0]] =PR\n",
            "<ipython-input-63-7cac5e171799>:44: SettingWithCopyWarning: \n",
            "A value is trying to be set on a copy of a slice from a DataFrame\n",
            "\n",
            "See the caveats in the documentation: https://pandas.pydata.org/pandas-docs/stable/user_guide/indexing.html#returning-a-view-versus-a-copy\n",
            "  Us['EB'][i+Us.index[0]]= IND + 1\n",
            "<ipython-input-63-7cac5e171799>:45: SettingWithCopyWarning: \n",
            "A value is trying to be set on a copy of a slice from a DataFrame\n",
            "\n",
            "See the caveats in the documentation: https://pandas.pydata.org/pandas-docs/stable/user_guide/indexing.html#returning-a-view-versus-a-copy\n",
            "  Us['ES'][i+Us.index[0]]= 1\n",
            "<ipython-input-63-7cac5e171799>:46: SettingWithCopyWarning: \n",
            "A value is trying to be set on a copy of a slice from a DataFrame\n",
            "\n",
            "See the caveats in the documentation: https://pandas.pydata.org/pandas-docs/stable/user_guide/indexing.html#returning-a-view-versus-a-copy\n",
            "  Us['CQI'][i+Us.index[0]]=CQI.loc[i,IND]\n",
            "<ipython-input-63-7cac5e171799>:47: SettingWithCopyWarning: \n",
            "A value is trying to be set on a copy of a slice from a DataFrame\n",
            "\n",
            "See the caveats in the documentation: https://pandas.pydata.org/pandas-docs/stable/user_guide/indexing.html#returning-a-view-versus-a-copy\n",
            "  Us['SINR'][i+Us.index[0]]=SINR.loc[i,IND]\n",
            "<ipython-input-63-7cac5e171799>:48: SettingWithCopyWarning: \n",
            "A value is trying to be set on a copy of a slice from a DataFrame\n",
            "\n",
            "See the caveats in the documentation: https://pandas.pydata.org/pandas-docs/stable/user_guide/indexing.html#returning-a-view-versus-a-copy\n",
            "  Us['C'][i+Us.index[0]]=True #usuario foi alocado naquela antena\n",
            "<ipython-input-63-7cac5e171799>:49: SettingWithCopyWarning: \n",
            "A value is trying to be set on a copy of a slice from a DataFrame\n",
            "\n",
            "See the caveats in the documentation: https://pandas.pydata.org/pandas-docs/stable/user_guide/indexing.html#returning-a-view-versus-a-copy\n",
            "  Small['PRB_F'][IND]=Small.loc[IND,'PRB_F']-PR #pega o prb da antena e diminui pela qnt de canais que o user usou\n",
            "<ipython-input-74-b94865a40029>:12: SettingWithCopyWarning: \n",
            "A value is trying to be set on a copy of a slice from a DataFrame\n",
            "\n",
            "See the caveats in the documentation: https://pandas.pydata.org/pandas-docs/stable/user_guide/indexing.html#returning-a-view-versus-a-copy\n",
            "  Us['DR'][index] =Us['DR'][index]*TOT_PR\n",
            "<ipython-input-74-b94865a40029>:13: SettingWithCopyWarning: \n",
            "A value is trying to be set on a copy of a slice from a DataFrame\n",
            "\n",
            "See the caveats in the documentation: https://pandas.pydata.org/pandas-docs/stable/user_guide/indexing.html#returning-a-view-versus-a-copy\n",
            "  Us['PRB'][index] = Us['PRB'][index] + TOT_PR\n",
            "<ipython-input-74-b94865a40029>:14: SettingWithCopyWarning: \n",
            "A value is trying to be set on a copy of a slice from a DataFrame\n",
            "\n",
            "See the caveats in the documentation: https://pandas.pydata.org/pandas-docs/stable/user_guide/indexing.html#returning-a-view-versus-a-copy\n",
            "  Small['PRB_F'][i]=Small.loc[i,'PRB_F']-TOT_PR\n",
            "<ipython-input-70-a5e07d73fc62>:16: RuntimeWarning: invalid value encountered in double_scalars\n",
            "  \"DataRateMean\": TotalDataRate/TotalUsers,\n"
          ]
        },
        {
          "output_type": "stream",
          "name": "stdout",
          "text": [
            "fatiaVazaoAgregada [5834.042197379222]\n",
            "antenasNecessariasParaSuprirUmMomento [{'id': 7.0, 'DrMean': 2319.3394023149585}, {'id': 17.0, 'DrMean': 2119.6114069890455}, {'id': 14.0, 'DrMean': 2393.12576719031}]\n",
            "Momento Atual -------------------------------------------------------------------------------------------------- 19\n"
          ]
        },
        {
          "output_type": "display_data",
          "data": {
            "text/plain": [
              "<Figure size 432x288 with 1 Axes>"
            ],
            "image/png": "[encoded data removed]"
          },
          "metadata": {
            "needs_background": "light"
          }
        },
        {
          "output_type": "stream",
          "name": "stderr",
          "text": [
            "/usr/local/lib/python3.8/dist-packages/pandas/core/indexing.py:1732: SettingWithCopyWarning: \n",
            "A value is trying to be set on a copy of a slice from a DataFrame\n",
            "\n",
            "See the caveats in the documentation: https://pandas.pydata.org/pandas-docs/stable/user_guide/indexing.html#returning-a-view-versus-a-copy\n",
            "  self._setitem_single_block(indexer, value, name)\n",
            "/usr/local/lib/python3.8/dist-packages/pandas/core/series.py:1056: SettingWithCopyWarning: \n",
            "A value is trying to be set on a copy of a slice from a DataFrame\n",
            "\n",
            "See the caveats in the documentation: https://pandas.pydata.org/pandas-docs/stable/user_guide/indexing.html#returning-a-view-versus-a-copy\n",
            "  cacher_needs_updating = self._check_is_chained_assignment_possible()\n"
          ]
        },
        {
          "output_type": "stream",
          "name": "stdout",
          "text": [
            "FatiasVazao [[6016.502799225105], [12033.00559845021], [18049.508397675316], [24066.01119690042], [30082.513996125526]]\n",
            "vazaoAgregadaClusters [{'vazaoAgregada': 6284.562951118916, 'label': 4}, {'vazaoAgregada': 4107.26217456049, 'label': 1}, {'vazaoAgregada': 2426.3411572417754, 'label': 7}, {'vazaoAgregada': 2323.680779569104, 'label': 6}, {'vazaoAgregada': 2209.1316160857605, 'label': 14}, {'vazaoAgregada': 2052.05871856564, 'label': 5}, {'vazaoAgregada': 1890.5541343228767, 'label': 12}, {'vazaoAgregada': 1841.3369355796754, 'label': 3}, {'vazaoAgregada': 1470.972542925022, 'label': 11}, {'vazaoAgregada': 1212.2125831815783, 'label': 13}, {'vazaoAgregada': 1075.305816804041, 'label': 9}, {'vazaoAgregada': 967.8942659453699, 'label': 0}, {'vazaoAgregada': 893.1434158950839, 'label': 8}, {'vazaoAgregada': 886.3407040215651, 'label': 15}, {'vazaoAgregada': 441.7162003086322, 'label': 10}, {'vazaoAgregada': 0.0, 'label': 2}, {'vazaoAgregada': 0.0, 'label': 16}, {'vazaoAgregada': 0.0, 'label': 17}]\n",
            "clustersUsados [{'vazaoAgregada': 6284.562951118916, 'label': 4}]\n",
            "clustersFinais [   MicroID  UsersConnected  TotalDataRate  DataRateMean  Moment  Label\n",
            "2      3.0             1.0    6284.562951   6284.562951    18.0      4]\n",
            "antenasLigadas [{'id': 3.0, 'DrMean': 6284.562951118916}]\n"
          ]
        },
        {
          "output_type": "stream",
          "name": "stderr",
          "text": [
            "WARNING:matplotlib.legend:No handles with labels found to put in legend.\n"
          ]
        },
        {
          "output_type": "stream",
          "name": "stdout",
          "text": [
            "sse [216701328.51352933, 69292799.91884428, 28422742.73017924, 17407498.919997294, 8084785.7485509645, 5972824.847037378, 4017870.5231045512, 3099897.2004829985, 1947102.1389448298]\n"
          ]
        },
        {
          "output_type": "display_data",
          "data": {
            "text/plain": [
              "<Figure size 432x288 with 1 Axes>"
            ],
            "image/png": "[encoded data removed]"
          },
          "metadata": {
            "needs_background": "light"
          }
        },
        {
          "output_type": "stream",
          "name": "stderr",
          "text": [
            "<ipython-input-63-7cac5e171799>:32: SettingWithCopyWarning: \n",
            "A value is trying to be set on a copy of a slice from a DataFrame\n",
            "\n",
            "See the caveats in the documentation: https://pandas.pydata.org/pandas-docs/stable/user_guide/indexing.html#returning-a-view-versus-a-copy\n",
            "  Us['DR'][i+Us.index[0]] =0\n",
            "<ipython-input-63-7cac5e171799>:33: SettingWithCopyWarning: \n",
            "A value is trying to be set on a copy of a slice from a DataFrame\n",
            "\n",
            "See the caveats in the documentation: https://pandas.pydata.org/pandas-docs/stable/user_guide/indexing.html#returning-a-view-versus-a-copy\n",
            "  Us['PRB'][i+Us.index[0]] =0\n",
            "<ipython-input-63-7cac5e171799>:34: SettingWithCopyWarning: \n",
            "A value is trying to be set on a copy of a slice from a DataFrame\n",
            "\n",
            "See the caveats in the documentation: https://pandas.pydata.org/pandas-docs/stable/user_guide/indexing.html#returning-a-view-versus-a-copy\n",
            "  Us['EB'][i+Us.index[0]]= 0\n",
            "<ipython-input-63-7cac5e171799>:35: SettingWithCopyWarning: \n",
            "A value is trying to be set on a copy of a slice from a DataFrame\n",
            "\n",
            "See the caveats in the documentation: https://pandas.pydata.org/pandas-docs/stable/user_guide/indexing.html#returning-a-view-versus-a-copy\n",
            "  Us['CQI'][i+Us.index[0]]=0\n",
            "<ipython-input-63-7cac5e171799>:36: SettingWithCopyWarning: \n",
            "A value is trying to be set on a copy of a slice from a DataFrame\n",
            "\n",
            "See the caveats in the documentation: https://pandas.pydata.org/pandas-docs/stable/user_guide/indexing.html#returning-a-view-versus-a-copy\n",
            "  Us['SINR'][i+Us.index[0]]=0\n",
            "<ipython-input-63-7cac5e171799>:37: SettingWithCopyWarning: \n",
            "A value is trying to be set on a copy of a slice from a DataFrame\n",
            "\n",
            "See the caveats in the documentation: https://pandas.pydata.org/pandas-docs/stable/user_guide/indexing.html#returning-a-view-versus-a-copy\n",
            "  Us['C'][i+Us.index[0]]=False\n",
            "<ipython-input-63-7cac5e171799>:42: SettingWithCopyWarning: \n",
            "A value is trying to be set on a copy of a slice from a DataFrame\n",
            "\n",
            "See the caveats in the documentation: https://pandas.pydata.org/pandas-docs/stable/user_guide/indexing.html#returning-a-view-versus-a-copy\n",
            "  Us['DR'][i+Us.index[0]] =T*PR\n",
            "<ipython-input-63-7cac5e171799>:43: SettingWithCopyWarning: \n",
            "A value is trying to be set on a copy of a slice from a DataFrame\n",
            "\n",
            "See the caveats in the documentation: https://pandas.pydata.org/pandas-docs/stable/user_guide/indexing.html#returning-a-view-versus-a-copy\n",
            "  Us['PRB'][i+Us.index[0]] =PR\n",
            "<ipython-input-63-7cac5e171799>:44: SettingWithCopyWarning: \n",
            "A value is trying to be set on a copy of a slice from a DataFrame\n",
            "\n",
            "See the caveats in the documentation: https://pandas.pydata.org/pandas-docs/stable/user_guide/indexing.html#returning-a-view-versus-a-copy\n",
            "  Us['EB'][i+Us.index[0]]= IND + 1\n",
            "<ipython-input-63-7cac5e171799>:45: SettingWithCopyWarning: \n",
            "A value is trying to be set on a copy of a slice from a DataFrame\n",
            "\n",
            "See the caveats in the documentation: https://pandas.pydata.org/pandas-docs/stable/user_guide/indexing.html#returning-a-view-versus-a-copy\n",
            "  Us['ES'][i+Us.index[0]]= 1\n",
            "<ipython-input-63-7cac5e171799>:46: SettingWithCopyWarning: \n",
            "A value is trying to be set on a copy of a slice from a DataFrame\n",
            "\n",
            "See the caveats in the documentation: https://pandas.pydata.org/pandas-docs/stable/user_guide/indexing.html#returning-a-view-versus-a-copy\n",
            "  Us['CQI'][i+Us.index[0]]=CQI.loc[i,IND]\n",
            "<ipython-input-63-7cac5e171799>:47: SettingWithCopyWarning: \n",
            "A value is trying to be set on a copy of a slice from a DataFrame\n",
            "\n",
            "See the caveats in the documentation: https://pandas.pydata.org/pandas-docs/stable/user_guide/indexing.html#returning-a-view-versus-a-copy\n",
            "  Us['SINR'][i+Us.index[0]]=SINR.loc[i,IND]\n",
            "<ipython-input-63-7cac5e171799>:48: SettingWithCopyWarning: \n",
            "A value is trying to be set on a copy of a slice from a DataFrame\n",
            "\n",
            "See the caveats in the documentation: https://pandas.pydata.org/pandas-docs/stable/user_guide/indexing.html#returning-a-view-versus-a-copy\n",
            "  Us['C'][i+Us.index[0]]=True #usuario foi alocado naquela antena\n",
            "<ipython-input-63-7cac5e171799>:49: SettingWithCopyWarning: \n",
            "A value is trying to be set on a copy of a slice from a DataFrame\n",
            "\n",
            "See the caveats in the documentation: https://pandas.pydata.org/pandas-docs/stable/user_guide/indexing.html#returning-a-view-versus-a-copy\n",
            "  Small['PRB_F'][IND]=Small.loc[IND,'PRB_F']-PR #pega o prb da antena e diminui pela qnt de canais que o user usou\n",
            "<ipython-input-74-b94865a40029>:12: SettingWithCopyWarning: \n",
            "A value is trying to be set on a copy of a slice from a DataFrame\n",
            "\n",
            "See the caveats in the documentation: https://pandas.pydata.org/pandas-docs/stable/user_guide/indexing.html#returning-a-view-versus-a-copy\n",
            "  Us['DR'][index] =Us['DR'][index]*TOT_PR\n",
            "<ipython-input-74-b94865a40029>:13: SettingWithCopyWarning: \n",
            "A value is trying to be set on a copy of a slice from a DataFrame\n",
            "\n",
            "See the caveats in the documentation: https://pandas.pydata.org/pandas-docs/stable/user_guide/indexing.html#returning-a-view-versus-a-copy\n",
            "  Us['PRB'][index] = Us['PRB'][index] + TOT_PR\n",
            "<ipython-input-74-b94865a40029>:14: SettingWithCopyWarning: \n",
            "A value is trying to be set on a copy of a slice from a DataFrame\n",
            "\n",
            "See the caveats in the documentation: https://pandas.pydata.org/pandas-docs/stable/user_guide/indexing.html#returning-a-view-versus-a-copy\n",
            "  Small['PRB_F'][i]=Small.loc[i,'PRB_F']-TOT_PR\n",
            "<ipython-input-70-a5e07d73fc62>:16: RuntimeWarning: invalid value encountered in double_scalars\n",
            "  \"DataRateMean\": TotalDataRate/TotalUsers,\n"
          ]
        },
        {
          "output_type": "stream",
          "name": "stdout",
          "text": [
            "fatiaVazaoAgregada [6016.502799225105]\n",
            "antenasNecessariasParaSuprirUmMomento [{'id': 9.0, 'DrMean': 2052.05871856564}, {'id': 24.0, 'DrMean': 1075.305816804041}, {'id': 4.0, 'DrMean': 967.8942659453699}, {'id': 5.0, 'DrMean': 1212.2125831815783}, {'id': 10.0, 'DrMean': 4107.26217456049}]\n",
            "Momento Atual -------------------------------------------------------------------------------------------------- 20\n"
          ]
        },
        {
          "output_type": "display_data",
          "data": {
            "text/plain": [
              "<Figure size 432x288 with 1 Axes>"
            ],
            "image/png": "[encoded data removed]"
          },
          "metadata": {
            "needs_background": "light"
          }
        },
        {
          "output_type": "stream",
          "name": "stderr",
          "text": [
            "/usr/local/lib/python3.8/dist-packages/pandas/core/indexing.py:1732: SettingWithCopyWarning: \n",
            "A value is trying to be set on a copy of a slice from a DataFrame\n",
            "\n",
            "See the caveats in the documentation: https://pandas.pydata.org/pandas-docs/stable/user_guide/indexing.html#returning-a-view-versus-a-copy\n",
            "  self._setitem_single_block(indexer, value, name)\n",
            "/usr/local/lib/python3.8/dist-packages/pandas/core/series.py:1056: SettingWithCopyWarning: \n",
            "A value is trying to be set on a copy of a slice from a DataFrame\n",
            "\n",
            "See the caveats in the documentation: https://pandas.pydata.org/pandas-docs/stable/user_guide/indexing.html#returning-a-view-versus-a-copy\n",
            "  cacher_needs_updating = self._check_is_chained_assignment_possible()\n",
            "<ipython-input-70-a5e07d73fc62>:33: RuntimeWarning: invalid value encountered in double_scalars\n",
            "  \"DataRateMean\": TotalDataRate/TotalUsers,\n"
          ]
        },
        {
          "output_type": "stream",
          "name": "stdout",
          "text": [
            "FatiasVazao [[4700.45061303039], [9400.90122606078], [14101.351839091169], [18801.80245212156], [23502.25306515195]]\n",
            "vazaoAgregadaClusters [{'vazaoAgregada': 3499.729348971859, 'label': 5}, {'vazaoAgregada': 2832.3792061417766, 'label': 13}, {'vazaoAgregada': 2524.9061567060057, 'label': 1}, {'vazaoAgregada': 2283.861366960703, 'label': 14}, {'vazaoAgregada': 2058.1260253384153, 'label': 2}, {'vazaoAgregada': 1767.3486175104808, 'label': 8}, {'vazaoAgregada': 1676.8208937643626, 'label': 7}, {'vazaoAgregada': 1227.4505467650265, 'label': 11}, {'vazaoAgregada': 1089.1313632652411, 'label': 6}, {'vazaoAgregada': 1049.0267627901324, 'label': 12}, {'vazaoAgregada': 736.2496554367117, 'label': 3}, {'vazaoAgregada': 712.6777625754023, 'label': 4}, {'vazaoAgregada': 698.1406435561139, 'label': 9}, {'vazaoAgregada': 496.68067297778464, 'label': 15}, {'vazaoAgregada': 444.263126812015, 'label': 16}, {'vazaoAgregada': 405.46091557991497, 'label': 10}, {'vazaoAgregada': 0.0, 'label': 0}, {'vazaoAgregada': 0.0, 'label': 17}]\n",
            "clustersUsados [{'vazaoAgregada': 3499.729348971859, 'label': 5}, {'vazaoAgregada': 2832.3792061417766, 'label': 13}]\n",
            "clustersFinais [    MicroID  UsersConnected  TotalDataRate  DataRateMean  Moment  Label\n",
            "14     15.0             1.0    3499.729349   3499.729349    19.0      5,    MicroID  UsersConnected  TotalDataRate  DataRateMean  Moment  Label\n",
            "9     10.0             1.0    2832.379206   2832.379206    19.0     13]\n",
            "antenasLigadas [{'id': 15.0, 'DrMean': 3499.729348971859}, {'id': 10.0, 'DrMean': 2832.3792061417766}]\n"
          ]
        },
        {
          "output_type": "stream",
          "name": "stderr",
          "text": [
            "WARNING:matplotlib.legend:No handles with labels found to put in legend.\n"
          ]
        },
        {
          "output_type": "stream",
          "name": "stdout",
          "text": [
            "sse [98573002.48488975, 29671727.28510138, 13841673.425521571, 7541519.29698766, 4900690.983626908, 3539276.121911701, 2271391.214849892, 1680187.0581777925, 1112427.7054601407]\n"
          ]
        },
        {
          "output_type": "display_data",
          "data": {
            "text/plain": [
              "<Figure size 432x288 with 1 Axes>"
            ],
            "image/png": "[encoded data removed]"
          },
          "metadata": {
            "needs_background": "light"
          }
        },
        {
          "output_type": "stream",
          "name": "stderr",
          "text": [
            "<ipython-input-63-7cac5e171799>:32: SettingWithCopyWarning: \n",
            "A value is trying to be set on a copy of a slice from a DataFrame\n",
            "\n",
            "See the caveats in the documentation: https://pandas.pydata.org/pandas-docs/stable/user_guide/indexing.html#returning-a-view-versus-a-copy\n",
            "  Us['DR'][i+Us.index[0]] =0\n",
            "<ipython-input-63-7cac5e171799>:33: SettingWithCopyWarning: \n",
            "A value is trying to be set on a copy of a slice from a DataFrame\n",
            "\n",
            "See the caveats in the documentation: https://pandas.pydata.org/pandas-docs/stable/user_guide/indexing.html#returning-a-view-versus-a-copy\n",
            "  Us['PRB'][i+Us.index[0]] =0\n",
            "<ipython-input-63-7cac5e171799>:34: SettingWithCopyWarning: \n",
            "A value is trying to be set on a copy of a slice from a DataFrame\n",
            "\n",
            "See the caveats in the documentation: https://pandas.pydata.org/pandas-docs/stable/user_guide/indexing.html#returning-a-view-versus-a-copy\n",
            "  Us['EB'][i+Us.index[0]]= 0\n",
            "<ipython-input-63-7cac5e171799>:35: SettingWithCopyWarning: \n",
            "A value is trying to be set on a copy of a slice from a DataFrame\n",
            "\n",
            "See the caveats in the documentation: https://pandas.pydata.org/pandas-docs/stable/user_guide/indexing.html#returning-a-view-versus-a-copy\n",
            "  Us['CQI'][i+Us.index[0]]=0\n",
            "<ipython-input-63-7cac5e171799>:36: SettingWithCopyWarning: \n",
            "A value is trying to be set on a copy of a slice from a DataFrame\n",
            "\n",
            "See the caveats in the documentation: https://pandas.pydata.org/pandas-docs/stable/user_guide/indexing.html#returning-a-view-versus-a-copy\n",
            "  Us['SINR'][i+Us.index[0]]=0\n",
            "<ipython-input-63-7cac5e171799>:37: SettingWithCopyWarning: \n",
            "A value is trying to be set on a copy of a slice from a DataFrame\n",
            "\n",
            "See the caveats in the documentation: https://pandas.pydata.org/pandas-docs/stable/user_guide/indexing.html#returning-a-view-versus-a-copy\n",
            "  Us['C'][i+Us.index[0]]=False\n",
            "<ipython-input-63-7cac5e171799>:42: SettingWithCopyWarning: \n",
            "A value is trying to be set on a copy of a slice from a DataFrame\n",
            "\n",
            "See the caveats in the documentation: https://pandas.pydata.org/pandas-docs/stable/user_guide/indexing.html#returning-a-view-versus-a-copy\n",
            "  Us['DR'][i+Us.index[0]] =T*PR\n",
            "<ipython-input-63-7cac5e171799>:43: SettingWithCopyWarning: \n",
            "A value is trying to be set on a copy of a slice from a DataFrame\n",
            "\n",
            "See the caveats in the documentation: https://pandas.pydata.org/pandas-docs/stable/user_guide/indexing.html#returning-a-view-versus-a-copy\n",
            "  Us['PRB'][i+Us.index[0]] =PR\n",
            "<ipython-input-63-7cac5e171799>:44: SettingWithCopyWarning: \n",
            "A value is trying to be set on a copy of a slice from a DataFrame\n",
            "\n",
            "See the caveats in the documentation: https://pandas.pydata.org/pandas-docs/stable/user_guide/indexing.html#returning-a-view-versus-a-copy\n",
            "  Us['EB'][i+Us.index[0]]= IND + 1\n",
            "<ipython-input-63-7cac5e171799>:45: SettingWithCopyWarning: \n",
            "A value is trying to be set on a copy of a slice from a DataFrame\n",
            "\n",
            "See the caveats in the documentation: https://pandas.pydata.org/pandas-docs/stable/user_guide/indexing.html#returning-a-view-versus-a-copy\n",
            "  Us['ES'][i+Us.index[0]]= 1\n",
            "<ipython-input-63-7cac5e171799>:46: SettingWithCopyWarning: \n",
            "A value is trying to be set on a copy of a slice from a DataFrame\n",
            "\n",
            "See the caveats in the documentation: https://pandas.pydata.org/pandas-docs/stable/user_guide/indexing.html#returning-a-view-versus-a-copy\n",
            "  Us['CQI'][i+Us.index[0]]=CQI.loc[i,IND]\n",
            "<ipython-input-63-7cac5e171799>:47: SettingWithCopyWarning: \n",
            "A value is trying to be set on a copy of a slice from a DataFrame\n",
            "\n",
            "See the caveats in the documentation: https://pandas.pydata.org/pandas-docs/stable/user_guide/indexing.html#returning-a-view-versus-a-copy\n",
            "  Us['SINR'][i+Us.index[0]]=SINR.loc[i,IND]\n",
            "<ipython-input-63-7cac5e171799>:48: SettingWithCopyWarning: \n",
            "A value is trying to be set on a copy of a slice from a DataFrame\n",
            "\n",
            "See the caveats in the documentation: https://pandas.pydata.org/pandas-docs/stable/user_guide/indexing.html#returning-a-view-versus-a-copy\n",
            "  Us['C'][i+Us.index[0]]=True #usuario foi alocado naquela antena\n",
            "<ipython-input-63-7cac5e171799>:49: SettingWithCopyWarning: \n",
            "A value is trying to be set on a copy of a slice from a DataFrame\n",
            "\n",
            "See the caveats in the documentation: https://pandas.pydata.org/pandas-docs/stable/user_guide/indexing.html#returning-a-view-versus-a-copy\n",
            "  Small['PRB_F'][IND]=Small.loc[IND,'PRB_F']-PR #pega o prb da antena e diminui pela qnt de canais que o user usou\n",
            "<ipython-input-74-b94865a40029>:12: SettingWithCopyWarning: \n",
            "A value is trying to be set on a copy of a slice from a DataFrame\n",
            "\n",
            "See the caveats in the documentation: https://pandas.pydata.org/pandas-docs/stable/user_guide/indexing.html#returning-a-view-versus-a-copy\n",
            "  Us['DR'][index] =Us['DR'][index]*TOT_PR\n",
            "<ipython-input-74-b94865a40029>:13: SettingWithCopyWarning: \n",
            "A value is trying to be set on a copy of a slice from a DataFrame\n",
            "\n",
            "See the caveats in the documentation: https://pandas.pydata.org/pandas-docs/stable/user_guide/indexing.html#returning-a-view-versus-a-copy\n",
            "  Us['PRB'][index] = Us['PRB'][index] + TOT_PR\n",
            "<ipython-input-74-b94865a40029>:14: SettingWithCopyWarning: \n",
            "A value is trying to be set on a copy of a slice from a DataFrame\n",
            "\n",
            "See the caveats in the documentation: https://pandas.pydata.org/pandas-docs/stable/user_guide/indexing.html#returning-a-view-versus-a-copy\n",
            "  Small['PRB_F'][i]=Small.loc[i,'PRB_F']-TOT_PR\n",
            "<ipython-input-70-a5e07d73fc62>:16: RuntimeWarning: invalid value encountered in double_scalars\n",
            "  \"DataRateMean\": TotalDataRate/TotalUsers,\n"
          ]
        },
        {
          "output_type": "stream",
          "name": "stdout",
          "text": [
            "fatiaVazaoAgregada [4700.45061303039]\n",
            "antenasNecessariasParaSuprirUmMomento [{'id': 9.0, 'DrMean': 1089.1313632652411}, {'id': 12.0, 'DrMean': 736.2496554367117}, {'id': 17.0, 'DrMean': 2058.1260253384153}, {'id': 24.0, 'DrMean': 1767.3486175104808}]\n",
            "Momento Atual -------------------------------------------------------------------------------------------------- 21\n"
          ]
        },
        {
          "output_type": "display_data",
          "data": {
            "text/plain": [
              "<Figure size 432x288 with 1 Axes>"
            ],
            "image/png": "[encoded data removed]"
          },
          "metadata": {
            "needs_background": "light"
          }
        },
        {
          "output_type": "stream",
          "name": "stderr",
          "text": [
            "/usr/local/lib/python3.8/dist-packages/pandas/core/indexing.py:1732: SettingWithCopyWarning: \n",
            "A value is trying to be set on a copy of a slice from a DataFrame\n",
            "\n",
            "See the caveats in the documentation: https://pandas.pydata.org/pandas-docs/stable/user_guide/indexing.html#returning-a-view-versus-a-copy\n",
            "  self._setitem_single_block(indexer, value, name)\n",
            "/usr/local/lib/python3.8/dist-packages/pandas/core/series.py:1056: SettingWithCopyWarning: \n",
            "A value is trying to be set on a copy of a slice from a DataFrame\n",
            "\n",
            "See the caveats in the documentation: https://pandas.pydata.org/pandas-docs/stable/user_guide/indexing.html#returning-a-view-versus-a-copy\n",
            "  cacher_needs_updating = self._check_is_chained_assignment_possible()\n"
          ]
        },
        {
          "output_type": "stream",
          "name": "stdout",
          "text": [
            "FatiasVazao [[6760.539239035269], [13521.078478070538], [20281.617717105804], [27042.156956141076], [33802.696195176344]]\n",
            "vazaoAgregadaClusters [{'vazaoAgregada': 5886.893394151238, 'label': 6}, {'vazaoAgregada': 4665.790374394498, 'label': 3}, {'vazaoAgregada': 3317.7865771407487, 'label': 5}, {'vazaoAgregada': 3178.87534482632, 'label': 14}, {'vazaoAgregada': 2963.1113018415945, 'label': 12}, {'vazaoAgregada': 2798.158137578202, 'label': 1}, {'vazaoAgregada': 1804.6992216274248, 'label': 8}, {'vazaoAgregada': 1645.4700553648463, 'label': 4}, {'vazaoAgregada': 1444.1896868660879, 'label': 0}, {'vazaoAgregada': 1438.1528663112579, 'label': 17}, {'vazaoAgregada': 1367.8499908743763, 'label': 9}, {'vazaoAgregada': 1158.3330757003669, 'label': 11}, {'vazaoAgregada': 713.8840305132599, 'label': 13}, {'vazaoAgregada': 520.6006441478916, 'label': 15}, {'vazaoAgregada': 457.4839846612282, 'label': 7}, {'vazaoAgregada': 441.41750917699596, 'label': 10}, {'vazaoAgregada': 0.0, 'label': 2}, {'vazaoAgregada': 0.0, 'label': 16}]\n",
            "clustersUsados [{'vazaoAgregada': 5886.893394151238, 'label': 6}, {'vazaoAgregada': 4665.790374394498, 'label': 3}]\n",
            "clustersFinais [    MicroID  UsersConnected  TotalDataRate  DataRateMean  Moment  Label\n",
            "12     13.0             1.0    5886.893394   5886.893394    20.0      6,     MicroID  UsersConnected  TotalDataRate  DataRateMean  Moment  Label\n",
            "19     20.0             1.0    4665.790374   4665.790374    20.0      3]\n",
            "antenasLigadas [{'id': 13.0, 'DrMean': 5886.893394151238}, {'id': 20.0, 'DrMean': 4665.790374394498}]\n"
          ]
        },
        {
          "output_type": "stream",
          "name": "stderr",
          "text": [
            "WARNING:matplotlib.legend:No handles with labels found to put in legend.\n"
          ]
        },
        {
          "output_type": "stream",
          "name": "stdout",
          "text": [
            "sse [179022018.0072953, 36725859.7680049, 23848234.59768502, 14893992.984962776, 8122354.106798306, 4759931.691687217, 3089018.2842847845, 1597896.6994257558, 745776.0747127472]\n"
          ]
        },
        {
          "output_type": "display_data",
          "data": {
            "text/plain": [
              "<Figure size 432x288 with 1 Axes>"
            ],
            "image/png": "[encoded data removed]"
          },
          "metadata": {
            "needs_background": "light"
          }
        },
        {
          "output_type": "stream",
          "name": "stderr",
          "text": [
            "<ipython-input-63-7cac5e171799>:32: SettingWithCopyWarning: \n",
            "A value is trying to be set on a copy of a slice from a DataFrame\n",
            "\n",
            "See the caveats in the documentation: https://pandas.pydata.org/pandas-docs/stable/user_guide/indexing.html#returning-a-view-versus-a-copy\n",
            "  Us['DR'][i+Us.index[0]] =0\n",
            "<ipython-input-63-7cac5e171799>:33: SettingWithCopyWarning: \n",
            "A value is trying to be set on a copy of a slice from a DataFrame\n",
            "\n",
            "See the caveats in the documentation: https://pandas.pydata.org/pandas-docs/stable/user_guide/indexing.html#returning-a-view-versus-a-copy\n",
            "  Us['PRB'][i+Us.index[0]] =0\n",
            "<ipython-input-63-7cac5e171799>:34: SettingWithCopyWarning: \n",
            "A value is trying to be set on a copy of a slice from a DataFrame\n",
            "\n",
            "See the caveats in the documentation: https://pandas.pydata.org/pandas-docs/stable/user_guide/indexing.html#returning-a-view-versus-a-copy\n",
            "  Us['EB'][i+Us.index[0]]= 0\n",
            "<ipython-input-63-7cac5e171799>:35: SettingWithCopyWarning: \n",
            "A value is trying to be set on a copy of a slice from a DataFrame\n",
            "\n",
            "See the caveats in the documentation: https://pandas.pydata.org/pandas-docs/stable/user_guide/indexing.html#returning-a-view-versus-a-copy\n",
            "  Us['CQI'][i+Us.index[0]]=0\n",
            "<ipython-input-63-7cac5e171799>:36: SettingWithCopyWarning: \n",
            "A value is trying to be set on a copy of a slice from a DataFrame\n",
            "\n",
            "See the caveats in the documentation: https://pandas.pydata.org/pandas-docs/stable/user_guide/indexing.html#returning-a-view-versus-a-copy\n",
            "  Us['SINR'][i+Us.index[0]]=0\n",
            "<ipython-input-63-7cac5e171799>:37: SettingWithCopyWarning: \n",
            "A value is trying to be set on a copy of a slice from a DataFrame\n",
            "\n",
            "See the caveats in the documentation: https://pandas.pydata.org/pandas-docs/stable/user_guide/indexing.html#returning-a-view-versus-a-copy\n",
            "  Us['C'][i+Us.index[0]]=False\n",
            "<ipython-input-63-7cac5e171799>:42: SettingWithCopyWarning: \n",
            "A value is trying to be set on a copy of a slice from a DataFrame\n",
            "\n",
            "See the caveats in the documentation: https://pandas.pydata.org/pandas-docs/stable/user_guide/indexing.html#returning-a-view-versus-a-copy\n",
            "  Us['DR'][i+Us.index[0]] =T*PR\n",
            "<ipython-input-63-7cac5e171799>:43: SettingWithCopyWarning: \n",
            "A value is trying to be set on a copy of a slice from a DataFrame\n",
            "\n",
            "See the caveats in the documentation: https://pandas.pydata.org/pandas-docs/stable/user_guide/indexing.html#returning-a-view-versus-a-copy\n",
            "  Us['PRB'][i+Us.index[0]] =PR\n",
            "<ipython-input-63-7cac5e171799>:44: SettingWithCopyWarning: \n",
            "A value is trying to be set on a copy of a slice from a DataFrame\n",
            "\n",
            "See the caveats in the documentation: https://pandas.pydata.org/pandas-docs/stable/user_guide/indexing.html#returning-a-view-versus-a-copy\n",
            "  Us['EB'][i+Us.index[0]]= IND + 1\n",
            "<ipython-input-63-7cac5e171799>:45: SettingWithCopyWarning: \n",
            "A value is trying to be set on a copy of a slice from a DataFrame\n",
            "\n",
            "See the caveats in the documentation: https://pandas.pydata.org/pandas-docs/stable/user_guide/indexing.html#returning-a-view-versus-a-copy\n",
            "  Us['ES'][i+Us.index[0]]= 1\n",
            "<ipython-input-63-7cac5e171799>:46: SettingWithCopyWarning: \n",
            "A value is trying to be set on a copy of a slice from a DataFrame\n",
            "\n",
            "See the caveats in the documentation: https://pandas.pydata.org/pandas-docs/stable/user_guide/indexing.html#returning-a-view-versus-a-copy\n",
            "  Us['CQI'][i+Us.index[0]]=CQI.loc[i,IND]\n",
            "<ipython-input-63-7cac5e171799>:47: SettingWithCopyWarning: \n",
            "A value is trying to be set on a copy of a slice from a DataFrame\n",
            "\n",
            "See the caveats in the documentation: https://pandas.pydata.org/pandas-docs/stable/user_guide/indexing.html#returning-a-view-versus-a-copy\n",
            "  Us['SINR'][i+Us.index[0]]=SINR.loc[i,IND]\n",
            "<ipython-input-63-7cac5e171799>:48: SettingWithCopyWarning: \n",
            "A value is trying to be set on a copy of a slice from a DataFrame\n",
            "\n",
            "See the caveats in the documentation: https://pandas.pydata.org/pandas-docs/stable/user_guide/indexing.html#returning-a-view-versus-a-copy\n",
            "  Us['C'][i+Us.index[0]]=True #usuario foi alocado naquela antena\n",
            "<ipython-input-63-7cac5e171799>:49: SettingWithCopyWarning: \n",
            "A value is trying to be set on a copy of a slice from a DataFrame\n",
            "\n",
            "See the caveats in the documentation: https://pandas.pydata.org/pandas-docs/stable/user_guide/indexing.html#returning-a-view-versus-a-copy\n",
            "  Small['PRB_F'][IND]=Small.loc[IND,'PRB_F']-PR #pega o prb da antena e diminui pela qnt de canais que o user usou\n",
            "<ipython-input-74-b94865a40029>:12: SettingWithCopyWarning: \n",
            "A value is trying to be set on a copy of a slice from a DataFrame\n",
            "\n",
            "See the caveats in the documentation: https://pandas.pydata.org/pandas-docs/stable/user_guide/indexing.html#returning-a-view-versus-a-copy\n",
            "  Us['DR'][index] =Us['DR'][index]*TOT_PR\n",
            "<ipython-input-74-b94865a40029>:13: SettingWithCopyWarning: \n",
            "A value is trying to be set on a copy of a slice from a DataFrame\n",
            "\n",
            "See the caveats in the documentation: https://pandas.pydata.org/pandas-docs/stable/user_guide/indexing.html#returning-a-view-versus-a-copy\n",
            "  Us['PRB'][index] = Us['PRB'][index] + TOT_PR\n",
            "<ipython-input-74-b94865a40029>:14: SettingWithCopyWarning: \n",
            "A value is trying to be set on a copy of a slice from a DataFrame\n",
            "\n",
            "See the caveats in the documentation: https://pandas.pydata.org/pandas-docs/stable/user_guide/indexing.html#returning-a-view-versus-a-copy\n",
            "  Small['PRB_F'][i]=Small.loc[i,'PRB_F']-TOT_PR\n",
            "<ipython-input-70-a5e07d73fc62>:16: RuntimeWarning: invalid value encountered in double_scalars\n",
            "  \"DataRateMean\": TotalDataRate/TotalUsers,\n"
          ]
        },
        {
          "output_type": "stream",
          "name": "stdout",
          "text": [
            "fatiaVazaoAgregada [6760.539239035269]\n",
            "antenasNecessariasParaSuprirUmMomento [{'id': 17.0, 'DrMean': 1804.6992216274248}, {'id': 25.0, 'DrMean': 1367.8499908743763}, {'id': 8.0, 'DrMean': 1645.4700553648463}, {'id': 12.0, 'DrMean': 2963.1113018415945}]\n",
            "Momento Atual -------------------------------------------------------------------------------------------------- 22\n"
          ]
        },
        {
          "output_type": "display_data",
          "data": {
            "text/plain": [
              "<Figure size 432x288 with 1 Axes>"
            ],
            "image/png": "[encoded data removed]"
          },
          "metadata": {
            "needs_background": "light"
          }
        },
        {
          "output_type": "stream",
          "name": "stderr",
          "text": [
            "/usr/local/lib/python3.8/dist-packages/pandas/core/indexing.py:1732: SettingWithCopyWarning: \n",
            "A value is trying to be set on a copy of a slice from a DataFrame\n",
            "\n",
            "See the caveats in the documentation: https://pandas.pydata.org/pandas-docs/stable/user_guide/indexing.html#returning-a-view-versus-a-copy\n",
            "  self._setitem_single_block(indexer, value, name)\n",
            "/usr/local/lib/python3.8/dist-packages/pandas/core/series.py:1056: SettingWithCopyWarning: \n",
            "A value is trying to be set on a copy of a slice from a DataFrame\n",
            "\n",
            "See the caveats in the documentation: https://pandas.pydata.org/pandas-docs/stable/user_guide/indexing.html#returning-a-view-versus-a-copy\n",
            "  cacher_needs_updating = self._check_is_chained_assignment_possible()\n"
          ]
        },
        {
          "output_type": "stream",
          "name": "stdout",
          "text": [
            "FatiasVazao [[5936.884621673895], [11873.76924334779], [17810.653865021683], [23747.53848669558], [29684.423108369472]]\n",
            "vazaoAgregadaClusters [{'vazaoAgregada': 4326.000796629182, 'label': 6}, {'vazaoAgregada': 3274.7194322609976, 'label': 3}, {'vazaoAgregada': 3127.5189456908665, 'label': 13}, {'vazaoAgregada': 2679.10335689374, 'label': 4}, {'vazaoAgregada': 1858.1859332908807, 'label': 1}, {'vazaoAgregada': 1707.0625474528592, 'label': 10}, {'vazaoAgregada': 1700.6208100754911, 'label': 14}, {'vazaoAgregada': 1604.8373436764332, 'label': 2}, {'vazaoAgregada': 1551.8160979667389, 'label': 8}, {'vazaoAgregada': 1517.6455975795723, 'label': 16}, {'vazaoAgregada': 1500.1769789176099, 'label': 7}, {'vazaoAgregada': 1236.6821195882362, 'label': 12}, {'vazaoAgregada': 1044.6374261500353, 'label': 9}, {'vazaoAgregada': 805.8880984959536, 'label': 17}, {'vazaoAgregada': 694.8911852404195, 'label': 5}, {'vazaoAgregada': 590.8605637054754, 'label': 15}, {'vazaoAgregada': 463.7758747549785, 'label': 11}, {'vazaoAgregada': 0.0, 'label': 0}]\n",
            "clustersUsados [{'vazaoAgregada': 4326.000796629182, 'label': 6}, {'vazaoAgregada': 3274.7194322609976, 'label': 3}]\n",
            "clustersFinais [    MicroID  UsersConnected  TotalDataRate  DataRateMean  Moment  Label\n",
            "12     13.0             1.0    4326.000797   4326.000797    21.0      6,    MicroID  UsersConnected  TotalDataRate  DataRateMean  Moment  Label\n",
            "6      7.0             1.0    3274.719432   3274.719432    21.0      3]\n",
            "antenasLigadas [{'id': 13.0, 'DrMean': 4326.000796629182}, {'id': 7.0, 'DrMean': 3274.7194322609976}]\n"
          ]
        },
        {
          "output_type": "stream",
          "name": "stderr",
          "text": [
            "WARNING:matplotlib.legend:No handles with labels found to put in legend.\n"
          ]
        },
        {
          "output_type": "stream",
          "name": "stdout",
          "text": [
            "sse [136709762.19313377, 38632005.150626525, 24304812.3173605, 14813257.906604107, 8370108.092279595, 4626792.649647845, 2831793.92557821, 1174240.2350972327, 704902.8551145236]\n"
          ]
        },
        {
          "output_type": "display_data",
          "data": {
            "text/plain": [
              "<Figure size 432x288 with 1 Axes>"
            ],
            "image/png": "[encoded data removed]"
          },
          "metadata": {
            "needs_background": "light"
          }
        },
        {
          "output_type": "stream",
          "name": "stderr",
          "text": [
            "<ipython-input-63-7cac5e171799>:32: SettingWithCopyWarning: \n",
            "A value is trying to be set on a copy of a slice from a DataFrame\n",
            "\n",
            "See the caveats in the documentation: https://pandas.pydata.org/pandas-docs/stable/user_guide/indexing.html#returning-a-view-versus-a-copy\n",
            "  Us['DR'][i+Us.index[0]] =0\n",
            "<ipython-input-63-7cac5e171799>:33: SettingWithCopyWarning: \n",
            "A value is trying to be set on a copy of a slice from a DataFrame\n",
            "\n",
            "See the caveats in the documentation: https://pandas.pydata.org/pandas-docs/stable/user_guide/indexing.html#returning-a-view-versus-a-copy\n",
            "  Us['PRB'][i+Us.index[0]] =0\n",
            "<ipython-input-63-7cac5e171799>:34: SettingWithCopyWarning: \n",
            "A value is trying to be set on a copy of a slice from a DataFrame\n",
            "\n",
            "See the caveats in the documentation: https://pandas.pydata.org/pandas-docs/stable/user_guide/indexing.html#returning-a-view-versus-a-copy\n",
            "  Us['EB'][i+Us.index[0]]= 0\n",
            "<ipython-input-63-7cac5e171799>:35: SettingWithCopyWarning: \n",
            "A value is trying to be set on a copy of a slice from a DataFrame\n",
            "\n",
            "See the caveats in the documentation: https://pandas.pydata.org/pandas-docs/stable/user_guide/indexing.html#returning-a-view-versus-a-copy\n",
            "  Us['CQI'][i+Us.index[0]]=0\n",
            "<ipython-input-63-7cac5e171799>:36: SettingWithCopyWarning: \n",
            "A value is trying to be set on a copy of a slice from a DataFrame\n",
            "\n",
            "See the caveats in the documentation: https://pandas.pydata.org/pandas-docs/stable/user_guide/indexing.html#returning-a-view-versus-a-copy\n",
            "  Us['SINR'][i+Us.index[0]]=0\n",
            "<ipython-input-63-7cac5e171799>:37: SettingWithCopyWarning: \n",
            "A value is trying to be set on a copy of a slice from a DataFrame\n",
            "\n",
            "See the caveats in the documentation: https://pandas.pydata.org/pandas-docs/stable/user_guide/indexing.html#returning-a-view-versus-a-copy\n",
            "  Us['C'][i+Us.index[0]]=False\n",
            "<ipython-input-63-7cac5e171799>:42: SettingWithCopyWarning: \n",
            "A value is trying to be set on a copy of a slice from a DataFrame\n",
            "\n",
            "See the caveats in the documentation: https://pandas.pydata.org/pandas-docs/stable/user_guide/indexing.html#returning-a-view-versus-a-copy\n",
            "  Us['DR'][i+Us.index[0]] =T*PR\n",
            "<ipython-input-63-7cac5e171799>:43: SettingWithCopyWarning: \n",
            "A value is trying to be set on a copy of a slice from a DataFrame\n",
            "\n",
            "See the caveats in the documentation: https://pandas.pydata.org/pandas-docs/stable/user_guide/indexing.html#returning-a-view-versus-a-copy\n",
            "  Us['PRB'][i+Us.index[0]] =PR\n",
            "<ipython-input-63-7cac5e171799>:44: SettingWithCopyWarning: \n",
            "A value is trying to be set on a copy of a slice from a DataFrame\n",
            "\n",
            "See the caveats in the documentation: https://pandas.pydata.org/pandas-docs/stable/user_guide/indexing.html#returning-a-view-versus-a-copy\n",
            "  Us['EB'][i+Us.index[0]]= IND + 1\n",
            "<ipython-input-63-7cac5e171799>:45: SettingWithCopyWarning: \n",
            "A value is trying to be set on a copy of a slice from a DataFrame\n",
            "\n",
            "See the caveats in the documentation: https://pandas.pydata.org/pandas-docs/stable/user_guide/indexing.html#returning-a-view-versus-a-copy\n",
            "  Us['ES'][i+Us.index[0]]= 1\n",
            "<ipython-input-63-7cac5e171799>:46: SettingWithCopyWarning: \n",
            "A value is trying to be set on a copy of a slice from a DataFrame\n",
            "\n",
            "See the caveats in the documentation: https://pandas.pydata.org/pandas-docs/stable/user_guide/indexing.html#returning-a-view-versus-a-copy\n",
            "  Us['CQI'][i+Us.index[0]]=CQI.loc[i,IND]\n",
            "<ipython-input-63-7cac5e171799>:47: SettingWithCopyWarning: \n",
            "A value is trying to be set on a copy of a slice from a DataFrame\n",
            "\n",
            "See the caveats in the documentation: https://pandas.pydata.org/pandas-docs/stable/user_guide/indexing.html#returning-a-view-versus-a-copy\n",
            "  Us['SINR'][i+Us.index[0]]=SINR.loc[i,IND]\n",
            "<ipython-input-63-7cac5e171799>:48: SettingWithCopyWarning: \n",
            "A value is trying to be set on a copy of a slice from a DataFrame\n",
            "\n",
            "See the caveats in the documentation: https://pandas.pydata.org/pandas-docs/stable/user_guide/indexing.html#returning-a-view-versus-a-copy\n",
            "  Us['C'][i+Us.index[0]]=True #usuario foi alocado naquela antena\n",
            "<ipython-input-63-7cac5e171799>:49: SettingWithCopyWarning: \n",
            "A value is trying to be set on a copy of a slice from a DataFrame\n",
            "\n",
            "See the caveats in the documentation: https://pandas.pydata.org/pandas-docs/stable/user_guide/indexing.html#returning-a-view-versus-a-copy\n",
            "  Small['PRB_F'][IND]=Small.loc[IND,'PRB_F']-PR #pega o prb da antena e diminui pela qnt de canais que o user usou\n",
            "<ipython-input-74-b94865a40029>:12: SettingWithCopyWarning: \n",
            "A value is trying to be set on a copy of a slice from a DataFrame\n",
            "\n",
            "See the caveats in the documentation: https://pandas.pydata.org/pandas-docs/stable/user_guide/indexing.html#returning-a-view-versus-a-copy\n",
            "  Us['DR'][index] =Us['DR'][index]*TOT_PR\n",
            "<ipython-input-74-b94865a40029>:13: SettingWithCopyWarning: \n",
            "A value is trying to be set on a copy of a slice from a DataFrame\n",
            "\n",
            "See the caveats in the documentation: https://pandas.pydata.org/pandas-docs/stable/user_guide/indexing.html#returning-a-view-versus-a-copy\n",
            "  Us['PRB'][index] = Us['PRB'][index] + TOT_PR\n",
            "<ipython-input-74-b94865a40029>:14: SettingWithCopyWarning: \n",
            "A value is trying to be set on a copy of a slice from a DataFrame\n",
            "\n",
            "See the caveats in the documentation: https://pandas.pydata.org/pandas-docs/stable/user_guide/indexing.html#returning-a-view-versus-a-copy\n",
            "  Small['PRB_F'][i]=Small.loc[i,'PRB_F']-TOT_PR\n",
            "<ipython-input-70-a5e07d73fc62>:16: RuntimeWarning: invalid value encountered in double_scalars\n",
            "  \"DataRateMean\": TotalDataRate/TotalUsers,\n"
          ]
        },
        {
          "output_type": "stream",
          "name": "stdout",
          "text": [
            "fatiaVazaoAgregada [5936.884621673895]\n",
            "antenasNecessariasParaSuprirUmMomento [{'id': 14.0, 'DrMean': 1551.8160979667389}, {'id': 15.0, 'DrMean': 1858.1859332908807}, {'id': 19.0, 'DrMean': 2679.10335689374}]\n",
            "Momento Atual -------------------------------------------------------------------------------------------------- 23\n"
          ]
        },
        {
          "output_type": "display_data",
          "data": {
            "text/plain": [
              "<Figure size 432x288 with 1 Axes>"
            ],
            "image/png": "[encoded data removed]"
          },
          "metadata": {
            "needs_background": "light"
          }
        },
        {
          "output_type": "stream",
          "name": "stderr",
          "text": [
            "/usr/local/lib/python3.8/dist-packages/pandas/core/indexing.py:1732: SettingWithCopyWarning: \n",
            "A value is trying to be set on a copy of a slice from a DataFrame\n",
            "\n",
            "See the caveats in the documentation: https://pandas.pydata.org/pandas-docs/stable/user_guide/indexing.html#returning-a-view-versus-a-copy\n",
            "  self._setitem_single_block(indexer, value, name)\n",
            "/usr/local/lib/python3.8/dist-packages/pandas/core/series.py:1056: SettingWithCopyWarning: \n",
            "A value is trying to be set on a copy of a slice from a DataFrame\n",
            "\n",
            "See the caveats in the documentation: https://pandas.pydata.org/pandas-docs/stable/user_guide/indexing.html#returning-a-view-versus-a-copy\n",
            "  cacher_needs_updating = self._check_is_chained_assignment_possible()\n"
          ]
        },
        {
          "output_type": "stream",
          "name": "stdout",
          "text": [
            "FatiasVazao [[5703.626278325488], [11407.252556650976], [17110.87883497646], [22814.50511330195], [28518.131391627438]]\n",
            "vazaoAgregadaClusters [{'vazaoAgregada': 3789.499141866286, 'label': 4}, {'vazaoAgregada': 3437.623028456784, 'label': 2}, {'vazaoAgregada': 3096.468820160246, 'label': 11}, {'vazaoAgregada': 2719.3562221836078, 'label': 7}, {'vazaoAgregada': 2662.392778295988, 'label': 8}, {'vazaoAgregada': 2222.202477972852, 'label': 10}, {'vazaoAgregada': 1793.1445772347652, 'label': 5}, {'vazaoAgregada': 1256.003226886483, 'label': 12}, {'vazaoAgregada': 1128.1613460494025, 'label': 16}, {'vazaoAgregada': 1128.0520418024576, 'label': 3}, {'vazaoAgregada': 1042.679586096277, 'label': 14}, {'vazaoAgregada': 1004.9339778813656, 'label': 9}, {'vazaoAgregada': 989.8687578800684, 'label': 0}, {'vazaoAgregada': 787.132337494595, 'label': 13}, {'vazaoAgregada': 557.1661136681071, 'label': 1}, {'vazaoAgregada': 468.6076984182339, 'label': 17}, {'vazaoAgregada': 434.83925927991794, 'label': 15}, {'vazaoAgregada': 0.0, 'label': 6}]\n",
            "clustersUsados [{'vazaoAgregada': 3789.499141866286, 'label': 4}, {'vazaoAgregada': 3437.623028456784, 'label': 2}]\n",
            "clustersFinais [    MicroID  UsersConnected  TotalDataRate  DataRateMean  Moment  Label\n",
            "18     19.0             2.0    7578.998284   3789.499142    22.0      4,     MicroID  UsersConnected  TotalDataRate  DataRateMean  Moment  Label\n",
            "10     11.0             4.0   13750.492114   3437.623028    22.0      2]\n",
            "antenasLigadas [{'id': 19.0, 'DrMean': 3789.499141866286}, {'id': 11.0, 'DrMean': 3437.623028456784}]\n"
          ]
        },
        {
          "output_type": "stream",
          "name": "stderr",
          "text": [
            "WARNING:matplotlib.legend:No handles with labels found to put in legend.\n"
          ]
        },
        {
          "output_type": "stream",
          "name": "stdout",
          "text": [
            "sse [279086978.2552433, 106216990.10968223, 38548510.32027122, 19863677.45458054, 11772694.21702687, 6329043.05242819, 4482984.26537583, 3178486.2133264923, 1972546.8025954305]\n"
          ]
        },
        {
          "output_type": "display_data",
          "data": {
            "text/plain": [
              "<Figure size 432x288 with 1 Axes>"
            ],
            "image/png": "[encoded data removed]"
          },
          "metadata": {
            "needs_background": "light"
          }
        },
        {
          "output_type": "stream",
          "name": "stderr",
          "text": [
            "<ipython-input-63-7cac5e171799>:42: SettingWithCopyWarning: \n",
            "A value is trying to be set on a copy of a slice from a DataFrame\n",
            "\n",
            "See the caveats in the documentation: https://pandas.pydata.org/pandas-docs/stable/user_guide/indexing.html#returning-a-view-versus-a-copy\n",
            "  Us['DR'][i+Us.index[0]] =T*PR\n",
            "<ipython-input-63-7cac5e171799>:43: SettingWithCopyWarning: \n",
            "A value is trying to be set on a copy of a slice from a DataFrame\n",
            "\n",
            "See the caveats in the documentation: https://pandas.pydata.org/pandas-docs/stable/user_guide/indexing.html#returning-a-view-versus-a-copy\n",
            "  Us['PRB'][i+Us.index[0]] =PR\n",
            "<ipython-input-63-7cac5e171799>:44: SettingWithCopyWarning: \n",
            "A value is trying to be set on a copy of a slice from a DataFrame\n",
            "\n",
            "See the caveats in the documentation: https://pandas.pydata.org/pandas-docs/stable/user_guide/indexing.html#returning-a-view-versus-a-copy\n",
            "  Us['EB'][i+Us.index[0]]= IND + 1\n",
            "<ipython-input-63-7cac5e171799>:45: SettingWithCopyWarning: \n",
            "A value is trying to be set on a copy of a slice from a DataFrame\n",
            "\n",
            "See the caveats in the documentation: https://pandas.pydata.org/pandas-docs/stable/user_guide/indexing.html#returning-a-view-versus-a-copy\n",
            "  Us['ES'][i+Us.index[0]]= 1\n",
            "<ipython-input-63-7cac5e171799>:46: SettingWithCopyWarning: \n",
            "A value is trying to be set on a copy of a slice from a DataFrame\n",
            "\n",
            "See the caveats in the documentation: https://pandas.pydata.org/pandas-docs/stable/user_guide/indexing.html#returning-a-view-versus-a-copy\n",
            "  Us['CQI'][i+Us.index[0]]=CQI.loc[i,IND]\n",
            "<ipython-input-63-7cac5e171799>:47: SettingWithCopyWarning: \n",
            "A value is trying to be set on a copy of a slice from a DataFrame\n",
            "\n",
            "See the caveats in the documentation: https://pandas.pydata.org/pandas-docs/stable/user_guide/indexing.html#returning-a-view-versus-a-copy\n",
            "  Us['SINR'][i+Us.index[0]]=SINR.loc[i,IND]\n",
            "<ipython-input-63-7cac5e171799>:48: SettingWithCopyWarning: \n",
            "A value is trying to be set on a copy of a slice from a DataFrame\n",
            "\n",
            "See the caveats in the documentation: https://pandas.pydata.org/pandas-docs/stable/user_guide/indexing.html#returning-a-view-versus-a-copy\n",
            "  Us['C'][i+Us.index[0]]=True #usuario foi alocado naquela antena\n",
            "<ipython-input-63-7cac5e171799>:49: SettingWithCopyWarning: \n",
            "A value is trying to be set on a copy of a slice from a DataFrame\n",
            "\n",
            "See the caveats in the documentation: https://pandas.pydata.org/pandas-docs/stable/user_guide/indexing.html#returning-a-view-versus-a-copy\n",
            "  Small['PRB_F'][IND]=Small.loc[IND,'PRB_F']-PR #pega o prb da antena e diminui pela qnt de canais que o user usou\n",
            "<ipython-input-63-7cac5e171799>:32: SettingWithCopyWarning: \n",
            "A value is trying to be set on a copy of a slice from a DataFrame\n",
            "\n",
            "See the caveats in the documentation: https://pandas.pydata.org/pandas-docs/stable/user_guide/indexing.html#returning-a-view-versus-a-copy\n",
            "  Us['DR'][i+Us.index[0]] =0\n",
            "<ipython-input-63-7cac5e171799>:33: SettingWithCopyWarning: \n",
            "A value is trying to be set on a copy of a slice from a DataFrame\n",
            "\n",
            "See the caveats in the documentation: https://pandas.pydata.org/pandas-docs/stable/user_guide/indexing.html#returning-a-view-versus-a-copy\n",
            "  Us['PRB'][i+Us.index[0]] =0\n",
            "<ipython-input-63-7cac5e171799>:34: SettingWithCopyWarning: \n",
            "A value is trying to be set on a copy of a slice from a DataFrame\n",
            "\n",
            "See the caveats in the documentation: https://pandas.pydata.org/pandas-docs/stable/user_guide/indexing.html#returning-a-view-versus-a-copy\n",
            "  Us['EB'][i+Us.index[0]]= 0\n",
            "<ipython-input-63-7cac5e171799>:35: SettingWithCopyWarning: \n",
            "A value is trying to be set on a copy of a slice from a DataFrame\n",
            "\n",
            "See the caveats in the documentation: https://pandas.pydata.org/pandas-docs/stable/user_guide/indexing.html#returning-a-view-versus-a-copy\n",
            "  Us['CQI'][i+Us.index[0]]=0\n",
            "<ipython-input-63-7cac5e171799>:36: SettingWithCopyWarning: \n",
            "A value is trying to be set on a copy of a slice from a DataFrame\n",
            "\n",
            "See the caveats in the documentation: https://pandas.pydata.org/pandas-docs/stable/user_guide/indexing.html#returning-a-view-versus-a-copy\n",
            "  Us['SINR'][i+Us.index[0]]=0\n",
            "<ipython-input-63-7cac5e171799>:37: SettingWithCopyWarning: \n",
            "A value is trying to be set on a copy of a slice from a DataFrame\n",
            "\n",
            "See the caveats in the documentation: https://pandas.pydata.org/pandas-docs/stable/user_guide/indexing.html#returning-a-view-versus-a-copy\n",
            "  Us['C'][i+Us.index[0]]=False\n",
            "<ipython-input-74-b94865a40029>:12: SettingWithCopyWarning: \n",
            "A value is trying to be set on a copy of a slice from a DataFrame\n",
            "\n",
            "See the caveats in the documentation: https://pandas.pydata.org/pandas-docs/stable/user_guide/indexing.html#returning-a-view-versus-a-copy\n",
            "  Us['DR'][index] =Us['DR'][index]*TOT_PR\n",
            "<ipython-input-74-b94865a40029>:13: SettingWithCopyWarning: \n",
            "A value is trying to be set on a copy of a slice from a DataFrame\n",
            "\n",
            "See the caveats in the documentation: https://pandas.pydata.org/pandas-docs/stable/user_guide/indexing.html#returning-a-view-versus-a-copy\n",
            "  Us['PRB'][index] = Us['PRB'][index] + TOT_PR\n",
            "<ipython-input-74-b94865a40029>:14: SettingWithCopyWarning: \n",
            "A value is trying to be set on a copy of a slice from a DataFrame\n",
            "\n",
            "See the caveats in the documentation: https://pandas.pydata.org/pandas-docs/stable/user_guide/indexing.html#returning-a-view-versus-a-copy\n",
            "  Small['PRB_F'][i]=Small.loc[i,'PRB_F']-TOT_PR\n",
            "<ipython-input-70-a5e07d73fc62>:16: RuntimeWarning: invalid value encountered in double_scalars\n",
            "  \"DataRateMean\": TotalDataRate/TotalUsers,\n"
          ]
        },
        {
          "output_type": "stream",
          "name": "stdout",
          "text": [
            "fatiaVazaoAgregada [5703.626278325488]\n",
            "antenasNecessariasParaSuprirUmMomento [{'id': 13.0, 'DrMean': 1042.679586096277}, {'id': 17.0, 'DrMean': 989.8687578800684}, {'id': 11.0, 'DrMean': 3437.623028456784}, {'id': 4.0, 'DrMean': 2662.392778295988}]\n",
            "Momento Atual -------------------------------------------------------------------------------------------------- 24\n"
          ]
        },
        {
          "output_type": "display_data",
          "data": {
            "text/plain": [
              "<Figure size 432x288 with 1 Axes>"
            ],
            "image/png": "[encoded data removed]"
          },
          "metadata": {
            "needs_background": "light"
          }
        },
        {
          "output_type": "stream",
          "name": "stderr",
          "text": [
            "/usr/local/lib/python3.8/dist-packages/pandas/core/indexing.py:1732: SettingWithCopyWarning: \n",
            "A value is trying to be set on a copy of a slice from a DataFrame\n",
            "\n",
            "See the caveats in the documentation: https://pandas.pydata.org/pandas-docs/stable/user_guide/indexing.html#returning-a-view-versus-a-copy\n",
            "  self._setitem_single_block(indexer, value, name)\n",
            "/usr/local/lib/python3.8/dist-packages/pandas/core/series.py:1056: SettingWithCopyWarning: \n",
            "A value is trying to be set on a copy of a slice from a DataFrame\n",
            "\n",
            "See the caveats in the documentation: https://pandas.pydata.org/pandas-docs/stable/user_guide/indexing.html#returning-a-view-versus-a-copy\n",
            "  cacher_needs_updating = self._check_is_chained_assignment_possible()\n"
          ]
        },
        {
          "output_type": "stream",
          "name": "stdout",
          "text": [
            "FatiasVazao [[4591.187424769036], [9182.374849538071], [13773.562274307107], [18364.749699076143], [22955.93712384518]]\n",
            "vazaoAgregadaClusters [{'vazaoAgregada': 3141.61196276662, 'label': 9}, {'vazaoAgregada': 2915.8591994066073, 'label': 5}, {'vazaoAgregada': 2888.8395359496335, 'label': 3}, {'vazaoAgregada': 2093.12187016736, 'label': 0}, {'vazaoAgregada': 1914.3021220620462, 'label': 6}, {'vazaoAgregada': 1902.250321395127, 'label': 10}, {'vazaoAgregada': 1456.8644463165722, 'label': 11}, {'vazaoAgregada': 1178.7489343403897, 'label': 2}, {'vazaoAgregada': 1173.6327344617853, 'label': 14}, {'vazaoAgregada': 1051.035091355599, 'label': 4}, {'vazaoAgregada': 977.3238424811209, 'label': 13}, {'vazaoAgregada': 766.7867896098537, 'label': 12}, {'vazaoAgregada': 586.1429070593589, 'label': 8}, {'vazaoAgregada': 483.5909313971017, 'label': 1}, {'vazaoAgregada': 425.82643507599676, 'label': 15}, {'vazaoAgregada': 0.0, 'label': 7}, {'vazaoAgregada': 0.0, 'label': 16}, {'vazaoAgregada': 0.0, 'label': 17}]\n",
            "clustersUsados [{'vazaoAgregada': 3141.61196276662, 'label': 9}, {'vazaoAgregada': 2915.8591994066073, 'label': 5}]\n",
            "clustersFinais [   MicroID  UsersConnected  TotalDataRate  DataRateMean  Moment  Label\n",
            "6      7.0             2.0    6283.223926   3141.611963    23.0      9,     MicroID  UsersConnected  TotalDataRate  DataRateMean  Moment  Label\n",
            "21     22.0             1.0    2915.859199   2915.859199    23.0      5]\n",
            "antenasLigadas [{'id': 7.0, 'DrMean': 3141.61196276662}, {'id': 22.0, 'DrMean': 2915.8591994066073}]\n"
          ]
        },
        {
          "output_type": "stream",
          "name": "stderr",
          "text": [
            "WARNING:matplotlib.legend:No handles with labels found to put in legend.\n"
          ]
        },
        {
          "output_type": "stream",
          "name": "stdout",
          "text": [
            "sse [239436049.25931254, 68223720.80444285, 30308771.065955102, 12725581.346589018, 7807267.663426459, 5576833.428248489, 3985203.147814976, 2590510.179284236, 1845986.5693173222]\n"
          ]
        },
        {
          "output_type": "display_data",
          "data": {
            "text/plain": [
              "<Figure size 432x288 with 1 Axes>"
            ],
            "image/png": "[encoded data removed]"
          },
          "metadata": {
            "needs_background": "light"
          }
        },
        {
          "output_type": "stream",
          "name": "stderr",
          "text": [
            "<ipython-input-63-7cac5e171799>:32: SettingWithCopyWarning: \n",
            "A value is trying to be set on a copy of a slice from a DataFrame\n",
            "\n",
            "See the caveats in the documentation: https://pandas.pydata.org/pandas-docs/stable/user_guide/indexing.html#returning-a-view-versus-a-copy\n",
            "  Us['DR'][i+Us.index[0]] =0\n",
            "<ipython-input-63-7cac5e171799>:33: SettingWithCopyWarning: \n",
            "A value is trying to be set on a copy of a slice from a DataFrame\n",
            "\n",
            "See the caveats in the documentation: https://pandas.pydata.org/pandas-docs/stable/user_guide/indexing.html#returning-a-view-versus-a-copy\n",
            "  Us['PRB'][i+Us.index[0]] =0\n",
            "<ipython-input-63-7cac5e171799>:34: SettingWithCopyWarning: \n",
            "A value is trying to be set on a copy of a slice from a DataFrame\n",
            "\n",
            "See the caveats in the documentation: https://pandas.pydata.org/pandas-docs/stable/user_guide/indexing.html#returning-a-view-versus-a-copy\n",
            "  Us['EB'][i+Us.index[0]]= 0\n",
            "<ipython-input-63-7cac5e171799>:35: SettingWithCopyWarning: \n",
            "A value is trying to be set on a copy of a slice from a DataFrame\n",
            "\n",
            "See the caveats in the documentation: https://pandas.pydata.org/pandas-docs/stable/user_guide/indexing.html#returning-a-view-versus-a-copy\n",
            "  Us['CQI'][i+Us.index[0]]=0\n",
            "<ipython-input-63-7cac5e171799>:36: SettingWithCopyWarning: \n",
            "A value is trying to be set on a copy of a slice from a DataFrame\n",
            "\n",
            "See the caveats in the documentation: https://pandas.pydata.org/pandas-docs/stable/user_guide/indexing.html#returning-a-view-versus-a-copy\n",
            "  Us['SINR'][i+Us.index[0]]=0\n",
            "<ipython-input-63-7cac5e171799>:37: SettingWithCopyWarning: \n",
            "A value is trying to be set on a copy of a slice from a DataFrame\n",
            "\n",
            "See the caveats in the documentation: https://pandas.pydata.org/pandas-docs/stable/user_guide/indexing.html#returning-a-view-versus-a-copy\n",
            "  Us['C'][i+Us.index[0]]=False\n",
            "<ipython-input-63-7cac5e171799>:42: SettingWithCopyWarning: \n",
            "A value is trying to be set on a copy of a slice from a DataFrame\n",
            "\n",
            "See the caveats in the documentation: https://pandas.pydata.org/pandas-docs/stable/user_guide/indexing.html#returning-a-view-versus-a-copy\n",
            "  Us['DR'][i+Us.index[0]] =T*PR\n",
            "<ipython-input-63-7cac5e171799>:43: SettingWithCopyWarning: \n",
            "A value is trying to be set on a copy of a slice from a DataFrame\n",
            "\n",
            "See the caveats in the documentation: https://pandas.pydata.org/pandas-docs/stable/user_guide/indexing.html#returning-a-view-versus-a-copy\n",
            "  Us['PRB'][i+Us.index[0]] =PR\n",
            "<ipython-input-63-7cac5e171799>:44: SettingWithCopyWarning: \n",
            "A value is trying to be set on a copy of a slice from a DataFrame\n",
            "\n",
            "See the caveats in the documentation: https://pandas.pydata.org/pandas-docs/stable/user_guide/indexing.html#returning-a-view-versus-a-copy\n",
            "  Us['EB'][i+Us.index[0]]= IND + 1\n",
            "<ipython-input-63-7cac5e171799>:45: SettingWithCopyWarning: \n",
            "A value is trying to be set on a copy of a slice from a DataFrame\n",
            "\n",
            "See the caveats in the documentation: https://pandas.pydata.org/pandas-docs/stable/user_guide/indexing.html#returning-a-view-versus-a-copy\n",
            "  Us['ES'][i+Us.index[0]]= 1\n",
            "<ipython-input-63-7cac5e171799>:46: SettingWithCopyWarning: \n",
            "A value is trying to be set on a copy of a slice from a DataFrame\n",
            "\n",
            "See the caveats in the documentation: https://pandas.pydata.org/pandas-docs/stable/user_guide/indexing.html#returning-a-view-versus-a-copy\n",
            "  Us['CQI'][i+Us.index[0]]=CQI.loc[i,IND]\n",
            "<ipython-input-63-7cac5e171799>:47: SettingWithCopyWarning: \n",
            "A value is trying to be set on a copy of a slice from a DataFrame\n",
            "\n",
            "See the caveats in the documentation: https://pandas.pydata.org/pandas-docs/stable/user_guide/indexing.html#returning-a-view-versus-a-copy\n",
            "  Us['SINR'][i+Us.index[0]]=SINR.loc[i,IND]\n",
            "<ipython-input-63-7cac5e171799>:48: SettingWithCopyWarning: \n",
            "A value is trying to be set on a copy of a slice from a DataFrame\n",
            "\n",
            "See the caveats in the documentation: https://pandas.pydata.org/pandas-docs/stable/user_guide/indexing.html#returning-a-view-versus-a-copy\n",
            "  Us['C'][i+Us.index[0]]=True #usuario foi alocado naquela antena\n",
            "<ipython-input-63-7cac5e171799>:49: SettingWithCopyWarning: \n",
            "A value is trying to be set on a copy of a slice from a DataFrame\n",
            "\n",
            "See the caveats in the documentation: https://pandas.pydata.org/pandas-docs/stable/user_guide/indexing.html#returning-a-view-versus-a-copy\n",
            "  Small['PRB_F'][IND]=Small.loc[IND,'PRB_F']-PR #pega o prb da antena e diminui pela qnt de canais que o user usou\n",
            "<ipython-input-74-b94865a40029>:12: SettingWithCopyWarning: \n",
            "A value is trying to be set on a copy of a slice from a DataFrame\n",
            "\n",
            "See the caveats in the documentation: https://pandas.pydata.org/pandas-docs/stable/user_guide/indexing.html#returning-a-view-versus-a-copy\n",
            "  Us['DR'][index] =Us['DR'][index]*TOT_PR\n",
            "<ipython-input-74-b94865a40029>:13: SettingWithCopyWarning: \n",
            "A value is trying to be set on a copy of a slice from a DataFrame\n",
            "\n",
            "See the caveats in the documentation: https://pandas.pydata.org/pandas-docs/stable/user_guide/indexing.html#returning-a-view-versus-a-copy\n",
            "  Us['PRB'][index] = Us['PRB'][index] + TOT_PR\n",
            "<ipython-input-74-b94865a40029>:14: SettingWithCopyWarning: \n",
            "A value is trying to be set on a copy of a slice from a DataFrame\n",
            "\n",
            "See the caveats in the documentation: https://pandas.pydata.org/pandas-docs/stable/user_guide/indexing.html#returning-a-view-versus-a-copy\n",
            "  Small['PRB_F'][i]=Small.loc[i,'PRB_F']-TOT_PR\n",
            "<ipython-input-70-a5e07d73fc62>:16: RuntimeWarning: invalid value encountered in double_scalars\n",
            "  \"DataRateMean\": TotalDataRate/TotalUsers,\n"
          ]
        },
        {
          "output_type": "stream",
          "name": "stdout",
          "text": [
            "fatiaVazaoAgregada [4591.187424769036]\n",
            "antenasNecessariasParaSuprirUmMomento [{'id': 9.0, 'DrMean': 766.7867896098537}, {'id': 12.0, 'DrMean': 1914.3021220620462}, {'id': 19.0, 'DrMean': 2888.8395359496335}]\n"
          ]
        },
        {
          "output_type": "stream",
          "name": "stderr",
          "text": [
            "<ipython-input-76-174873822d03>:154: FutureWarning: Indexing with multiple keys (implicitly converted to a tuple of keys) will be deprecated, use a list instead.\n",
            "  MicroSortedByDR = FinalMicroSummary.groupby('MicroID')['DataRateMean','UsersConnected'].sum().sort_values(by='DataRateMean',ascending=False)\n",
            "<ipython-input-76-174873822d03>:158: FutureWarning: Indexing with multiple keys (implicitly converted to a tuple of keys) will be deprecated, use a list instead.\n",
            "  MicroSortedByUsersConnected = FinalMicroSummary.groupby('MicroID')['DataRateMean','UsersConnected'].sum().sort_values(by='UsersConnected',ascending=False)\n"
          ]
        }
      ],
      "source": [
        "##iniciar o cenario\n",
        "Us,Small,Macro,TU= StartScenario(50,5,1)\n",
        "##Dividindo o dataframe de users por momento\n",
        "momento = Us.groupby(Us.M)\n",
        "\n",
        "# Listas para concatenar os frames de todos os momentos\n",
        "#Primeira conexão\n",
        "ListOfUserDataFrame =[]\n",
        "ListOfSmallDataFrame =[]\n",
        "ListOfMacroDataFrame = []\n",
        "ListOfMicroSummary = []\n",
        "ListOfMacroSummary = []\n",
        "ListOfSaida=[]\n",
        "\n",
        "#Conexão após ordenação por vazão média\n",
        "ListOfUserDataFrameUserApproach =[]\n",
        "ListOfSmallDataFrameUserApproach =[]\n",
        "ListOfMacroDataFrameUserApproach = []\n",
        "ListOfMicroSummaryUserApproach = []\n",
        "ListOfMacroSummaryUserApproach = []\n",
        "ListOfSaidaUserApproach=[]\n",
        "\n",
        "#Conexão após clusterização pelo k-means\n",
        "ListOfUserDataFrameKMeansApproach =[]\n",
        "ListOfSmallDataFrameKMeansApproach =[]\n",
        "ListOfMacroDataFrameKMeansApproach = []\n",
        "ListOfMicroSummaryKMeansApproach = []\n",
        "ListOfMacroSummaryKMeansApproach = []\n",
        "ListOfSaidaKMeansApproach=[]\n",
        "\n",
        "\n",
        "smallsNosMomentos = []\n",
        "\n",
        "for moment in range(24):\n",
        " UserFrameInGivenMoment = momento.get_group(moment)\n",
        " print(\"Momento Atual --------------------------------------------------------------------------------------------------\", moment+1)\n",
        " #Plotando o cenário\n",
        " plt.scatter(UserFrameInGivenMoment['X'], UserFrameInGivenMoment['Y'], marker='o', c = 'blue', label='Usuário')\n",
        " plt.scatter(Small['X'], Small['Y'], marker='o', c = 'red', label='Small Cell')\n",
        " plt.scatter(Macro['X'], Macro['Y'], marker='o', c = 'purple', label='Macro Cell')\n",
        " plt.xlabel(\"Metros\")\n",
        " plt.ylabel(\"Metros\")\n",
        " plt.legend()\n",
        " plt.show()\n",
        "\n",
        " #Calculando\n",
        " SaidaSelect, UsuarioSelect, SmallSelect, MacroSelect = selectAntenna(25,UserFrameInGivenMoment,Small,Macro)\n",
        "\n",
        " #Adicionando os dataframes de todos os momentos em arrays\n",
        " ListOfSmallDataFrame.append(SmallSelect)\n",
        " ListOfSaida.append(SaidaSelect)\n",
        " ListOfUserDataFrame.append(UsuarioSelect)\n",
        " ListOfMacroDataFrame.append(MacroSelect)\n",
        "\n",
        " #Calculando os summaries\n",
        " MicroSummary,MacroSummary = CalcSummary(UsuarioSelect,SmallSelect,MacroSelect, moment)\n",
        "\n",
        " #Adicionando os dataframes de todos os momentos em arrays\n",
        " ListOfMacroSummary.append(MacroSummary)\n",
        " ListOfMicroSummary.append(MicroSummary)\n",
        "\n",
        "\n",
        " #Fatiando a vazão agregada do momento\n",
        " fatiasVazao = CalcFatiasVazao(MicroSummary)\n",
        "\n",
        "  #Fatiando em [0]: 20%, [1]: 40%, [2]: 60%,[3]: 80%,[4]: 100%\n",
        " fatiaAtual = fatiasVazao[0]\n",
        "\n",
        " #---------------------------------------------------KMEANS-------------------------------------------------------------------------------------------\n",
        "\n",
        "\n",
        " #Clusterização\n",
        " resultadoCluster = clusterizationAndExtraction(MicroSummary, fatiaAtual )\n",
        "\n",
        "\n",
        " #Desligar antenas que não são necessárias e reconectar\n",
        " SaidaKMeansApproachReconnect, UserKMeansApproachReconnect, SmallKMeansApproachReconnect, MacroKMeansApproachReconnect = turnOffAndReconnect(Small, resultadoCluster, UserFrameInGivenMoment, Macro)\n",
        "\n",
        " #Redistribuição de PRBS\n",
        " UsuarioRedis, SmallRedis = RedistribuiPRB(UserKMeansApproachReconnect,SmallKMeansApproachReconnect)\n",
        "\n",
        " #Calculando Summary Novamente\n",
        " MicroSummaryKMeansApproach,MacroSummaryKMeansApproach = CalcSummary(UserKMeansApproachReconnect,SmallKMeansApproachReconnect,MacroKMeansApproachReconnect, moment)\n",
        " #Adicionando os dataframes de todos os momentos em arrays APÓS RECONEXAO\n",
        " ListOfSaidaKMeansApproach.append(SaidaKMeansApproachReconnect)\n",
        " ListOfUserDataFrameKMeansApproach.append(UsuarioRedis)\n",
        " ListOfSmallDataFrameKMeansApproach.append(SmallRedis)\n",
        " ListOfMacroDataFrameKMeansApproach.append(MacroKMeansApproachReconnect)\n",
        " ListOfMacroSummaryKMeansApproach.append(MacroSummaryKMeansApproach)\n",
        " ListOfMicroSummaryKMeansApproach.append(MicroSummaryKMeansApproach)\n",
        "\n",
        "\n",
        " #-----------------------------------------------------------Ordenação por usuários ---------------------------------------------------------------------\n",
        "\n",
        " #Ordenando por DR\n",
        " moment0SmallsSortedByDr = SortByUsers(MicroSummary)\n",
        "\n",
        " #Calculando antenas necessarias\n",
        " result = CalcNecessaryAntennas(fatiaAtual, moment0SmallsSortedByDr )\n",
        "\n",
        " #Desligar antenas que não são necessárias e reconectar\n",
        " SaidaUserApproachReconnect, UserUserApproachReconnect, SmallUserApproachReconnect, MacroUserApproachReconnect = turnOffAndReconnect(Small, result, UserFrameInGivenMoment, Macro)\n",
        "\n",
        " #Redistribuição de PRBS\n",
        " UsuarioRedis, SmallRedis = RedistribuiPRB(UserUserApproachReconnect,SmallUserApproachReconnect)\n",
        "\n",
        " #Calculando Summary Novamente\n",
        " MicroSummaryUserApproach,MacroSummaryUserApproach = CalcSummary(UserUserApproachReconnect,SmallUserApproachReconnect,MacroUserApproachReconnect, moment)\n",
        " #Adicionando os dataframes de todos os momentos em arrays APÓS RECONEXAO\n",
        " ListOfSaidaUserApproach.append(SaidaUserApproachReconnect)\n",
        " ListOfUserDataFrameUserApproach.append(UsuarioRedis)\n",
        " ListOfSmallDataFrameUserApproach.append(SmallRedis)\n",
        " ListOfMacroDataFrameUserApproach.append(MacroUserApproachReconnect)\n",
        " ListOfMacroSummaryUserApproach.append(MacroSummaryUserApproach)\n",
        " ListOfMicroSummaryUserApproach.append(MicroSummaryUserApproach)\n",
        "\n",
        " #------------------------------------------------------------------------------------------------------------------------------------------------------------\n",
        "\n",
        " smallsNosMomentos.append(Small)\n",
        "\n",
        " #Zerando micros e macros para o próximo momento\n",
        " Small = []\n",
        " Macro = []\n",
        " Small = CriarSmall(5,2000,2000,StationBase)\n",
        " Macro = CriarMacros(1,StationMacro)\n",
        "#end of for\n",
        "\n",
        "#Concatenando o array de dataframe em um único\n",
        "FinalSaidaDataFrame = pd.concat(ListOfSaida)\n",
        "FinalUserDataFrame = pd.concat(ListOfUserDataFrame)\n",
        "FinalSmallDataFrame = pd.concat(ListOfSmallDataFrame)\n",
        "FinalMacroDataFrame = pd.concat(ListOfMacroDataFrame)\n",
        "FinalMicroSummary = pd.concat(ListOfMicroSummary)\n",
        "FinalMacroSummary = pd.concat(ListOfMacroSummary)\n",
        "\n",
        "#Concatenando o array de dataframe APÓS RECONEXÃO baseada na VAZÃO MÉDIA em um único dataframe\n",
        "FinalSaidaDataFrameUserApproach = pd.concat(ListOfSaidaUserApproach)\n",
        "FinalUserDataFrameUserApproach = pd.concat(ListOfUserDataFrameUserApproach)\n",
        "FinalSmallDataFrameUserApproach = pd.concat(ListOfSmallDataFrameUserApproach)\n",
        "FinalMacroDataFrameUserApproach = pd.concat(ListOfMacroDataFrameUserApproach)\n",
        "FinalMicroSummaryUserApproach = pd.concat(ListOfMicroSummaryUserApproach)\n",
        "FinalMacroSummaryUserApproach = pd.concat(ListOfMacroSummaryUserApproach)\n",
        "\n",
        "#Concatenando o array de dataframe APÓS RECONEXÃO baseada na CLUSTERIZAÇÃO pelo K-MEANS em um único dataframe\n",
        "FinalSaidaDataFrameKMeansApproach = pd.concat(ListOfSaidaKMeansApproach)\n",
        "FinalUserDataFrameKMeansApproach = pd.concat(ListOfUserDataFrameKMeansApproach)\n",
        "FinalSmallDataFrameKMeansApproach = pd.concat(ListOfSmallDataFrameKMeansApproach)\n",
        "FinalMacroDataFrameKMeansApproach = pd.concat(ListOfMacroDataFrameKMeansApproach)\n",
        "FinalMicroSummaryKMeansApproach = pd.concat(ListOfMicroSummaryKMeansApproach)\n",
        "FinalMacroSummaryKMeansApproach = pd.concat(ListOfMacroSummaryKMeansApproach)\n",
        "\n",
        "#ORDENAÇÃO\n",
        "#Ordenando Micros por média de DataRate\n",
        "MicroSortedByDR = FinalMicroSummary.groupby('MicroID')['DataRateMean','UsersConnected'].sum().sort_values(by='DataRateMean',ascending=False)\n",
        "atualizarColunaDataRate = MicroSortedByDR['DataRateMean']/24\n",
        "MicroSortedByDR = MicroSortedByDR.replace (MicroSortedByDR['DataRateMean'].values, atualizarColunaDataRate)\n",
        "#Ordenando Micros por quantidade de usuários conectados\n",
        "MicroSortedByUsersConnected = FinalMicroSummary.groupby('MicroID')['DataRateMean','UsersConnected'].sum().sort_values(by='UsersConnected',ascending=False)\n",
        "atualizarColunaDataRate = MicroSortedByUsersConnected['DataRateMean']/24\n",
        "MicroSortedByUsersConnected = MicroSortedByUsersConnected.replace (MicroSortedByUsersConnected['DataRateMean'].values, atualizarColunaDataRate)\n",
        "\n",
        "\n",
        "FinalSaidaDataFrame.to_excel(\"Saida-CalculoResults.xlsx\")\n",
        "FinalUserDataFrame.to_excel(\"User.xlsx\")\n",
        "FinalSmallDataFrame.to_excel(\"Small.xlsx\")\n",
        "FinalMacroDataFrame.to_excel(\"Macro.xlsx\")\n",
        "FinalMicroSummary.to_excel(\"MicroSummary.xlsx\")\n",
        "FinalMacroSummary.to_excel(\"MacroSummary.xlsx\")\n",
        "\n",
        "FinalSaidaDataFrameUserApproach.to_excel(\"Saida-CalculoResultsUserApproach.xlsx\")\n",
        "FinalUserDataFrameUserApproach.to_excel(\"UserUserApproach.xlsx\")\n",
        "FinalSmallDataFrameUserApproach.to_excel(\"SmallUserApproach.xlsx\")\n",
        "FinalMacroDataFrameUserApproach.to_excel(\"MacroUserApproach.xlsx\")\n",
        "FinalMicroSummaryUserApproach.to_excel(\"MicroSummaryUserApproach.xlsx\")\n",
        "FinalMacroSummaryUserApproach.to_excel(\"MacroSummaryUserApproach.xlsx\")\n",
        "\n",
        "FinalSaidaDataFrameKMeansApproach.to_excel(\"Saida-CalculoResultsKMeansApproach.xlsx\")\n",
        "FinalUserDataFrameKMeansApproach.to_excel(\"UserKMeansApproach.xlsx\")\n",
        "FinalSmallDataFrameKMeansApproach.to_excel(\"SmallKMeansApproach.xlsx\")\n",
        "FinalMacroDataFrameKMeansApproach.to_excel(\"MacroKMeansApproach.xlsx\")\n",
        "FinalMicroSummaryKMeansApproach.to_excel(\"MicroSummaryKMeansApproach.xlsx\")\n",
        "FinalMacroSummaryKMeansApproach.to_excel(\"MacroSummaryKMeansApproach.xlsx\")\n",
        "\n",
        "MicroSortedByDR.to_excel(\"MicroSortedByDR.xlsx\")\n",
        "MicroSortedByUsersConnected.to_excel(\"MicroSortedByUsersConnected.xlsx\")\n"
      ]
    },
    {
      "cell_type": "markdown",
      "metadata": {
        "id": "tBO2NtZAHmWp"
      },
      "source": [
        "# New Section"
      ]
    },
    {
      "cell_type": "markdown",
      "metadata": {
        "id": "kwQ78WrFB2Mj"
      },
      "source": [
        "# New Section"
      ]
    }
  ],
  "metadata": {
    "colab": {
      "provenance": [],
      "collapsed_sections": [
        "tBO2NtZAHmWp",
        "kwQ78WrFB2Mj"
      ],
      "toc_visible": true,
      "include_colab_link": true
    },
    "kernelspec": {
      "display_name": "Python 3",
      "name": "python3"
    },
    "language_info": {
      "name": "python"
    }
  },
  "nbformat": 4,
  "nbformat_minor": 0
}